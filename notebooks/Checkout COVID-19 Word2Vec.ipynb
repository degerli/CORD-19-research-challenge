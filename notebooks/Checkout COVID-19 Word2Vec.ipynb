{
 "cells": [
  {
   "cell_type": "markdown",
   "metadata": {},
   "source": [
    "# COVID-19 papers Word2Vec model\n",
    "\n",
    "Model built from the [CORD-19 research challenge](kaggle.com/allen-institute-for-ai/CORD-19-research-challenge) using [this](https://www.kaggle.com/elsonidoq/train-a-word2vec) notebook.\n",
    "\n",
    "You can get it on [here](https://drive.google.com/file/d/1SAsWsA2RgLFgJuwZ0kBLUYE5Xh1t7eF3/view?usp=sharing)"
   ]
  },
  {
   "cell_type": "code",
   "execution_count": 2,
   "metadata": {},
   "outputs": [],
   "source": [
    "from gensim.models import Word2Vec\n",
    "\n",
    "model = Word2Vec.load('covid.w2v')"
   ]
  },
  {
   "cell_type": "code",
   "execution_count": 55,
   "metadata": {},
   "outputs": [
    {
     "data": {
      "text/plain": [
       "('immunities',\n",
       " 'responses',\n",
       " 'immune',\n",
       " 'humoral',\n",
       " 'defenses',\n",
       " 'angioplasticity',\n",
       " 'response',\n",
       " 'protection',\n",
       " 'defense',\n",
       " 'immunopathology',\n",
       " 'autoimmunity')"
      ]
     },
     "execution_count": 55,
     "metadata": {},
     "output_type": "execute_result"
    }
   ],
   "source": [
    "list(zip(*l))[0][:11]"
   ]
  },
  {
   "cell_type": "code",
   "execution_count": 59,
   "metadata": {},
   "outputs": [
    {
     "name": "stdout",
     "output_type": "stream",
     "text": [
      "coronaviruses       0.800\n",
      "covs                0.729\n",
      "betacoronavirus     0.711\n",
      "paramyxovirus       0.708\n",
      "picornavirus        0.701\n",
      "cov                 0.696\n",
      "paramyxoviruses     0.674\n",
      "betacoronaviruses   0.662\n",
      "arterivirus         0.654\n",
      "astrovirus          0.643\n",
      "alphacoronavirus    0.642\n",
      "mrv                 0.639\n",
      "bunyavirus          0.635\n",
      "hcov                0.631\n",
      "torovirus           0.622\n",
      "norovirus           0.613\n",
      "astroviruses        0.613\n",
      "gammaherpesvirus    0.606\n",
      "calicivirus         0.606\n",
      "caliciviruses       0.598\n"
     ]
    }
   ],
   "source": [
    "l = model.wv.most_similar(positive=[''], topn=20)\n",
    "\n",
    "for token, score in l:\n",
    "    print(f'{token:<20}{score:.03f}')"
   ]
  },
  {
   "cell_type": "code",
   "execution_count": 60,
   "metadata": {},
   "outputs": [
    {
     "data": {
      "text/plain": [
       "[('tssb', 0.6641950607299805),\n",
       " ('octopus', 0.6465386748313904),\n",
       " ('endocervix', 0.6382027864456177),\n",
       " ('dsr', 0.6373294591903687),\n",
       " ('trisaccharide', 0.633002519607544),\n",
       " ('acuminata', 0.6280556321144104),\n",
       " ('tssc', 0.6257653832435608),\n",
       " ('nasolacrimal', 0.6251381635665894),\n",
       " ('coacta', 0.6232234239578247),\n",
       " ('astragaloside', 0.6222057342529297),\n",
       " ('ascophyllan', 0.6167644262313843),\n",
       " ('antennae', 0.6162195205688477),\n",
       " ('depositions', 0.6160788536071777),\n",
       " ('heteropolysaccharides', 0.6160362362861633),\n",
       " ('ppt', 0.6116018295288086),\n",
       " ('luteolosides', 0.6098846793174744),\n",
       " ('viridis', 0.6090059280395508),\n",
       " ('pans', 0.6085454225540161),\n",
       " ('stilbenes', 0.6078290939331055),\n",
       " ('apomyoglobin', 0.6066772937774658)]"
      ]
     },
     "execution_count": 60,
     "metadata": {},
     "output_type": "execute_result"
    }
   ],
   "source": [
    "model.wv.most_similar(positive=['vulva', 'man'], negative=['woman'], topn=20)"
   ]
  }
 ],
 "metadata": {
  "kernelspec": {
   "display_name": "Python 3",
   "language": "python",
   "name": "python3"
  },
  "language_info": {
   "codemirror_mode": {
    "name": "ipython",
    "version": 3
   },
   "file_extension": ".py",
   "mimetype": "text/x-python",
   "name": "python",
   "nbconvert_exporter": "python",
   "pygments_lexer": "ipython3",
   "version": "3.7.4"
  }
 },
 "nbformat": 4,
 "nbformat_minor": 2
}
