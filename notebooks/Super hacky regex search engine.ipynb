{
 "cells": [
  {
   "cell_type": "markdown",
   "metadata": {},
   "source": [
    "# Super hacky and slow regex search engine\n",
    "\n",
    "This is just another way for me to understand what's on the data. It's uses regular expressions to browse through the papers and display sorrounding snippets on markdown"
   ]
  },
  {
   "cell_type": "code",
   "execution_count": 1,
   "metadata": {},
   "outputs": [],
   "source": [
    "from pathlib import Path\n",
    "\n",
    "DATA_PATH = Path('/kaggle/input/CORD-19-research-challenge/2020-03-13/')\n",
    "DATA_PATH = Path('~/Downloads/2020-03-13/').expanduser()"
   ]
  },
  {
   "cell_type": "code",
   "execution_count": 2,
   "metadata": {},
   "outputs": [],
   "source": [
    "from tqdm import tqdm\n",
    "import json\n",
    "\n",
    "def iter_papers():\n",
    "    \"\"\"\n",
    "    Iterate over all directories and yields all papers\n",
    "    \"\"\"\n",
    "    dirs = 'comm_use_subset noncomm_use_subset pmc_custom_license biorxiv_medrxiv'.split()\n",
    "    for dir in dirs:\n",
    "        fnames = (DATA_PATH / dir / dir).glob('*')\n",
    "        for fname in fnames:\n",
    "            with fname.open() as f:\n",
    "                content = json.load(f)\n",
    "            yield content    "
   ]
  },
  {
   "cell_type": "code",
   "execution_count": 29,
   "metadata": {},
   "outputs": [],
   "source": [
    "import re\n",
    "from collections import namedtuple\n",
    "\n",
    "Window = namedtuple('Window', ['field', 'left', 'center', 'right'])\n",
    "\n",
    "def _get_win_pat(name, size):\n",
    "    return '(?P<%s>\\w+(\\W+\\w+){,%s})' % (name, size)\n",
    "\n",
    "def iter_fields(paper):\n",
    "    def get(k):\n",
    "        res = paper\n",
    "        for kk in k.split('.'): res=res.get(kk)\n",
    "        return res\n",
    "        \n",
    "    for key in 'abstract body_text metadata.title'.split():\n",
    "        val = get(key)\n",
    "        if isinstance(val, list): val = '\\n\\n'.join([e['text'] for e in val])\n",
    "        \n",
    "        yield key, val\n",
    "\n",
    "def iter_gd(paper, pat_str, left_wsize=5, right_wsize=5):\n",
    "    \"\"\"\n",
    "    Generator for matching snippets\n",
    "    \"\"\"\n",
    "    pat_str = pat_str.replace(' ', '\\W+')\n",
    "    full_pat_str = f\"{_get_win_pat('left', left_wsize)} (?P<center>{pat_str}) {_get_win_pat('right', left_wsize)}\"\n",
    "    pat = re.compile(full_pat_str, re.I | re.M)\n",
    "    \n",
    "    for key, field in iter_fields(paper):\n",
    "        for match in pat.finditer(field):\n",
    "            yield Window(field=key, **match.groupdict())\n"
   ]
  },
  {
   "cell_type": "markdown",
   "metadata": {},
   "source": [
    "# For this first attempt, just limit the papers to those saying either covid or coronavirus on the title"
   ]
  },
  {
   "cell_type": "code",
   "execution_count": 71,
   "metadata": {},
   "outputs": [
    {
     "data": {
      "application/vnd.jupyter.widget-view+json": {
       "model_id": "d664b287dd82454fa31c82ea473035ec",
       "version_major": 2,
       "version_minor": 0
      },
      "text/plain": [
       "HBox(children=(FloatProgress(value=1.0, bar_style='info', description='inserted', max=1.0, style=ProgressStyle…"
      ]
     },
     "metadata": {},
     "output_type": "display_data"
    },
    {
     "data": {
      "application/vnd.jupyter.widget-view+json": {
       "model_id": "589899f94a7f4bf1aaba5939cc9c90a8",
       "version_major": 2,
       "version_minor": 0
      },
      "text/plain": [
       "HBox(children=(FloatProgress(value=1.0, bar_style='info', max=1.0), HTML(value='')))"
      ]
     },
     "metadata": {},
     "output_type": "display_data"
    },
    {
     "name": "stdout",
     "output_type": "stream",
     "text": [
      "\n"
     ]
    }
   ],
   "source": [
    "it = iter_papers()\n",
    "\n",
    "from tqdm.auto import tqdm\n",
    "\n",
    "inserted = tqdm(desc='inserted')\n",
    "covid_papers = []\n",
    "all_papers = []\n",
    "pat = re.compile('covid|coronavirus', re.I)\n",
    "all_papers = list(tqdm(iter_papers()))\n",
    "\n",
    "for p in tqdm(all_papers):\n",
    "    all_papers.append(p)\n",
    "    if pat.search(p['metadata']['title']): \n",
    "        covid_papers.append(p)\n",
    "        inserted.update()"
   ]
  },
  {
   "cell_type": "code",
   "execution_count": 25,
   "metadata": {},
   "outputs": [
    {
     "data": {
      "application/vnd.jupyter.widget-view+json": {
       "model_id": "ee37ff6a03484ec7b5cd33ce4f96d4c0",
       "version_major": 2,
       "version_minor": 0
      },
      "text/plain": [
       "HBox(children=(FloatProgress(value=1.0, bar_style='info', max=1.0), HTML(value='')))"
      ]
     },
     "metadata": {},
     "output_type": "display_data"
    },
    {
     "name": "stdout",
     "output_type": "stream",
     "text": [
      "\n"
     ]
    }
   ],
   "source": []
  },
  {
   "cell_type": "code",
   "execution_count": 40,
   "metadata": {},
   "outputs": [
    {
     "data": {
      "application/vnd.jupyter.widget-view+json": {
       "model_id": "5a8729dfda154467aec7fb8a69e92a1f",
       "version_major": 2,
       "version_minor": 0
      },
      "text/plain": [
       "HBox(children=(FloatProgress(value=0.0, max=13202.0), HTML(value='')))"
      ]
     },
     "metadata": {},
     "output_type": "display_data"
    },
    {
     "name": "stdout",
     "output_type": "stream",
     "text": [
      "\n"
     ]
    }
   ],
   "source": [
    "from IPython.display import display, Markdown\n",
    "\n",
    "dm = lambda x: display(Markdown(x))\n",
    "\n",
    "pat_matches = []\n",
    "pat_str = (\n",
    "    'transmission|incubation|environmental stability|nasal discharge|sputum|urine|fecal matter|blood|'\n",
    "    'virus persistence|diagnosis|diagnostic|phenotypic|immune response|immunity'\n",
    ")\n",
    "for paper in tqdm(all_papers):\n",
    "    pat_matches.extend(\n",
    "        iter_gd(\n",
    "            paper, pat_str, left_wsize=30, right_wsize=30\n",
    "        )\n",
    "    )\n",
    "    "
   ]
  },
  {
   "cell_type": "code",
   "execution_count": 41,
   "metadata": {},
   "outputs": [],
   "source": [
    "import pickle as pkl\n",
    "\n",
    "# with open('all_matches.pkl', 'wb') as f:\n",
    "#     pkl.dump(pat_matches, f, 4)"
   ]
  },
  {
   "cell_type": "code",
   "execution_count": 56,
   "metadata": {},
   "outputs": [],
   "source": [
    "matches_distr = defaultdict(lambda: defaultdict(int))\n",
    "\n",
    "for match in pat_matches:\n",
    "    for tok in tokenize(match.left + ' ' + match.right):\n",
    "        matches_distr[' '.join(tokenize(match.center.lower()))][tok] += 1"
   ]
  },
  {
   "cell_type": "code",
   "execution_count": 48,
   "metadata": {},
   "outputs": [
    {
     "data": {
      "application/vnd.jupyter.widget-view+json": {
       "model_id": "6eacf236ddf24a70b6b12c8fa3d0d0be",
       "version_major": 2,
       "version_minor": 0
      },
      "text/plain": [
       "HBox(children=(FloatProgress(value=0.0, max=13202.0), HTML(value='')))"
      ]
     },
     "metadata": {},
     "output_type": "display_data"
    },
    {
     "name": "stdout",
     "output_type": "stream",
     "text": [
      "\n"
     ]
    }
   ],
   "source": [
    "from tqdm.auto import tqdm\n",
    "from collections import defaultdict\n",
    "from nltk.corpus import stopwords\n",
    "\n",
    "stopwords = set(stopwords.words('english'))\n",
    "\n",
    "pat = re.compile('\\w+')\n",
    "\n",
    "def tokenize(txt):\n",
    "    return [tok for tok in pat.findall(txt.lower()) if tok not in stopwords]\n",
    "\n",
    "default_distr = defaultdict(int)\n",
    "for paper in tqdm(relevant):\n",
    "    for _, field in iter_fields(paper):\n",
    "        for tok in tokenize(field):\n",
    "            default_distr[tok] += 1\n",
    "    "
   ]
  },
  {
   "cell_type": "code",
   "execution_count": 57,
   "metadata": {},
   "outputs": [
    {
     "data": {
      "text/plain": [
       "dict_keys(['diagnostic', 'incubation', 'immunity', 'nasal discharge', 'immune response', 'diagnosis', 'blood', 'transmission', 'phenotypic', 'sputum', 'virus persistence', 'urine', 'fecal matter', 'environmental stability'])"
      ]
     },
     "execution_count": 57,
     "metadata": {},
     "output_type": "execute_result"
    }
   ],
   "source": [
    "matches_distr.keys()"
   ]
  },
  {
   "cell_type": "code",
   "execution_count": 94,
   "metadata": {
    "scrolled": false
   },
   "outputs": [
    {
     "data": {
      "text/plain": [
       "[('humanto', 0.6710526315789473),\n",
       " ('tohuman', 0.6131386861313869),\n",
       " ('agmps', 0.5671641791044776),\n",
       " ('crossspecies', 0.5272727272727272),\n",
       " ('mdrgn', 0.48148148148148145),\n",
       " ('fomite', 0.46779661016949153),\n",
       " ('interspecies', 0.4674457429048414),\n",
       " ('stuttering', 0.45132743362831856),\n",
       " ('cauchemez', 0.44285714285714284),\n",
       " ('jem', 0.41836734693877553),\n",
       " ('onward', 0.4106583072100313),\n",
       " ('ultramicrotome', 0.4074074074074074),\n",
       " ('jeol', 0.4),\n",
       " ('outbreaker', 0.4),\n",
       " ('fomites', 0.3730964467005076),\n",
       " ('subcritical', 0.37),\n",
       " ('perv', 0.3620689655172414),\n",
       " ('superspreading', 0.34980988593155893),\n",
       " ('multihost', 0.3492063492063492),\n",
       " ('spreaders', 0.34296028880866425),\n",
       " ('presymptomatic', 0.3287671232876712),\n",
       " ('uranyl', 0.3253731343283582),\n",
       " ('hitachi', 0.3229166666666667),\n",
       " ('superspreaders', 0.3221476510067114),\n",
       " ('phosphotungstic', 0.313953488372093),\n",
       " ('airborne', 0.31272563176895307),\n",
       " ('tecnai', 0.30701754385964913),\n",
       " ('gatan', 0.3068181818181818),\n",
       " ('aphid', 0.3006993006993007),\n",
       " ('ird', 0.28865979381443296)]"
      ]
     },
     "execution_count": 94,
     "metadata": {},
     "output_type": "execute_result"
    }
   ],
   "source": [
    "relevance = {tok: cnt / default_distr[tok] for tok, cnt in matches_distr['transmission'].items() if cnt > 20}\n",
    "relevant_keywords = sorted(relevance.items(), key=lambda x: -x[1])[:30]\n",
    "relevant_keywords"
   ]
  },
  {
   "cell_type": "code",
   "execution_count": 119,
   "metadata": {},
   "outputs": [
    {
     "data": {
      "application/vnd.jupyter.widget-view+json": {
       "model_id": "0a0114045ec44afb83a30f457c102609",
       "version_major": 2,
       "version_minor": 0
      },
      "text/plain": [
       "HBox(children=(FloatProgress(value=0.0, max=1158.0), HTML(value='')))"
      ]
     },
     "metadata": {},
     "output_type": "display_data"
    },
    {
     "name": "stdout",
     "output_type": "stream",
     "text": [
      "\n"
     ]
    }
   ],
   "source": [
    "transmission_matches = []\n",
    "for paper in tqdm(covid_papers):\n",
    "    for match in iter_gd(paper, 'transmission', 60, 60):\n",
    "        transmission_matches.append((paper, match))"
   ]
  },
  {
   "cell_type": "code",
   "execution_count": 107,
   "metadata": {},
   "outputs": [
    {
     "data": {
      "application/vnd.jupyter.widget-view+json": {
       "model_id": "54a84bd5fc04435da3548100b37c4e85",
       "version_major": 2,
       "version_minor": 0
      },
      "text/plain": [
       "HBox(children=(FloatProgress(value=0.0, max=2351.0), HTML(value='')))"
      ]
     },
     "metadata": {},
     "output_type": "display_data"
    },
    {
     "name": "stdout",
     "output_type": "stream",
     "text": [
      "\n"
     ]
    }
   ],
   "source": [
    "from collections import defaultdict\n",
    "from IPython.display import display, Markdown\n",
    "\n",
    "dm = lambda x: display(Markdown(x))\n",
    "\n",
    "d = defaultdict(list)\n",
    "\n",
    "patterns = [(k, re.compile(f'(\\W|^)({k})(\\W|$)', re.I)) for k, _ in relevant_keywords]\n",
    "\n",
    "for match in tqdm(transmission_matches):\n",
    "    txt = match.left + ' ' + match.center + ' ' + match.right\n",
    "    for k, p in patterns:\n",
    "        if p.search(txt): \n",
    "            d[k].append(match)\n"
   ]
  },
  {
   "cell_type": "code",
   "execution_count": 110,
   "metadata": {},
   "outputs": [
    {
     "data": {
      "text/plain": [
       "Window(field='abstract', left='NL63] and ß-CoV [including HCoV-OC43, HKU1, Severe Acute Respiratory Syndrome CoV (SARS-CoV) and Middle East Respiratory Syndrome CoV (MERS-CoV)] are known to infect human beings 1 .\\n\\nInterspecies', center='transmission', right='is a common phenomenon for CoVs that may be responsible for generation of new CoV epidemics during viral evolution 2-5 . For instance, the feline CoV (FCoV) type II, a member')"
      ]
     },
     "execution_count": 110,
     "metadata": {},
     "output_type": "execute_result"
    }
   ],
   "source": [
    "d['interspecies'][0]"
   ]
  },
  {
   "cell_type": "code",
   "execution_count": 111,
   "metadata": {},
   "outputs": [],
   "source": [
    "re.sub?"
   ]
  },
  {
   "cell_type": "code",
   "execution_count": 118,
   "metadata": {
    "scrolled": false
   },
   "outputs": [
    {
     "data": {
      "text/markdown": [
       "## interspecies"
      ],
      "text/plain": [
       "<IPython.core.display.Markdown object>"
      ]
     },
     "metadata": {},
     "output_type": "display_data"
    },
    {
     "data": {
      "text/markdown": [
       "NL63] and ß-CoV [including HCoV-OC43, HKU1, Severe Acute Respiratory Syndrome CoV (SARS-CoV) and Middle East Respiratory Syndrome CoV (MERS-CoV)] are known to infect human beings 1 .\n",
       "\n",
       "**Interspecies** **transmission** is a common phenomenon for CoVs that may be responsible for generation of new CoV epidemics during viral evolution 2-5 . For instance, the feline CoV (FCoV) type II, a member"
      ],
      "text/plain": [
       "<IPython.core.display.Markdown object>"
      ]
     },
     "metadata": {},
     "output_type": "display_data"
    },
    {
     "data": {
      "text/markdown": [
       "---"
      ],
      "text/plain": [
       "<IPython.core.display.Markdown object>"
      ]
     },
     "metadata": {},
     "output_type": "display_data"
    },
    {
     "data": {
      "text/markdown": [
       "outbreaks that continuously threaten human health 2,3 . This phenomenon is exemplified by the recent emergence of SARS-CoV and MERS-CoV 6,7 . However, the detailed evolutionary mechanism of **interspecies** **transmission** and the persistence of CoVs in specific hosts have yet to be fully elucidated"
      ],
      "text/plain": [
       "<IPython.core.display.Markdown object>"
      ]
     },
     "metadata": {},
     "output_type": "display_data"
    },
    {
     "data": {
      "text/markdown": [
       "---"
      ],
      "text/plain": [
       "<IPython.core.display.Markdown object>"
      ]
     },
     "metadata": {},
     "output_type": "display_data"
    },
    {
     "data": {
      "text/markdown": [
       "in different poultry species. The discovery of pigeon ANV that is related to chicken ANV supports the likelihood of cross-infection between pigeons and chicken [21, 22] . Additional evidence for **interspecies** **transmission** among avian AstVs was provided by the identification of guinea fowl AstV, that is related to turkey AstV type 2 [23] , and the subsequent experimental infections conducted with both viruses in"
      ],
      "text/plain": [
       "<IPython.core.display.Markdown object>"
      ]
     },
     "metadata": {},
     "output_type": "display_data"
    },
    {
     "data": {
      "text/markdown": [
       "---"
      ],
      "text/plain": [
       "<IPython.core.display.Markdown object>"
      ]
     },
     "metadata": {},
     "output_type": "display_data"
    },
    {
     "data": {
      "text/markdown": [
       "a small sample set demonstrates the potential diversity of novel avian viruses yet to be identified. The phylogenetic relation of sanderling AstV to ANV-1 may indicate a potential for **interspecies** **transmission** between wild birds and poultry also suggested by others [21, 22, 23, 24] . The CoV sequences reported here along with recent discoveries by others [28, 29] imply a vast diversity among"
      ],
      "text/plain": [
       "<IPython.core.display.Markdown object>"
      ]
     },
     "metadata": {},
     "output_type": "display_data"
    },
    {
     "data": {
      "text/markdown": [
       "---"
      ],
      "text/plain": [
       "<IPython.core.display.Markdown object>"
      ]
     },
     "metadata": {},
     "output_type": "display_data"
    },
    {
     "data": {
      "text/markdown": [
       "the middle and late phase of the pandemic the ORF8 was disrupted into two ORFs, ORF8a and ORF8b, as a result of the acquisition of a 29-nt deletion after **interspecies** **transmission** to humans [8, 40, 62] . The SL-CoVs from Rhinolophus sinicus, including Rs3367, however, had a single ORF8 with only 32-33 % amino acid identities to that of civet SARS-CoV"
      ],
      "text/plain": [
       "<IPython.core.display.Markdown object>"
      ]
     },
     "metadata": {},
     "output_type": "display_data"
    },
    {
     "data": {
      "text/markdown": [
       "---"
      ],
      "text/plain": [
       "<IPython.core.display.Markdown object>"
      ]
     },
     "metadata": {},
     "output_type": "display_data"
    },
    {
     "data": {
      "text/markdown": [
       "Different species of rhinolophid bats in China carry genetically diverse SARS-like coronaviruses, some of which are direct ancestors of SARS-CoV and hence have the potential to cause direct **interspecies** **transmission** to humans. Meanwhile, different coronavirus species closely related to MERS-CoV are circulating in bats. Bats are likely natural reservoirs of MERS-CoV or an ancestral MERS-like CoV. It is"
      ],
      "text/plain": [
       "<IPython.core.display.Markdown object>"
      ]
     },
     "metadata": {},
     "output_type": "display_data"
    },
    {
     "data": {
      "text/markdown": [
       "---"
      ],
      "text/plain": [
       "<IPython.core.display.Markdown object>"
      ]
     },
     "metadata": {},
     "output_type": "display_data"
    },
    {
     "data": {
      "text/markdown": [
       "infection, a focus on continued surveillance will help us to improve risk assessment as well as to reveal the potential intermediate hosts that may play an important role in the **interspecies** **transmission** of various known and as yet unknown bat coronaviruses. \n",
       "\n",
       "The authors declare that they have no competing interests.\n",
       "\n",
       "Authors' contributions ZS developed the structural design of the review. BH and XG"
      ],
      "text/plain": [
       "<IPython.core.display.Markdown object>"
      ]
     },
     "metadata": {},
     "output_type": "display_data"
    },
    {
     "data": {
      "text/markdown": [
       "---"
      ],
      "text/plain": [
       "<IPython.core.display.Markdown object>"
      ]
     },
     "metadata": {},
     "output_type": "display_data"
    },
    {
     "data": {
      "text/markdown": [
       "by bird feces or other excretions are tested. The SpDCoV sequence data reported in this study may help determine the evolutionary relationship of various DCoVs and help to understand the **interspecies** **transmission** of DCoVs in future studies"
      ],
      "text/plain": [
       "<IPython.core.display.Markdown object>"
      ]
     },
     "metadata": {},
     "output_type": "display_data"
    },
    {
     "data": {
      "text/markdown": [
       "---"
      ],
      "text/plain": [
       "<IPython.core.display.Markdown object>"
      ]
     },
     "metadata": {},
     "output_type": "display_data"
    },
    {
     "data": {
      "text/markdown": [
       "that may later spillover into human populations and cause disease. Knowledge of potential intermediate hosts of human coronaviruses will also provide information on the evolution of coronaviruses in general and **interspecies** **transmission** events that lead to emergence. The purpose of this study was therefore to assess the potential of domestic livestock species as intermediate hosts for HCoV-NL63.\n",
       "\n",
       "Commercial and household livestock farms"
      ],
      "text/plain": [
       "<IPython.core.display.Markdown object>"
      ]
     },
     "metadata": {},
     "output_type": "display_data"
    },
    {
     "data": {
      "text/markdown": [
       "---"
      ],
      "text/plain": [
       "<IPython.core.display.Markdown object>"
      ]
     },
     "metadata": {},
     "output_type": "display_data"
    },
    {
     "data": {
      "text/markdown": [
       "sampling location at a country park in Hong Kong. This suggests that these viruses may have evolved among geographically close but phylogenetically distant bat populations. We have also previously described **interspecies** **transmission** of BatCoV HKU10 between Rousettus leschenaultii and Hipposideros pomona bats which belonged to two different bat families [42] . Given that the genetic cluster formed by Rs-BatCoV HKU32, BatCoV HKU10, BtRs"
      ],
      "text/plain": [
       "<IPython.core.display.Markdown object>"
      ]
     },
     "metadata": {},
     "output_type": "display_data"
    },
    {
     "data": {
      "text/markdown": [
       "---"
      ],
      "text/plain": [
       "<IPython.core.display.Markdown object>"
      ]
     },
     "metadata": {},
     "output_type": "display_data"
    },
    {
     "data": {
      "text/markdown": [
       "sampling location at a country park in Hong Kong. This suggests that these viruses may have evolved among geographically close but phylogenetically distant bat populations. We have also previously described **interspecies** **transmission** of BatCoV HKU10 between Rousettus leschenaultii and Hipposideros pomona bats which belonged to two different bat families [42] . Given that the genetic cluster formed by Rs-BatCoV HKU32, BatCoV HKU10, BtRs"
      ],
      "text/plain": [
       "<IPython.core.display.Markdown object>"
      ]
     },
     "metadata": {},
     "output_type": "display_data"
    },
    {
     "data": {
      "text/markdown": [
       "---"
      ],
      "text/plain": [
       "<IPython.core.display.Markdown object>"
      ]
     },
     "metadata": {},
     "output_type": "display_data"
    },
    {
     "data": {
      "text/markdown": [
       "of a real concern. Coronaviruses are a large family of enveloped, single-stranded RNA viruses that infect a number of different species, including humans. They are usually species specific, however **interspecies** **transmission** of coronaviruses can occur [8] [9] [10] . Worryingly, in vitro studies show that NCoV is also capable of infecting cells from different species, including monkeys, humans, bats and pigs [2, 11"
      ],
      "text/plain": [
       "<IPython.core.display.Markdown object>"
      ]
     },
     "metadata": {},
     "output_type": "display_data"
    },
    {
     "data": {
      "text/markdown": [
       "---"
      ],
      "text/plain": [
       "<IPython.core.display.Markdown object>"
      ]
     },
     "metadata": {},
     "output_type": "display_data"
    },
    {
     "data": {
      "text/markdown": [
       "as being 2.93E8 y.a. (Wertheim et al., 2013) , while the upper limit (2.44E5) is related to a time compatible with early humans, in agreement with the suggested **interspecies** **transmission** of a betacoronavirus prior to the HCoV-OC43/BCoV split (Vijgen et al., 2006) . Such a large time span might be due to the lack of data from hosts and coronaviruses"
      ],
      "text/plain": [
       "<IPython.core.display.Markdown object>"
      ]
     },
     "metadata": {},
     "output_type": "display_data"
    },
    {
     "data": {
      "text/markdown": [
       "---"
      ],
      "text/plain": [
       "<IPython.core.display.Markdown object>"
      ]
     },
     "metadata": {},
     "output_type": "display_data"
    },
    {
     "data": {
      "text/markdown": [
       "spike protein on the virion surface is the most critical protein, as it mediates both cell attachment and membrane fusion; a few nucleotide changes on the spike gene can cause **interspecies** **transmission** 6 . The spike protein primarily consists of three segments, i.e., an ectodomain, a transmembrane anchor, and a short intracellular tail. The ectodomain has two subunits for invading hosts: S1 is"
      ],
      "text/plain": [
       "<IPython.core.display.Markdown object>"
      ]
     },
     "metadata": {},
     "output_type": "display_data"
    },
    {
     "data": {
      "text/markdown": [
       "---"
      ],
      "text/plain": [
       "<IPython.core.display.Markdown object>"
      ]
     },
     "metadata": {},
     "output_type": "display_data"
    },
    {
     "data": {
      "text/markdown": [
       "hints regarding natural hosts or potential hosts of the virus and can be used to guide the selection of the cells for virus isolation or to explore the probability of **interspecies** **transmission** of coronaviruses.\n",
       "\n",
       "Nucleotide composition analysis. Nineteen parameters, including three mononucleotide frequencies (G, C and T) and 16 dinucleotide biases, were computed from 777 spike gene sequences (see Supplementary Table S1 ). All"
      ],
      "text/plain": [
       "<IPython.core.display.Markdown object>"
      ]
     },
     "metadata": {},
     "output_type": "display_data"
    },
    {
     "data": {
      "text/markdown": [
       "---"
      ],
      "text/plain": [
       "<IPython.core.display.Markdown object>"
      ]
     },
     "metadata": {},
     "output_type": "display_data"
    },
    {
     "data": {
      "text/markdown": [
       "shares the same ancestor with bovine-coronaviruses 31 . Our analysis supports the finding that this coronavirus is capable of infecting bovine. These analyses imply that this strain is capable of **interspecies** **transmission** between bovines and alpacas. Samples 46 and 47 are enteric coronaviruses from bovines and humans; they have been identified as the same strain named \"Human enteric coronavirus 4408\" in the NCBI"
      ],
      "text/plain": [
       "<IPython.core.display.Markdown object>"
      ]
     },
     "metadata": {},
     "output_type": "display_data"
    },
    {
     "data": {
      "text/markdown": [
       "---"
      ],
      "text/plain": [
       "<IPython.core.display.Markdown object>"
      ]
     },
     "metadata": {},
     "output_type": "display_data"
    },
    {
     "data": {
      "text/markdown": [
       "the viruses that are capable of spreading across a host species barrier, the combination of the MD and the SVM is valuable for assessing their potential threat. The origin and **interspecies** **transmission** of coronaviruses have been extensively discussed in the past ten years, and the coronaviruses of most mammals are believed to originate from their ancestors in bats 1, 36, 37 . Our analysis"
      ],
      "text/plain": [
       "<IPython.core.display.Markdown object>"
      ]
     },
     "metadata": {},
     "output_type": "display_data"
    },
    {
     "data": {
      "text/markdown": [
       "---"
      ],
      "text/plain": [
       "<IPython.core.display.Markdown object>"
      ]
     },
     "metadata": {},
     "output_type": "display_data"
    },
    {
     "data": {
      "text/markdown": [
       "provide meaningful hints regarding its origin and potential threat to humans or other animals. As soon as more virus genomes are sequenced, this approach can be applied to investigate the **interspecies** **transmission** route of other threatening viruses, including the recent Ebola outbreak in West Africa.\n",
       "\n",
       "Data preparation. All genome sequences and complete coding sequences (CDSs) of spike genes were downloaded from the National"
      ],
      "text/plain": [
       "<IPython.core.display.Markdown object>"
      ]
     },
     "metadata": {},
     "output_type": "display_data"
    },
    {
     "data": {
      "text/markdown": [
       "---"
      ],
      "text/plain": [
       "<IPython.core.display.Markdown object>"
      ]
     },
     "metadata": {},
     "output_type": "display_data"
    },
    {
     "data": {
      "text/markdown": [
       "viruses have been verified or suspected to have the ability to infect different hosts; thus, all 47 sequences were employed Scientific RepoRts | 5:17155 | DOI: 10.1038/srep17155 to explore **interspecies** **transmission** of coronaviruses. Viruses from other mammals, including canines, felines, rabbits, equines, alpacas and whales, were excluded from the data set as the number of spike sequences for each host is insufficient"
      ],
      "text/plain": [
       "<IPython.core.display.Markdown object>"
      ]
     },
     "metadata": {},
     "output_type": "display_data"
    },
    {
     "data": {
      "text/markdown": [
       "---"
      ],
      "text/plain": [
       "<IPython.core.display.Markdown object>"
      ]
     },
     "metadata": {},
     "output_type": "display_data"
    },
    {
     "data": {
      "text/markdown": [
       "plays a key role in SARS-CoV overcoming species barrier and accomplishing **interspecies** **transmission** from animals to humans, suggesting that it may be the major target of selective pressure. However, the process of adaptive evolution of S protein and the exact positively selected sites associated"
      ],
      "text/plain": [
       "<IPython.core.display.Markdown object>"
      ]
     },
     "metadata": {},
     "output_type": "display_data"
    },
    {
     "data": {
      "text/markdown": [
       "---"
      ],
      "text/plain": [
       "<IPython.core.display.Markdown object>"
      ]
     },
     "metadata": {},
     "output_type": "display_data"
    },
    {
     "data": {
      "text/markdown": [
       "04 **interspecies**, 03-early-mid, and 03-late epidemic groups in the present study. Positive selection was detected in the first two groups, which represent the course of SARS-CoV **interspecies** **transmission** and of viral adaptation to human host, respectively. In contrast, purifying selection was detected in 03-late group. These indicate that S protein experiences variable positive selective pressures before reaching stabilization"
      ],
      "text/plain": [
       "<IPython.core.display.Markdown object>"
      ]
     },
     "metadata": {},
     "output_type": "display_data"
    },
    {
     "data": {
      "text/markdown": [
       "---"
      ],
      "text/plain": [
       "<IPython.core.display.Markdown object>"
      ]
     },
     "metadata": {},
     "output_type": "display_data"
    },
    {
     "data": {
      "text/markdown": [
       "angiotensin-converting enzyme-2 (ACE2), which serves as the functional receptor of SARS-CoV [10, 11] . Domain S2 mediates viral entry into host cells [12, 13] . Previous works indicated that **interspecies** **transmission** may be due to the acquisition of mutations in S protein which allows human infection, suggesting that S protein ought to be a major target of selective pressure [6, 7, 14"
      ],
      "text/plain": [
       "<IPython.core.display.Markdown object>"
      ]
     },
     "metadata": {},
     "output_type": "display_data"
    },
    {
     "data": {
      "text/markdown": [
       "---"
      ],
      "text/plain": [
       "<IPython.core.display.Markdown object>"
      ]
     },
     "metadata": {},
     "output_type": "display_data"
    },
    {
     "data": {
      "text/markdown": [
       "human transmission). The two steps together result in eventual establishment of stable infection necessary for efficient spread within human hosts.\n",
       "\n",
       "In order to better reflect the course of viral trans-species **transmission** and subsequent adaptation to human hosts, the collection of SARS isolates was reclassified into three epidemic groups: 02-04 **interspecies**, 03-early-mid, and 03-late epidemic groups in the present"
      ],
      "text/plain": [
       "<IPython.core.display.Markdown object>"
      ]
     },
     "metadata": {},
     "output_type": "display_data"
    },
    {
     "data": {
      "text/markdown": [
       "---"
      ],
      "text/plain": [
       "<IPython.core.display.Markdown object>"
      ]
     },
     "metadata": {},
     "output_type": "display_data"
    },
    {
     "data": {
      "text/markdown": [
       "of slightly different genomes, sometimes referred to as a mutant spectra [3] . The high mutation rate of RNA viruses increases the ability of these viruses to adapt to diverse hosts (**interspecies** **transmission** events) and the potential cause new human and zoonotic diseases [4] , however, very little is known about the particular mutations that enable **interspecies** transmission events to occur.\n",
       "\n",
       "Coronaviruses are particularly adept"
      ],
      "text/plain": [
       "<IPython.core.display.Markdown object>"
      ]
     },
     "metadata": {},
     "output_type": "display_data"
    },
    {
     "data": {
      "text/markdown": [
       "---"
      ],
      "text/plain": [
       "<IPython.core.display.Markdown object>"
      ]
     },
     "metadata": {},
     "output_type": "display_data"
    },
    {
     "data": {
      "text/markdown": [
       "their amazing capacity for genome recombination. Coronaviruses have the largest genome of RNA viruses, consisting of 27-30 kb positive sense single-stranded RNA. Although recombination can lead to an **interspecies** **transmission** event, as was believed to be the case with SARS-CoV, accumulation of point mutations may also enable the coronaviruses to adapt to new host species [5] [6] [7] .\n",
       "\n",
       "The Coronaviridae"
      ],
      "text/plain": [
       "<IPython.core.display.Markdown object>"
      ]
     },
     "metadata": {},
     "output_type": "display_data"
    },
    {
     "data": {
      "text/markdown": [
       "---"
      ],
      "text/plain": [
       "<IPython.core.display.Markdown object>"
      ]
     },
     "metadata": {},
     "output_type": "display_data"
    },
    {
     "data": {
      "text/markdown": [
       "in the BCoV genome that is likely to impact phenotype suggests that this type of in-depth analysis of viral populations may be necessary to fully understand evolutionary mechanisms and **interspecies** **transmission** events. Indeed, a similar finding was recently described for foot-andmouth disease virus (FMDV) where deep Illumina sequencing revealed a genotype present at the subconsensus level that enabled the virus to"
      ],
      "text/plain": [
       "<IPython.core.display.Markdown object>"
      ]
     },
     "metadata": {},
     "output_type": "display_data"
    },
    {
     "data": {
      "text/markdown": [
       "---"
      ],
      "text/plain": [
       "<IPython.core.display.Markdown object>"
      ]
     },
     "metadata": {},
     "output_type": "display_data"
    },
    {
     "data": {
      "text/markdown": [
       "spike protein through pseudotyped retrovirus entry with human, bat and other mammalian cell lines. Most of cell lines screened were unsusceptible to BtCoV/Rh/YN2012, indicating a low risk of **interspecies** **transmission** to human and other animals. Multiple reasons may lead to failed infection of coronavirus spike-pseudotyped retrovirus system, including receptor absence in target cells, failed recognition to the receptor homologue from"
      ],
      "text/plain": [
       "<IPython.core.display.Markdown object>"
      ]
     },
     "metadata": {},
     "output_type": "display_data"
    },
    {
     "data": {
      "text/markdown": [
       "---"
      ],
      "text/plain": [
       "<IPython.core.display.Markdown object>"
      ]
     },
     "metadata": {},
     "output_type": "display_data"
    },
    {
     "data": {
      "text/markdown": [
       "related mostly to the age of bat rather than location, sex or season. The **interspecies** **transmission** of CoV among different bat genus or family demonstrated the possibility of spillover and the potential for emergence of zoonotic viruses into the human population. This data provides the first long"
      ],
      "text/plain": [
       "<IPython.core.display.Markdown object>"
      ]
     },
     "metadata": {},
     "output_type": "display_data"
    },
    {
     "data": {
      "text/markdown": [
       "---"
      ],
      "text/plain": [
       "<IPython.core.display.Markdown object>"
      ]
     },
     "metadata": {},
     "output_type": "display_data"
    },
    {
     "data": {
      "text/markdown": [
       "human activities on the ecosystems is unlikely to abate in SEA, it is necessary to increase CoV surveillance in wildlife, cattle, pets and humans to better understand the dynamics of **interspecies** **transmission** and improve risk assessment, early warning and intervention (Devaux, 2012) . It will certainly be crucial to pay special attention to \"superspreaders\" who are very efficient at transmitting CoVs through exposure to"
      ],
      "text/plain": [
       "<IPython.core.display.Markdown object>"
      ]
     },
     "metadata": {},
     "output_type": "display_data"
    },
    {
     "data": {
      "text/markdown": [
       "---"
      ],
      "text/plain": [
       "<IPython.core.display.Markdown object>"
      ]
     },
     "metadata": {},
     "output_type": "display_data"
    },
    {
     "data": {
      "text/markdown": [
       "56] [57] ( Figure 2) . The last CoV that should be mentioned is HKU10-CoV. HKU10-CoVs can be found in bats from different genera (Rousettus leschenaultii and Hipposideros pomona), suggesting **interspecies** **transmission** between bats [7, 26, 27, 39] . A genetic difference can also be observed for this virus species (Figure 2 ). Above all, these viruses fit well in our SADS prediction model and"
      ],
      "text/plain": [
       "<IPython.core.display.Markdown object>"
      ]
     },
     "metadata": {},
     "output_type": "display_data"
    },
    {
     "data": {
      "text/markdown": [
       "---"
      ],
      "text/plain": [
       "<IPython.core.display.Markdown object>"
      ]
     },
     "metadata": {},
     "output_type": "display_data"
    },
    {
     "data": {
      "text/markdown": [
       "followed by NL63-like; only one sample was positive for HCoV-229E and one for HCoV-HKU1. Feline-like CoV strains were detected in three samples, representing possible evidence of **interspecies** **transmission** or a new human strain. Seventeen percent of the coronavirus positive samples were also positive for other respiratory viruses, such as Respiratory Syncytial Virus (RSV), Parainfluenza 2 and 3, and Rhinovirus"
      ],
      "text/plain": [
       "<IPython.core.display.Markdown object>"
      ]
     },
     "metadata": {},
     "output_type": "display_data"
    },
    {
     "data": {
      "text/markdown": [
       "---"
      ],
      "text/plain": [
       "<IPython.core.display.Markdown object>"
      ]
     },
     "metadata": {},
     "output_type": "display_data"
    },
    {
     "data": {
      "text/markdown": [
       "to the novel genus δ-CoV [9]. These three novel δ-CoVs clustered with a δ-CoV detected in Asian leopard cats [10]; however, further studies are necessary to understand **interspecies** **transmission** from birds [9]. In a surveillance study in Hong Kong and Cambodia, δ-CoVs were found in different wild aquatic birds: gray herons, pond herons, great cormorants, black-faced spoonbills, and"
      ],
      "text/plain": [
       "<IPython.core.display.Markdown object>"
      ]
     },
     "metadata": {},
     "output_type": "display_data"
    },
    {
     "data": {
      "text/markdown": [
       "---"
      ],
      "text/plain": [
       "<IPython.core.display.Markdown object>"
      ]
     },
     "metadata": {},
     "output_type": "display_data"
    },
    {
     "data": {
      "text/markdown": [
       "of CoVs in vinaceous-breasted amazon and plain parakeet, that were closely related to δ-CoVs from birds (SpaCoV HKU17) and swine (PorCoV). This emphasizes the increased risk for direct **interspecies** **transmission** and that in contrast to waterfowl, terrestrial birds may act as intermediate hosts and are commonly found in the sites of bird-swine co-mingling [8]. In Finland, two different avian"
      ],
      "text/plain": [
       "<IPython.core.display.Markdown object>"
      ]
     },
     "metadata": {},
     "output_type": "display_data"
    },
    {
     "data": {
      "text/markdown": [
       "---"
      ],
      "text/plain": [
       "<IPython.core.display.Markdown object>"
      ]
     },
     "metadata": {},
     "output_type": "display_data"
    },
    {
     "data": {
      "text/markdown": [
       "in the Americas. Since porcine δ-CoV often results in severe clinical disease and mortality in piglets, which impacts the swine industry, it is important to understand the morbidity and **interspecies** **transmission** rates between birds and pigs [4, 5] . Due to their flocking behavior and abilities to fly long distances, birds can play a role in the dissemination of δ-CoVs among themselves"
      ],
      "text/plain": [
       "<IPython.core.display.Markdown object>"
      ]
     },
     "metadata": {},
     "output_type": "display_data"
    },
    {
     "data": {
      "text/markdown": [
       "---"
      ],
      "text/plain": [
       "<IPython.core.display.Markdown object>"
      ]
     },
     "metadata": {},
     "output_type": "display_data"
    },
    {
     "data": {
      "text/markdown": [
       "among various bat species themselves, bat-animal and bat-human interactions, such as the presence of live bats in wildlife wet markets and restaurants in Southern China, are important for **interspecies** **transmission** of CoVs and may lead to devastating global outbreaks"
      ],
      "text/plain": [
       "<IPython.core.display.Markdown object>"
      ]
     },
     "metadata": {},
     "output_type": "display_data"
    },
    {
     "data": {
      "text/markdown": [
       "---"
      ],
      "text/plain": [
       "<IPython.core.display.Markdown object>"
      ]
     },
     "metadata": {},
     "output_type": "display_data"
    },
    {
     "data": {
      "text/markdown": [
       "2, 53] .\n",
       "\n",
       "In addition to the interactions among the various bat species themselves, interactions between bats and other animals, as well as interactions between bats and human are important for **interspecies** **transmission** of viruses. Scientists have proposed several possible activities or events that have led to successful **interspecies** jumping of CoVs in the last decade. For instance, bats are used as food in"
      ],
      "text/plain": [
       "<IPython.core.display.Markdown object>"
      ]
     },
     "metadata": {},
     "output_type": "display_data"
    },
    {
     "data": {
      "text/markdown": [
       "---"
      ],
      "text/plain": [
       "<IPython.core.display.Markdown object>"
      ]
     },
     "metadata": {},
     "output_type": "display_data"
    },
    {
     "data": {
      "text/markdown": [
       "58] . Yet, the possibility of spillover events should not be overlooked. It is believed that the spillover of bat CoVs mainly occurs by host viral shedding, an indirect route whereby **interspecies** **transmission** could be achieved.\n",
       "\n",
       "Thirdly, when viral spillover events are considered, tissue tropism of CoVs is a major determining factor [66] . Unlike Hendra virus and Nipah virus, both alphaCoVs and betaCoVs have"
      ],
      "text/plain": [
       "<IPython.core.display.Markdown object>"
      ]
     },
     "metadata": {},
     "output_type": "display_data"
    },
    {
     "data": {
      "text/markdown": [
       "---"
      ],
      "text/plain": [
       "<IPython.core.display.Markdown object>"
      ]
     },
     "metadata": {},
     "output_type": "display_data"
    },
    {
     "data": {
      "text/markdown": [
       "to be free from the infection [43] . In other words, human activities facilitated the viral spillover events by bringing susceptible recipient hosts to the vicinity of viral sources. Surveillance on **interspecies** **transmission** should be placed around wet markets, farms and abattoirs to safeguard human from novel zoonotic diseases.\n",
       "\n",
       "Generally, both alphaCoVs and betaCoVs have been detected in bats in Asia, Europe, Africa, North"
      ],
      "text/plain": [
       "<IPython.core.display.Markdown object>"
      ]
     },
     "metadata": {},
     "output_type": "display_data"
    },
    {
     "data": {
      "text/markdown": [
       "---"
      ],
      "text/plain": [
       "<IPython.core.display.Markdown object>"
      ]
     },
     "metadata": {},
     "output_type": "display_data"
    },
    {
     "data": {
      "text/markdown": [
       "MERS) epidemic, viruses related to MERS coronavirus (MERS-CoV) have also been found in bats as well as hedgehogs. To elucidate the evolution of MERS-CoV-related viruses and their **interspecies** **transmission** pathway, samples were collected from different mammals in China. A novel coronavirus related to MERS-CoV, Erinaceus amurensis hedgehog coronavirus HKU31 (Ea-HedCoV HKU31), was identified from two Amur hedgehogs. Genome"
      ],
      "text/plain": [
       "<IPython.core.display.Markdown object>"
      ]
     },
     "metadata": {},
     "output_type": "display_data"
    },
    {
     "data": {
      "text/markdown": [
       "---"
      ],
      "text/plain": [
       "<IPython.core.display.Markdown object>"
      ]
     },
     "metadata": {},
     "output_type": "display_data"
    },
    {
     "data": {
      "text/markdown": [
       "insight into the frequency of **interspecies** **transmission** of coronaviruses within and between animal and human populations and the risk of subsequent development of a pandemic, it is useful to screen for coronavirus infections in animal species; especially those"
      ],
      "text/plain": [
       "<IPython.core.display.Markdown object>"
      ]
     },
     "metadata": {},
     "output_type": "display_data"
    },
    {
     "data": {
      "text/markdown": [
       "---"
      ],
      "text/plain": [
       "<IPython.core.display.Markdown object>"
      ]
     },
     "metadata": {},
     "output_type": "display_data"
    },
    {
     "data": {
      "text/markdown": [
       "19, 20] . The host range of coronaviruses was reported to correlate with the degree of S protein variations [21] , suggesting that the variations in S protein are responsible for the **interspecies** **transmission** and the adaptation to new hosts.\n",
       "\n",
       "Virus-like particles (VLPs) represent a specific class of subunit vaccine that mimics the structure of authentic virus particles. VLPs present viral antigens in a"
      ],
      "text/plain": [
       "<IPython.core.display.Markdown object>"
      ]
     },
     "metadata": {},
     "output_type": "display_data"
    },
    {
     "data": {
      "text/markdown": [
       "---"
      ],
      "text/plain": [
       "<IPython.core.display.Markdown object>"
      ]
     },
     "metadata": {},
     "output_type": "display_data"
    },
    {
     "data": {
      "text/markdown": [
       "species several times so that for example the different human coronaviruses OC43, 229E, SARS-CoV and the recently identified MERS-CoV (formerly designated HCoV-EMC) are the result of distinct **interspecies** **transmission** events that may be separated from each other by hundreds of years [11, 12] . An enigma in the analysis of the spread of coronaviruses from its reservoir host to other species"
      ],
      "text/plain": [
       "<IPython.core.display.Markdown object>"
      ]
     },
     "metadata": {},
     "output_type": "display_data"
    },
    {
     "data": {
      "text/markdown": [
       "---"
      ],
      "text/plain": [
       "<IPython.core.display.Markdown object>"
      ]
     },
     "metadata": {},
     "output_type": "display_data"
    },
    {
     "data": {
      "text/markdown": [
       "111, 126, 127 . Given the massive number of coronaviruses carried by different bat species, the high plasticity in receptor usage and other features such as adaptive mutation and recombination, frequent **interspecies** **transmission** from bats to animals and humans is expected.\n",
       "\n",
       "Currently, no clinical treatments or prevention strategies are available for any human coronavirus. Given the conserved RBDs of SARS-CoV and bat SARSr"
      ],
      "text/plain": [
       "<IPython.core.display.Markdown object>"
      ]
     },
     "metadata": {},
     "output_type": "display_data"
    },
    {
     "data": {
      "text/markdown": [
       "---"
      ],
      "text/plain": [
       "<IPython.core.display.Markdown object>"
      ]
     },
     "metadata": {},
     "output_type": "display_data"
    },
    {
     "data": {
      "text/markdown": [
       "false negative results can be returned because they are only targeting one gene.\n",
       "\n",
       "In view of the lessons we learned from MERS and SARS outbreak, CoVs have the ability of **interspecies** **transmission** and may emerge as novel pathogens (Chan et al., 2013; Ge et al., 2013) . Therefore, an ideal diagnosis method should not only identify known HCoVs accurately, but also have the ability"
      ],
      "text/plain": [
       "<IPython.core.display.Markdown object>"
      ]
     },
     "metadata": {},
     "output_type": "display_data"
    },
    {
     "data": {
      "text/markdown": [
       "---"
      ],
      "text/plain": [
       "<IPython.core.display.Markdown object>"
      ]
     },
     "metadata": {},
     "output_type": "display_data"
    },
    {
     "data": {
      "text/markdown": [
       "**Interspecies** adaptation, replication and **transmission** in cells are essential steps for an animal virus to emerge successfully in a human population. Virus-cell and cell-cell membrane fusion, mediated by fusion proteins associated with viral envelope"
      ],
      "text/plain": [
       "<IPython.core.display.Markdown object>"
      ]
     },
     "metadata": {},
     "output_type": "display_data"
    },
    {
     "data": {
      "text/markdown": [
       "---"
      ],
      "text/plain": [
       "<IPython.core.display.Markdown object>"
      ]
     },
     "metadata": {},
     "output_type": "display_data"
    },
    {
     "data": {
      "text/markdown": [
       "Cross-species **transmission** was also observed in coronavirus transmissible gastroenteritis virus (TGEV) and human coronavirus OC43 [5] [6] [7] . These events highlight the importance of understanding the mechanisms of **interspecies** adaptation and transmission of"
      ],
      "text/plain": [
       "<IPython.core.display.Markdown object>"
      ]
     },
     "metadata": {},
     "output_type": "display_data"
    },
    {
     "data": {
      "text/markdown": [
       "---"
      ],
      "text/plain": [
       "<IPython.core.display.Markdown object>"
      ]
     },
     "metadata": {},
     "output_type": "display_data"
    },
    {
     "data": {
      "text/markdown": [
       "the result of positive selection. These studies suggested that the S gene underwent strong positive selection for the adaptation to human hosts during the **interspecies** transmission; a positive selection pressure during **transmission** within same species was also clearly demonstrated [6] [7] [8] . The role that nAb-mediated immune pressure played in driving the positive selection, particularly during intra-species transmission, is still unknown"
      ],
      "text/plain": [
       "<IPython.core.display.Markdown object>"
      ]
     },
     "metadata": {},
     "output_type": "display_data"
    },
    {
     "data": {
      "text/markdown": [
       "---"
      ],
      "text/plain": [
       "<IPython.core.display.Markdown object>"
      ]
     },
     "metadata": {},
     "output_type": "display_data"
    },
    {
     "data": {
      "text/markdown": [
       "and whether other cellular factors may play a role in determining viral replicative abilities in T. pachypus cells, which may offer further insights into the evolutionary origin and mechanisms of **interspecies** **transmission** of MERS-CoV. Interestingly, one of the critical residues for binding to MERS-CoV spike protein, R336, was only conserved in T. pachypus and H. pomona DPP4 (cells from these two"
      ],
      "text/plain": [
       "<IPython.core.display.Markdown object>"
      ]
     },
     "metadata": {},
     "output_type": "display_data"
    },
    {
     "data": {
      "text/markdown": [
       "---"
      ],
      "text/plain": [
       "<IPython.core.display.Markdown object>"
      ]
     },
     "metadata": {},
     "output_type": "display_data"
    },
    {
     "data": {
      "text/markdown": [
       "chickens, indicating that PDCoV may cross the species barrier from avian/birds to some mammals ( Figure 7) . However, our study can not demonstrate if PDCoV has the ability for direct **interspecies** **transmission** between pigs and chickens at present. The aminopeptidase N (APN) is a protein receptor, and is mainly targeted by a number of alphacoronaviruses, including TGEV and Human Coronavirus 229E (HCoV-229E"
      ],
      "text/plain": [
       "<IPython.core.display.Markdown object>"
      ]
     },
     "metadata": {},
     "output_type": "display_data"
    },
    {
     "data": {
      "text/markdown": [
       "---"
      ],
      "text/plain": [
       "<IPython.core.display.Markdown object>"
      ]
     },
     "metadata": {},
     "output_type": "display_data"
    },
    {
     "data": {
      "text/markdown": [
       "7) . To define the natural host and/or reservoir of PDCoV, further molecular surveillance study and experiments on artificial infection of different animals with PDCoV are needed to investigate the **interspecies** **transmission** of PDCoV. In conclusion, we have demonstrated that chicken embryos and SPF chickens are susceptible to PDCoV infection. PDCoV-inoculated chickens showed low fecal viral RNA shedding, extensive tissue tropism with"
      ],
      "text/plain": [
       "<IPython.core.display.Markdown object>"
      ]
     },
     "metadata": {},
     "output_type": "display_data"
    },
    {
     "data": {
      "text/markdown": [
       "---"
      ],
      "text/plain": [
       "<IPython.core.display.Markdown object>"
      ]
     },
     "metadata": {},
     "output_type": "display_data"
    },
    {
     "data": {
      "text/markdown": [
       "mutation rate of human immunodeficiency virus [24] . The high degree of similarity between genome sequences of bovine CoV and the recently sequenced HCoV-OC43 suggested an earlier animal-to-human **interspecies** **transmission** than SARS-CoV [25] . Moreover, a high frequency of RNA recombination is a common feature of CoV genetics and has been demonstrated for representative viruses from all CoV groups, including murine"
      ],
      "text/plain": [
       "<IPython.core.display.Markdown object>"
      ]
     },
     "metadata": {},
     "output_type": "display_data"
    },
    {
     "data": {
      "text/markdown": [
       "---"
      ],
      "text/plain": [
       "<IPython.core.display.Markdown object>"
      ]
     },
     "metadata": {},
     "output_type": "display_data"
    },
    {
     "data": {
      "text/markdown": [
       "been proposed whereby the 1889-1890 pandemic characterized by malaise, fever, pronounced central nervous system symptoms, with a significant increase in case fatality with increasing age, was the result of **interspecies** **transmission** of bovine CoV to humans rather than an influenza virus [25] . Although this hypothesis needs more evidence to support, it is widely acknowledged that SARS resulted from animal-to-human transmission"
      ],
      "text/plain": [
       "<IPython.core.display.Markdown object>"
      ]
     },
     "metadata": {},
     "output_type": "display_data"
    },
    {
     "data": {
      "text/markdown": [
       "---"
      ],
      "text/plain": [
       "<IPython.core.display.Markdown object>"
      ]
     },
     "metadata": {},
     "output_type": "display_data"
    },
    {
     "data": {
      "text/markdown": [
       "host response to PDCoV infections [9] [10] [11] . For example, the recent study showed that binding of PDCoV to an **interspecies** conserved site on aminopeptidase N (APN) may facilitate the direct **transmission** of PDCoV to nonreservoir species, including humans [12] . Although there is no relevant report illustrating that PDCoV has the possibility of cross-species transmission between animals and humans, it is significant"
      ],
      "text/plain": [
       "<IPython.core.display.Markdown object>"
      ]
     },
     "metadata": {},
     "output_type": "display_data"
    },
    {
     "data": {
      "text/markdown": [
       "---"
      ],
      "text/plain": [
       "<IPython.core.display.Markdown object>"
      ]
     },
     "metadata": {},
     "output_type": "display_data"
    },
    {
     "data": {
      "text/markdown": [
       "wildlife animal reservoirs. The majority of the human emerging infectious diseases of the past few decades, including AIDS, Ebola fever, avian influenza and severe acute respiratory syndrome (SARS), resulted from **interspecies** **transmission** of zoonotic RNA viruses [28, 29, 30, 31] . Adaptation of a non-human CoV to a human host occurred with both SARS-CoV and OC43-CoV; both are examples of a"
      ],
      "text/plain": [
       "<IPython.core.display.Markdown object>"
      ]
     },
     "metadata": {},
     "output_type": "display_data"
    },
    {
     "data": {
      "text/markdown": [
       "---"
      ],
      "text/plain": [
       "<IPython.core.display.Markdown object>"
      ]
     },
     "metadata": {},
     "output_type": "display_data"
    },
    {
     "data": {
      "text/markdown": [
       "and proteolytic activation. We also highlight commonalities between coronavirus S proteins and other class I viral fusion proteins, as well as distinctive features that confer distinct tropism, pathogenicity and host **interspecies** **transmission** characteristics to coronaviruses"
      ],
      "text/plain": [
       "<IPython.core.display.Markdown object>"
      ]
     },
     "metadata": {},
     "output_type": "display_data"
    },
    {
     "data": {
      "text/markdown": [
       "---"
      ],
      "text/plain": [
       "<IPython.core.display.Markdown object>"
      ]
     },
     "metadata": {},
     "output_type": "display_data"
    },
    {
     "data": {
      "text/markdown": [
       "bats, 28, 29 but in contrast to the monophyletic origin of most human SARS-CoV strains, MERS-CoV strains from humans are polyphyletic as a result of multiple camel-to-human **transmission** events. 30, 31 According to the existing evidence, a single **interspecies** transmission event probably occurred from bats to palm civets as the intermediate or amplification host, and then from palm civets"
      ],
      "text/plain": [
       "<IPython.core.display.Markdown object>"
      ]
     },
     "metadata": {},
     "output_type": "display_data"
    },
    {
     "data": {
      "text/markdown": [
       "---"
      ],
      "text/plain": [
       "<IPython.core.display.Markdown object>"
      ]
     },
     "metadata": {},
     "output_type": "display_data"
    },
    {
     "data": {
      "text/markdown": [
       "α-CoVs suggested that the structure and functional mechanism of S2 of AcCoV-JC34 may more homologous to β-CoVs.\n",
       "\n",
       "Emerging infectious diseases caused by CoV are mostly due to **interspecies** **transmission** from animals to humans. Previous data indicated that bats are natural reservoirs for αand β-CoVs [46] . A number of human CoVs, including SARS-CoV, MERS-CoV, HCoV229E, and NL63 might"
      ],
      "text/plain": [
       "<IPython.core.display.Markdown object>"
      ]
     },
     "metadata": {},
     "output_type": "display_data"
    },
    {
     "data": {
      "text/markdown": [
       "---"
      ],
      "text/plain": [
       "<IPython.core.display.Markdown object>"
      ]
     },
     "metadata": {},
     "output_type": "display_data"
    },
    {
     "data": {
      "text/markdown": [
       "like AcCoV-JC34, HKU24, LRNV, LAMV, and LRLV are not fully understood. Identification of the receptor for these viruses could help in evaluating the potential host range and ability for **interspecies** **transmission** from rodents to other mammals. Although most of these novel rodent CoVs have been characterized with full-length or near full-length genome sequences, the lack of successfully isolating those viruses"
      ],
      "text/plain": [
       "<IPython.core.display.Markdown object>"
      ]
     },
     "metadata": {},
     "output_type": "display_data"
    },
    {
     "data": {
      "text/markdown": [
       "---"
      ],
      "text/plain": [
       "<IPython.core.display.Markdown object>"
      ]
     },
     "metadata": {},
     "output_type": "display_data"
    },
    {
     "data": {
      "text/markdown": [
       "of recombination events, which can alter tissue tropism, transmission routes, and host specificity [53] . Like most coronaviruses, deltacoronavirus also possess the potential to undergo some recombination events that can facilitate **interspecies** **transmission** and jump to the new hosts. Lau et al. reported that porcine coronavirus HKU15 from recombination between sparrow coronavirus HKU17 and bulbul coronavirus HKU11 in the S gene region [17] . In"
      ],
      "text/plain": [
       "<IPython.core.display.Markdown object>"
      ]
     },
     "metadata": {},
     "output_type": "display_data"
    },
    {
     "data": {
      "text/markdown": [
       "---"
      ],
      "text/plain": [
       "<IPython.core.display.Markdown object>"
      ]
     },
     "metadata": {},
     "output_type": "display_data"
    },
    {
     "data": {
      "text/markdown": [
       "multiple intestinal infections, with rotavirus and bovine coronavirus (BCoV) being the main viral causes in cattle. Given that BCoV is better studied than equine coronaviruses and given the possibility of **interspecies** **transmission** of these viruses, this research was designed to compare the partial sequences of the spike glycoprotein (S), hemagglutinin-esterase protein (HE), and nucleoprotein (N) genes from coronaviruses from adult cattle with"
      ],
      "text/plain": [
       "<IPython.core.display.Markdown object>"
      ]
     },
     "metadata": {},
     "output_type": "display_data"
    },
    {
     "data": {
      "text/markdown": [
       "---"
      ],
      "text/plain": [
       "<IPython.core.display.Markdown object>"
      ]
     },
     "metadata": {},
     "output_type": "display_data"
    },
    {
     "data": {
      "text/markdown": [
       "most common VP7 genotype of human group A rotavirus, but is rarely found in porcine rotavirus strains 39 . It is suggested that all human G1 VP7 genes originate from porcine rotavirus **transmission** to humans and that this **interspecies** transmission was followed by human-to-human transmissions 40 . Although rotavirus was reported to have an exclusive tropism for small intestinal enterocytes 41 , rotavirus RVA"
      ],
      "text/plain": [
       "<IPython.core.display.Markdown object>"
      ]
     },
     "metadata": {},
     "output_type": "display_data"
    },
    {
     "data": {
      "text/markdown": [
       "---"
      ],
      "text/plain": [
       "<IPython.core.display.Markdown object>"
      ]
     },
     "metadata": {},
     "output_type": "display_data"
    },
    {
     "data": {
      "text/markdown": [
       "a high genetic similarity to human P [6] rotavirus strains 8, 44 . Animal rotaviruses are regarded as a potential reservoir for the genetic and antigenic diversity of human rotaviruses and **interspecies** **transmission** from swine to humans has been reported increasingly for P [6] genotype. Eight Hungarian human G4P [6] rotavirus strains were supposed to originate from pigs by independent events of zoonotic transmission"
      ],
      "text/plain": [
       "<IPython.core.display.Markdown object>"
      ]
     },
     "metadata": {},
     "output_type": "display_data"
    },
    {
     "data": {
      "text/markdown": [
       "---"
      ],
      "text/plain": [
       "<IPython.core.display.Markdown object>"
      ]
     },
     "metadata": {},
     "output_type": "display_data"
    },
    {
     "data": {
      "text/markdown": [
       "U.S. isolates share more homology with deltacoronaviruses of Asian leopard cats and Chinese ferret-badgers than avian deltacoronaviruses, suggesting that Asian leopard cats and Chinese ferretbadgers are intermediates for **interspecies** **transmission** of PdCV. At this time, we do not know if deltacoronaviruses are present in U.S. bird populations or other U.S. mammals (such as domestic cats). Clearly, a better understanding"
      ],
      "text/plain": [
       "<IPython.core.display.Markdown object>"
      ]
     },
     "metadata": {},
     "output_type": "display_data"
    },
    {
     "data": {
      "text/markdown": [
       "---"
      ],
      "text/plain": [
       "<IPython.core.display.Markdown object>"
      ]
     },
     "metadata": {},
     "output_type": "display_data"
    },
    {
     "data": {
      "text/markdown": [
       "filoviruses, paramyxoviruses, and severe acute respiratory syndrome coronaviruses (SARS-CoVs). In the course of a project focused on pathogen discovery in contexts where human-bat contact might facilitate more efficient **interspecies** **transmission** of viruses, we surveyed gastrointestinal tissue obtained from bats collected in caves in Nigeria that are frequented by humans. , et al. 2010. Identification of a severe acute respiratory syndrome coronavirus-like"
      ],
      "text/plain": [
       "<IPython.core.display.Markdown object>"
      ]
     },
     "metadata": {},
     "output_type": "display_data"
    },
    {
     "data": {
      "text/markdown": [
       "---"
      ],
      "text/plain": [
       "<IPython.core.display.Markdown object>"
      ]
     },
     "metadata": {},
     "output_type": "display_data"
    },
    {
     "data": {
      "text/markdown": [
       "through contact with infected intermediate hosts, such as swine (18) . In the course of a project focused on pathogen discovery in situations where human-bat contact might facilitate more efficient **interspecies** **transmission** of emerging viruses, we surveyed bats in Nigeria. Through consensus PCR (cPCR) and unbiased high-throughput pyrosequencing (UHTS) of bat tissue samples, we identified a coronavirus that is most closely related"
      ],
      "text/plain": [
       "<IPython.core.display.Markdown object>"
      ]
     },
     "metadata": {},
     "output_type": "display_data"
    },
    {
     "data": {
      "text/markdown": [
       "---"
      ],
      "text/plain": [
       "<IPython.core.display.Markdown object>"
      ]
     },
     "metadata": {},
     "output_type": "display_data"
    },
    {
     "data": {
      "text/markdown": [
       "population analyses revealed the presence of more than one genomic variant in individual dromedaries. If humans are truly infected only with clonal virus populations, we must entertain a model for **interspecies** **transmission** of MERS-CoV wherein only specific genotypes are capable of passing bottleneck selection.\n",
       "\n",
       "Citation Briese T, Mishra N, Jain K, Zalmout IS, Jabado OJ, Karesh WB, Daszak P, Mohammed OB, Alagaili"
      ],
      "text/plain": [
       "<IPython.core.display.Markdown object>"
      ]
     },
     "metadata": {},
     "output_type": "display_data"
    },
    {
     "data": {
      "text/markdown": [
       "---"
      ],
      "text/plain": [
       "<IPython.core.display.Markdown object>"
      ]
     },
     "metadata": {},
     "output_type": "display_data"
    },
    {
     "data": {
      "text/markdown": [
       "thus far (16) , it is quite interesting to note the rapid emergence and subsequent conservation of the RBD I529T mutation in consecutive human infections. Since it is generally thought that **interspecies** **transmission** of coronaviruses is primarily mediated by mutations in the S protein with enhanced affinity toward human receptors (18) , this unexpected emergence and wide spread of an RBD mutation with reduced affinity"
      ],
      "text/plain": [
       "<IPython.core.display.Markdown object>"
      ]
     },
     "metadata": {},
     "output_type": "display_data"
    },
    {
     "data": {
      "text/markdown": [
       "---"
      ],
      "text/plain": [
       "<IPython.core.display.Markdown object>"
      ]
     },
     "metadata": {},
     "output_type": "display_data"
    },
    {
     "data": {
      "text/markdown": [
       "CD26 specific to the South Korean population. Indeed, it has been shown that the difference in interface residues among the host receptors of different mammalian species is critical to triggering **interspecies** **transmission** of coronavirus (18) . However, our preliminary analysis of CD26 sequences encoding the interface domain in the South Korean patients failed to show any substantial difference (data not shown). Third, the mutations"
      ],
      "text/plain": [
       "<IPython.core.display.Markdown object>"
      ]
     },
     "metadata": {},
     "output_type": "display_data"
    },
    {
     "data": {
      "text/markdown": [
       "---"
      ],
      "text/plain": [
       "<IPython.core.display.Markdown object>"
      ]
     },
     "metadata": {},
     "output_type": "display_data"
    },
    {
     "data": {
      "text/markdown": [
       "domain (RBD) of this new CoV resembles that of SARS-CoV, indicating that they might use the same receptor. These findings highlight the urgent need for regular surveillance of the **interspecies** **transmission** of bat-origin CoV to human populations.\n",
       "\n",
       "This study was conducted in accordance with the Declaration of Helsinki and was approved by the National Health Commission of China and Ethics Commission"
      ],
      "text/plain": [
       "<IPython.core.display.Markdown object>"
      ]
     },
     "metadata": {},
     "output_type": "display_data"
    },
    {
     "data": {
      "text/markdown": [
       "---"
      ],
      "text/plain": [
       "<IPython.core.display.Markdown object>"
      ]
     },
     "metadata": {},
     "output_type": "display_data"
    },
    {
     "data": {
      "text/markdown": [
       "recombination event might have occurred at the region between the NTD and RBD of the S gene, facilitating the **interspecies** transmission.\n",
       "\n",
       "Owing to the lack of epidemic information at present, the **transmission** modes of the novel CoV remain obscure. It is notable that three of the five patients had a history of recent exposure to a seafood market in Wuhan. However, the origin"
      ],
      "text/plain": [
       "<IPython.core.display.Markdown object>"
      ]
     },
     "metadata": {},
     "output_type": "display_data"
    },
    {
     "data": {
      "text/markdown": [
       "---"
      ],
      "text/plain": [
       "<IPython.core.display.Markdown object>"
      ]
     },
     "metadata": {},
     "output_type": "display_data"
    },
    {
     "data": {
      "text/markdown": [
       "zoonotic CoV jumped to humans through an intermediate host;\n",
       "\n",
       "for example, camel is suspected as the intermediate host of MERS-CoV, whereas the palm civet may have contributed to the **interspecies** **transmission** of SARS-CoV to humans. [25, 26] Bat CoVs may evolve to adapt to using humans as a host during their circulation in a mammalian host, thereby enabling them to effectively"
      ],
      "text/plain": [
       "<IPython.core.display.Markdown object>"
      ]
     },
     "metadata": {},
     "output_type": "display_data"
    },
    {
     "data": {
      "text/markdown": [
       "---"
      ],
      "text/plain": [
       "<IPython.core.display.Markdown object>"
      ]
     },
     "metadata": {},
     "output_type": "display_data"
    },
    {
     "data": {
      "text/markdown": [
       "In the aftermath of the SARS outbreak, its high morbidity and mortality made the identification of natural reservoirs and an appropriate animal model necessary in order to ascertain the **interspecies** **transmission** chain, to develop procedures for protecting public health, to promote research on the SARS-CoV mechanism, and to establish animal models for use in developing antivirals and vaccines.\n",
       "\n",
       "Although the SARS"
      ],
      "text/plain": [
       "<IPython.core.display.Markdown object>"
      ]
     },
     "metadata": {},
     "output_type": "display_data"
    },
    {
     "data": {
      "text/markdown": [
       "---"
      ],
      "text/plain": [
       "<IPython.core.display.Markdown object>"
      ]
     },
     "metadata": {},
     "output_type": "display_data"
    },
    {
     "data": {
      "text/markdown": [
       "may be maintained in camel organs or muscles. If that speculation proves true, the convention in the Middle East of cooking and trading camel meat and organs might be the **interspecies** **transmission** route. MERS-CoV can also survive longer in camel milk than in other ruminant milk. In addition to the above two routes, MERS-CoV RNA can be detected in 59% of"
      ],
      "text/plain": [
       "<IPython.core.display.Markdown object>"
      ]
     },
     "metadata": {},
     "output_type": "display_data"
    },
    {
     "data": {
      "text/markdown": [
       "---"
      ],
      "text/plain": [
       "<IPython.core.display.Markdown object>"
      ]
     },
     "metadata": {},
     "output_type": "display_data"
    },
    {
     "data": {
      "text/markdown": [
       "other than bats have examined hostvirus phylogeny and identifi ed coevolutionary relationships (13-16) or incongruous phylogenetic patterns (17). These fi ndings suggest recent pathogen host shifts (defi ned as **interspecies** **transmission** followed by establishment and long-term persistence in the new host species [18] ). Other studies have demonstrated that the relationship between viral phylogeny and geographic location and identifi cation hosts (viral"
      ],
      "text/plain": [
       "<IPython.core.display.Markdown object>"
      ]
     },
     "metadata": {},
     "output_type": "display_data"
    },
    {
     "data": {
      "text/markdown": [
       "---"
      ],
      "text/plain": [
       "<IPython.core.display.Markdown object>"
      ]
     },
     "metadata": {},
     "output_type": "display_data"
    },
    {
     "data": {
      "text/markdown": [
       "bats have examined hostvirus phylogeny and identifi ed coevolutionary relationships (13) (14) (15) (16) or incongruous phylogenetic patterns (17) . These fi ndings suggest recent pathogen host shifts (defi ned as **interspecies** **transmission** followed by establishment and long-term persistence in the new host species [18] ). Other studies have demonstrated that the relationship between viral phylogeny and geographic location and identifi cation hosts (viral"
      ],
      "text/plain": [
       "<IPython.core.display.Markdown object>"
      ]
     },
     "metadata": {},
     "output_type": "display_data"
    },
    {
     "data": {
      "text/markdown": [
       "---"
      ],
      "text/plain": [
       "<IPython.core.display.Markdown object>"
      ]
     },
     "metadata": {},
     "output_type": "display_data"
    },
    {
     "data": {
      "text/markdown": [
       "respectively). One T. pachypus was infected by a virus that clustered with moderate statistical support (PP = 0.91) within the larger clade associated with P. abramus, which indicated a potential **interspecies** **transmission** event or recent evolutionary host shift (defi ned as **interspecies** transmission followed by establishment and long-term persistence in the new host species [18] ) (Figure 1) .\n",
       "\n",
       "Phylograms of host sequences were"
      ],
      "text/plain": [
       "<IPython.core.display.Markdown object>"
      ]
     },
     "metadata": {},
     "output_type": "display_data"
    },
    {
     "data": {
      "text/markdown": [
       "---"
      ],
      "text/plain": [
       "<IPython.core.display.Markdown object>"
      ]
     },
     "metadata": {},
     "output_type": "display_data"
    },
    {
     "data": {
      "text/markdown": [
       "preventive measures, the reemergence of SARS-CoV or other virulent human coronaviruses poses a continuing threat. A powerful reminder of this, as well as of the fatal repercussions of the **interspecies** **transmission** potential of CoVs, was brought to the forefront in September 2012 by the emergence of a new SARSlike respiratory virus (previously termed HCoV-EMC, now designated Middle East respiratory syndrome coronavirus"
      ],
      "text/plain": [
       "<IPython.core.display.Markdown object>"
      ]
     },
     "metadata": {},
     "output_type": "display_data"
    },
    {
     "data": {
      "text/markdown": [
       "---"
      ],
      "text/plain": [
       "<IPython.core.display.Markdown object>"
      ]
     },
     "metadata": {},
     "output_type": "display_data"
    },
    {
     "data": {
      "text/markdown": [
       "investigations on animals, especially during and after an outbreak of SARS, will lead to a better understanding and ability to control this disease's natural animal reservoirs and to prevent **interspecies** **transmission** events. This study was supported by grants from Chinese Academy of Sciences and Tianjin Institute of Animal Husbandry and Veterinary Science.\n",
       "\n",
       "Mr. Chen is a PhD candidate who works at the"
      ],
      "text/plain": [
       "<IPython.core.display.Markdown object>"
      ]
     },
     "metadata": {},
     "output_type": "display_data"
    },
    {
     "data": {
      "text/markdown": [
       "---"
      ],
      "text/plain": [
       "<IPython.core.display.Markdown object>"
      ]
     },
     "metadata": {},
     "output_type": "display_data"
    },
    {
     "data": {
      "text/markdown": [
       "in Guangdong Province, they are expensive, so a batch of animals may remain in a storehouse for weeks. All of these factors facilitate **interspecies** transmission, which would be followed by rapid **transmission** among the civet population. Finally, civet farming and trading has been in practice in China for >10 years, but SARS has not been observed in workers until recently, which points to"
      ],
      "text/plain": [
       "<IPython.core.display.Markdown object>"
      ]
     },
     "metadata": {},
     "output_type": "display_data"
    },
    {
     "data": {
      "text/markdown": [
       "---"
      ],
      "text/plain": [
       "<IPython.core.display.Markdown object>"
      ]
     },
     "metadata": {},
     "output_type": "display_data"
    },
    {
     "data": {
      "text/markdown": [
       "also observed in at least one raccoon dog (Nyctereutes procyonoides) and one Chinese ferret-badger (Melogale moschata) from the same market at the same time, which demonstrates possible **interspecies** SARS-CoV **transmission** during trading. Sequence analysis of the S genes showed that one civet isolate (SZ16) was more closely related to the raccoon dog isolate (SZ13) than the other two civet isolates (SZ1"
      ],
      "text/plain": [
       "<IPython.core.display.Markdown object>"
      ]
     },
     "metadata": {},
     "output_type": "display_data"
    },
    {
     "data": {
      "text/markdown": [
       "---"
      ],
      "text/plain": [
       "<IPython.core.display.Markdown object>"
      ]
     },
     "metadata": {},
     "output_type": "display_data"
    },
    {
     "data": {
      "text/markdown": [
       "and SZ3), which further supports **interspecies** **transmission** in the market (4) . Since that study, several experimental infection studies have shown most mammalian species tested to be susceptible to SARS-CoV infection (5) (6) (7) (8) (9) , and animal"
      ],
      "text/plain": [
       "<IPython.core.display.Markdown object>"
      ]
     },
     "metadata": {},
     "output_type": "display_data"
    },
    {
     "data": {
      "text/markdown": [
       "---"
      ],
      "text/plain": [
       "<IPython.core.display.Markdown object>"
      ]
     },
     "metadata": {},
     "output_type": "display_data"
    },
    {
     "data": {
      "text/markdown": [
       "in bats (12) , the same animal from which SARS is believed to have originated. Bats are increasingly recognized as natural reservoirs of CoVs and may serve as intermediate hosts for **interspecies** **transmission** of SARS-CoVs (10, 13) . Different bat populations from various countries harbor diverse CoVs that have a high frequency of recombination and mutation rates that enable them to adapt to new"
      ],
      "text/plain": [
       "<IPython.core.display.Markdown object>"
      ]
     },
     "metadata": {},
     "output_type": "display_data"
    },
    {
     "data": {
      "text/markdown": [
       "---"
      ],
      "text/plain": [
       "<IPython.core.display.Markdown object>"
      ]
     },
     "metadata": {},
     "output_type": "display_data"
    },
    {
     "data": {
      "text/markdown": [
       "sequences were published April 13, 2003 [1, 2] . One month later, SARS-like coronaviruses were found in palm civets and other animals in Guangdong, China, the first evidence of possible **interspecies** **transmission** of the virus [3] . The re-emergence of the isolated SARS cases in Asia in December, 2003 and in Anhui province and Beijing, China, in late April 2004, has confirmed a"
      ],
      "text/plain": [
       "<IPython.core.display.Markdown object>"
      ]
     },
     "metadata": {},
     "output_type": "display_data"
    },
    {
     "data": {
      "text/markdown": [
       "---"
      ],
      "text/plain": [
       "<IPython.core.display.Markdown object>"
      ]
     },
     "metadata": {},
     "output_type": "display_data"
    },
    {
     "data": {
      "text/markdown": [
       "showed that CoV is easily transmitted across species. These results, and the fact that most reported bat CoV sequences have been detected in several bat species (12, 17) , imply that **interspecies** **transmission** in bats may be common.\n",
       "\n",
       "Further investigation of bat CoV ecology is needed to better understand the risk for infection with this virus. Knowing this risk could help elucidate emergence of"
      ],
      "text/plain": [
       "<IPython.core.display.Markdown object>"
      ]
     },
     "metadata": {},
     "output_type": "display_data"
    },
    {
     "data": {
      "text/markdown": [
       "---"
      ],
      "text/plain": [
       "<IPython.core.display.Markdown object>"
      ]
     },
     "metadata": {},
     "output_type": "display_data"
    },
    {
     "data": {
      "text/markdown": [
       "β-coronaviruses that have great potential for 60 **interspecies** **transmission** by recombination and/or mutation 12,14-16 . Data on genetic 61 evolution, receptor binding and pathogenesis have demonstrated that human SARS-62 CoV and MERS-CoV most likely originate from"
      ],
      "text/plain": [
       "<IPython.core.display.Markdown object>"
      ]
     },
     "metadata": {},
     "output_type": "display_data"
    },
    {
     "data": {
      "text/markdown": [
       "---"
      ],
      "text/plain": [
       "<IPython.core.display.Markdown object>"
      ]
     },
     "metadata": {},
     "output_type": "display_data"
    },
    {
     "data": {
      "text/markdown": [
       "a broad range of species including mouse, 70 chicken, pig, monkey and human, indicating a high potential of the SADS-CoV for 71 **interspecies** **transmission** 17 . 72 The spike glycoprotein of coronaviruses mediates viral entry by binding host 73 receptor with the S1 subunit and fusing viral and cellular membranes with the S2 74 subunit, thereby"
      ],
      "text/plain": [
       "<IPython.core.display.Markdown object>"
      ]
     },
     "metadata": {},
     "output_type": "display_data"
    },
    {
     "data": {
      "text/markdown": [
       "---"
      ],
      "text/plain": [
       "<IPython.core.display.Markdown object>"
      ]
     },
     "metadata": {},
     "output_type": "display_data"
    },
    {
     "data": {
      "text/markdown": [
       "## airborne"
      ],
      "text/plain": [
       "<IPython.core.display.Markdown object>"
      ]
     },
     "metadata": {},
     "output_type": "display_data"
    },
    {
     "data": {
      "text/markdown": [
       "these routes of transmission is presently unclear. A study showed that viral aerosol generation by a patient with SARS was possible and therefore **airborne** droplet **transmission** was a possible means of transmission [5] . However, the role of fomites and environmental contamination in transmission of infection is presently still unclear. An outbreak of disease affecting over 300 residents"
      ],
      "text/plain": [
       "<IPython.core.display.Markdown object>"
      ]
     },
     "metadata": {},
     "output_type": "display_data"
    },
    {
     "data": {
      "text/markdown": [
       "---"
      ],
      "text/plain": [
       "<IPython.core.display.Markdown object>"
      ]
     },
     "metadata": {},
     "output_type": "display_data"
    },
    {
     "data": {
      "text/markdown": [
       "isolation in cell culture is not recommended at this time since it requires laboratory working under high biosafety level [29] .\n",
       "\n",
       "Some epidemiological data support the possibility of both contact and **airborne** **transmission** of coronaviruses; however, the modes of transmission of MERS-CoV specifically are not completely understood. There is no consensus regarding precautionary recommendations for MERS-CoV; whereas the WHO recommends the contact"
      ],
      "text/plain": [
       "<IPython.core.display.Markdown object>"
      ]
     },
     "metadata": {},
     "output_type": "display_data"
    },
    {
     "data": {
      "text/markdown": [
       "---"
      ],
      "text/plain": [
       "<IPython.core.display.Markdown object>"
      ]
     },
     "metadata": {},
     "output_type": "display_data"
    },
    {
     "data": {
      "text/markdown": [
       "a dedicated mission with the minimum number of crew members and should wear a surgical mask, if tolerated. The direct healthcare providers should wear the aforementioned PPE against contact and **airborne** **transmission** and avoid cough-or aerosol-generating procedures unless necessary. In addition, all transportations of patients should be coordinated with public health services [35] .\n",
       "\n",
       "The WHO guidelines do not include a travel"
      ],
      "text/plain": [
       "<IPython.core.display.Markdown object>"
      ]
     },
     "metadata": {},
     "output_type": "display_data"
    },
    {
     "data": {
      "text/markdown": [
       "---"
      ],
      "text/plain": [
       "<IPython.core.display.Markdown object>"
      ]
     },
     "metadata": {},
     "output_type": "display_data"
    },
    {
     "data": {
      "text/markdown": [
       "to the emergency department. She was hospitalized and diagnosed with pneumonia. Two nasopharyngeal swabs were taken, and the patient was admitted to a negatively pressurized room with contact, droplet, and **airborne** **transmission** precaution protocols in place.\n",
       "\n",
       "On admission, her highest recorded temperature was 39.2°C, and her oxygen saturation was maintained via room air (97 − 99 %). Chest radiography showed diffuse bilateral lower"
      ],
      "text/plain": [
       "<IPython.core.display.Markdown object>"
      ]
     },
     "metadata": {},
     "output_type": "display_data"
    },
    {
     "data": {
      "text/markdown": [
       "---"
      ],
      "text/plain": [
       "<IPython.core.display.Markdown object>"
      ]
     },
     "metadata": {},
     "output_type": "display_data"
    },
    {
     "data": {
      "text/markdown": [
       "bilateral lung infiltrate. She was discharged and sent home in a stable condition.\n",
       "\n",
       "The male infant in the case reported herein was delivered by emergency cesarean under contact, droplet, and **airborne** **transmission** precautions. He was kept in the neonatal unit for observation, and was fed artificial \n",
       "\n",
       "The severity of viral pneumonia in pregnancy is evidently related to physiological and immunological changes that result"
      ],
      "text/plain": [
       "<IPython.core.display.Markdown object>"
      ]
     },
     "metadata": {},
     "output_type": "display_data"
    },
    {
     "data": {
      "text/markdown": [
       "---"
      ],
      "text/plain": [
       "<IPython.core.display.Markdown object>"
      ]
     },
     "metadata": {},
     "output_type": "display_data"
    },
    {
     "data": {
      "text/markdown": [
       "isolated the same MERS-CoV strain from both a camel \"in a barn\" and its infected owner in Saudi Arabia, thus providing further evidence of the potential **airborne** and direct contact **transmission** of the virus between camels and humans [11] .\n",
       "\n",
       "There have been several attempts to develop a protective vaccine against MERS-CoV [12] [13] [14] [15] [16] [17] [18] [19] [20] [21"
      ],
      "text/plain": [
       "<IPython.core.display.Markdown object>"
      ]
     },
     "metadata": {},
     "output_type": "display_data"
    },
    {
     "data": {
      "text/markdown": [
       "---"
      ],
      "text/plain": [
       "<IPython.core.display.Markdown object>"
      ]
     },
     "metadata": {},
     "output_type": "display_data"
    },
    {
     "data": {
      "text/markdown": [
       "be established. Besides, the typical seasonality pattern is not seen in case of MERS-CoV infections and only one report links it to camel breeding season. The modes of MERS-CoV **transmission** by droplet, contact, or **airborne** are not yet confirmed as well and thus its transmission among animals and from animals to human and human to human remains unclear. There is also"
      ],
      "text/plain": [
       "<IPython.core.display.Markdown object>"
      ]
     },
     "metadata": {},
     "output_type": "display_data"
    },
    {
     "data": {
      "text/markdown": [
       "---"
      ],
      "text/plain": [
       "<IPython.core.display.Markdown object>"
      ]
     },
     "metadata": {},
     "output_type": "display_data"
    },
    {
     "data": {
      "text/markdown": [
       "no documentation available regarding MERS-CoV **transmission** during airplane flights. Therefore, standard infection prevention and control procedures are followed including droplet and **airborne** precautions. The viral incubation period is from 2 days to 2 weeks. The viral cytopathic"
      ],
      "text/plain": [
       "<IPython.core.display.Markdown object>"
      ]
     },
     "metadata": {},
     "output_type": "display_data"
    },
    {
     "data": {
      "text/markdown": [
       "---"
      ],
      "text/plain": [
       "<IPython.core.display.Markdown object>"
      ]
     },
     "metadata": {},
     "output_type": "display_data"
    },
    {
     "data": {
      "text/markdown": [
       "Middle East respiratory syndrome (MERS) was first reported in 2012 [1] . Clusters of MERS-Coronavirus (MERS-CoV) infection have occurred within extended families, households, and healthcare settings [2] . Humanto-human **transmission** has been documented including transmission to healthcare workers [3] [4] [5] . Although the spread of MERS-CoV is assumed to occur via large droplets and contact, the possibility of **airborne** transmission"
      ],
      "text/plain": [
       "<IPython.core.display.Markdown object>"
      ]
     },
     "metadata": {},
     "output_type": "display_data"
    },
    {
     "data": {
      "text/markdown": [
       "---"
      ],
      "text/plain": [
       "<IPython.core.display.Markdown object>"
      ]
     },
     "metadata": {},
     "output_type": "display_data"
    },
    {
     "data": {
      "text/markdown": [
       "the patient was transferred to our institute. Rapid isolation was done upon receiving the patient. He was placed in an **airborne** infection isolation room, and precautions to prevent **airborne** and contact **transmission** were strictly implemented. Upon the time of admission to our institute, the patient had a frequent cough and oxygen desaturation to 88 %. No fever was detected. He had a respiratory rate"
      ],
      "text/plain": [
       "<IPython.core.display.Markdown object>"
      ]
     },
     "metadata": {},
     "output_type": "display_data"
    },
    {
     "data": {
      "text/markdown": [
       "---"
      ],
      "text/plain": [
       "<IPython.core.display.Markdown object>"
      ]
     },
     "metadata": {},
     "output_type": "display_data"
    },
    {
     "data": {
      "text/markdown": [
       "exercised before taking the patient based on the administrative control principle. Engineering controls were established in the **airborne** isolation unit. Personal protective equipment was used according to standard, contact and **airborne** **transmission** precaution bases. We did not identify transmission from the patient to any of the contacts who were adherent to the infection control practices. This study supports the US Centers for Disease"
      ],
      "text/plain": [
       "<IPython.core.display.Markdown object>"
      ]
     },
     "metadata": {},
     "output_type": "display_data"
    },
    {
     "data": {
      "text/markdown": [
       "---"
      ],
      "text/plain": [
       "<IPython.core.display.Markdown object>"
      ]
     },
     "metadata": {},
     "output_type": "display_data"
    },
    {
     "data": {
      "text/markdown": [
       "Control and Prevention recommendations for management of hospitalized patients with MERS-CoV infection including implementing standard, contact and **airborne** **transmission** precautions [7] . However, the World Health Organization has recommended the use of surgical masks when caring for MERS patients and particulate respirators for aerosol-generating procedures [10] . Spread of MERS-CoV"
      ],
      "text/plain": [
       "<IPython.core.display.Markdown object>"
      ]
     },
     "metadata": {},
     "output_type": "display_data"
    },
    {
     "data": {
      "text/markdown": [
       "---"
      ],
      "text/plain": [
       "<IPython.core.display.Markdown object>"
      ]
     },
     "metadata": {},
     "output_type": "display_data"
    },
    {
     "data": {
      "text/markdown": [
       "workers who were exposed to a MERS patient and/or his body fluids also been a debate on MERS-CoV respiratory precautions [11] . Although our results support the implementation of **airborne** **transmission** precaution, the understanding of the transmission of MERS-CoV is still evolving. The best protective strategy against MERS-CoV should further be assessed. Some limitations in the study should be acknowledged"
      ],
      "text/plain": [
       "<IPython.core.display.Markdown object>"
      ]
     },
     "metadata": {},
     "output_type": "display_data"
    },
    {
     "data": {
      "text/markdown": [
       "---"
      ],
      "text/plain": [
       "<IPython.core.display.Markdown object>"
      ]
     },
     "metadata": {},
     "output_type": "display_data"
    },
    {
     "data": {
      "text/markdown": [
       "transmit via the respiratory tract. This route of infection is also true for PEDV, which can disseminate from the nasal cavity to the intestinal mucosa, providing further evidence for the **airborne** **transmission** of gastrointestinal coronaviruses [58] . Analysis of daily fecal samples and post-mortem tissues and organs by qRT-PCR demonstrated that PDCoV RNA continually and gradually increased from 1 to 7 dpi"
      ],
      "text/plain": [
       "<IPython.core.display.Markdown object>"
      ]
     },
     "metadata": {},
     "output_type": "display_data"
    },
    {
     "data": {
      "text/markdown": [
       "---"
      ],
      "text/plain": [
       "<IPython.core.display.Markdown object>"
      ]
     },
     "metadata": {},
     "output_type": "display_data"
    },
    {
     "data": {
      "text/markdown": [
       "However, unlike MERS-CoV-infected dromedaries, these rabbits did not develop clinical manifestations including nasal discharge and did shed only limited amounts of infectious virus from the nose. Consistently, no **transmission** by contact or **airborne** routes was observed in rabbits. Our data indicate that despite relatively high viral RNA levels produced, low levels of infectious virus are excreted in the upper respiratory"
      ],
      "text/plain": [
       "<IPython.core.display.Markdown object>"
      ]
     },
     "metadata": {},
     "output_type": "display_data"
    },
    {
     "data": {
      "text/markdown": [
       "---"
      ],
      "text/plain": [
       "<IPython.core.display.Markdown object>"
      ]
     },
     "metadata": {},
     "output_type": "display_data"
    },
    {
     "data": {
      "text/markdown": [
       "transmitted via contact or **airborne** routes, respectively [16] . Donor rabbits were found to shed high levels of viral RNA but a limited amount of infectious virus thus potentially restricting MERS-CoV **transmission** in these animals.\n",
       "\n",
       "In vivo experiments in this study were performed using Passage 7 human isolate MERS-CoV EMC strain (HCoV-EMC/2012) and passage 3 isolate MERS-CoV (Qatar15/2015"
      ],
      "text/plain": [
       "<IPython.core.display.Markdown object>"
      ]
     },
     "metadata": {},
     "output_type": "display_data"
    },
    {
     "data": {
      "text/markdown": [
       "---"
      ],
      "text/plain": [
       "<IPython.core.display.Markdown object>"
      ]
     },
     "metadata": {},
     "output_type": "display_data"
    },
    {
     "data": {
      "text/markdown": [
       "L). These cages are separated by two stainless steel grids 10 cm apart to prevent direct contact but still allow airflow from the donor rabbit to the **airborne** recipient rabbit. These **transmission** cages allow the experiment to be conducted in negatively pressured isolators in the BSL3 facility, with HEPA-filtered airflow <0.1 m/s [18] . Since these cages were too small for"
      ],
      "text/plain": [
       "<IPython.core.display.Markdown object>"
      ]
     },
     "metadata": {},
     "output_type": "display_data"
    },
    {
     "data": {
      "text/markdown": [
       "---"
      ],
      "text/plain": [
       "<IPython.core.display.Markdown object>"
      ]
     },
     "metadata": {},
     "output_type": "display_data"
    },
    {
     "data": {
      "text/markdown": [
       "the direct contact and **airborne**-exposed rabbits developed any clinical signs, shed significant levels of viral RNA, shed infectious virus, nor did they seroconvert. One possible reason for this lack of **transmission** is the limited amount of infectious virus being shed by the inoculated rabbits [21] . Previous studies have shown that in the nasal and lung tissues of experimentally infected rabbits, infectious virus"
      ],
      "text/plain": [
       "<IPython.core.display.Markdown object>"
      ]
     },
     "metadata": {},
     "output_type": "display_data"
    },
    {
     "data": {
      "text/markdown": [
       "---"
      ],
      "text/plain": [
       "<IPython.core.display.Markdown object>"
      ]
     },
     "metadata": {},
     "output_type": "display_data"
    },
    {
     "data": {
      "text/markdown": [
       "been shown to shed a higher amount of viral RNA in their swabs compared to those that do not, supporting the quantity of virus shed as an important factor in the **transmission** of MERS-CoV between humans [34] . For influenza A viruses, infectious virus shedding has been documented as one of the main determinants of **airborne** virus transmission. Using ferrets as an animal"
      ],
      "text/plain": [
       "<IPython.core.display.Markdown object>"
      ]
     },
     "metadata": {},
     "output_type": "display_data"
    },
    {
     "data": {
      "text/markdown": [
       "---"
      ],
      "text/plain": [
       "<IPython.core.display.Markdown object>"
      ]
     },
     "metadata": {},
     "output_type": "display_data"
    },
    {
     "data": {
      "text/markdown": [
       "a low-risk **airborne** route with good interface fitting. [1, 14] Therefore, it is still unclear whether NPPV increases the risk of aerosol diffusion and disease transmission, especially with respect to **transmission** to medical personnel. [4] The use of NPPV for COVID-19 pneumonia still requires strict control of the medical environment and vigilance and monitoring of the infection risk to medical personnel"
      ],
      "text/plain": [
       "<IPython.core.display.Markdown object>"
      ]
     },
     "metadata": {},
     "output_type": "display_data"
    },
    {
     "data": {
      "text/markdown": [
       "---"
      ],
      "text/plain": [
       "<IPython.core.display.Markdown object>"
      ]
     },
     "metadata": {},
     "output_type": "display_data"
    },
    {
     "data": {
      "text/markdown": [
       "condensed water entering the nasal cavity, stimulating coughing in patients; (4) recent evidence shows that the dispersion distance of exhaled gases during HFNC treatment is limited, and the risk of **airborne** **transmission** is low. [14, 19] However, loose connections between HFNC and nasal plugs significantly increases the dispersion distance of exhaled gases (from 172 mm to 620 mm). [14, 19] Therefore, attention should"
      ],
      "text/plain": [
       "<IPython.core.display.Markdown object>"
      ]
     },
     "metadata": {},
     "output_type": "display_data"
    },
    {
     "data": {
      "text/markdown": [
       "---"
      ],
      "text/plain": [
       "<IPython.core.display.Markdown object>"
      ]
     },
     "metadata": {},
     "output_type": "display_data"
    },
    {
     "data": {
      "text/markdown": [
       "caused at least 347 related deaths (mortality rate ,37%) (http://www.who.int/csr/don/ 26-december-2014-mers/en/). MERS-CoV utilizes bat and camels as natural reservoirs and intermediate **transmission** hosts, respectively. 2-6 MERS-CoV can spread through close contact or **airborne** transmission, causing serious public health problems. 7, 8 As such, the development of effective vaccination strategies to prevent"
      ],
      "text/plain": [
       "<IPython.core.display.Markdown object>"
      ]
     },
     "metadata": {},
     "output_type": "display_data"
    },
    {
     "data": {
      "text/markdown": [
       "---"
      ],
      "text/plain": [
       "<IPython.core.display.Markdown object>"
      ]
     },
     "metadata": {},
     "output_type": "display_data"
    },
    {
     "data": {
      "text/markdown": [
       "and were more frequent in juvenile than in adult animals. These findings, together with the absence of viremia and the known respiratory tract tropism of several other coronaviruses, suggest that **airborne** **transmission** is the most likely mode of MERS-CoV transmission. Although nucleic acid copy numbers were commonly highest in juvenile animals that were seronegative or had low antibody titers, positive findings were"
      ],
      "text/plain": [
       "<IPython.core.display.Markdown object>"
      ]
     },
     "metadata": {},
     "output_type": "display_data"
    },
    {
     "data": {
      "text/markdown": [
       "---"
      ],
      "text/plain": [
       "<IPython.core.display.Markdown object>"
      ]
     },
     "metadata": {},
     "output_type": "display_data"
    },
    {
     "data": {
      "text/markdown": [
       "study. These data indicate that the virus was circulating in this farm concurrently with its detection in the camel and in the patient, which warrants further investigations for the possible **airborne** **transmission** of MERS-CoV.\n",
       "\n",
       "IMPORTANCE This work clearly highlights the importance of continuous surveillance and infection control measures to control the global public threat of MERS-CoV. While current MERS-CoV transmission"
      ],
      "text/plain": [
       "<IPython.core.display.Markdown object>"
      ]
     },
     "metadata": {},
     "output_type": "display_data"
    },
    {
     "data": {
      "text/markdown": [
       "---"
      ],
      "text/plain": [
       "<IPython.core.display.Markdown object>"
      ]
     },
     "metadata": {},
     "output_type": "display_data"
    },
    {
     "data": {
      "text/markdown": [
       "the air sample from this barn concurrently with its detection and isolation from the infected camel and the onset of symptoms in the patient warrants further investigations for the possible **airborne** **transmission** of MERS-CoV.\n",
       "\n",
       "The shedding of MERS-CoV into the environment is supported by several reports, including report of the nosocomial infection of immunocompromised patients and the infection of those in"
      ],
      "text/plain": [
       "<IPython.core.display.Markdown object>"
      ]
     },
     "metadata": {},
     "output_type": "display_data"
    },
    {
     "data": {
      "text/markdown": [
       "---"
      ],
      "text/plain": [
       "<IPython.core.display.Markdown object>"
      ]
     },
     "metadata": {},
     "output_type": "display_data"
    },
    {
     "data": {
      "text/markdown": [
       "detection of MERS-CoV-neutralizing antibodies and its genome in dromedary camels (8, (14) (15) (16) (17) (18) clearly suggest that these animals may play an important role in MERS-CoV **transmission** to humans. To our knowledge, this is the first report on the possible risk of **airborne** transmission of MERS-CoV, especially to personnel working directly with infected patients or animals. Our"
      ],
      "text/plain": [
       "<IPython.core.display.Markdown object>"
      ]
     },
     "metadata": {},
     "output_type": "display_data"
    },
    {
     "data": {
      "text/markdown": [
       "---"
      ],
      "text/plain": [
       "<IPython.core.display.Markdown object>"
      ]
     },
     "metadata": {},
     "output_type": "display_data"
    },
    {
     "data": {
      "text/markdown": [
       "infectious MERS-CoV, which can be transmitted to humans within confined spaces. These results also suggest that air sampling might be a useful approach to investigate the role of the **airborne** **transmission** of MERS-CoV spread and shedding. Further studies are urgently needed to fully understand the role of camels in the transmission of MERS-CoV and whether **airborne** transmission plays a role"
      ],
      "text/plain": [
       "<IPython.core.display.Markdown object>"
      ]
     },
     "metadata": {},
     "output_type": "display_data"
    },
    {
     "data": {
      "text/markdown": [
       "---"
      ],
      "text/plain": [
       "<IPython.core.display.Markdown object>"
      ]
     },
     "metadata": {},
     "output_type": "display_data"
    },
    {
     "data": {
      "text/markdown": [
       "aerosols using an animal nose-only exposure device.\n",
       "\n",
       "There are two modes of MERS-CoV infection, animal-to-human and human-to-human transmission. 16 Some reports have found that **airborne** **transmission** via the coughing and sneezing of infected dromedary camels or contact with respiratory secretions and consumption of unsterilized milk from infected camels can significantly increase the risk of MERS-CoV infection"
      ],
      "text/plain": [
       "<IPython.core.display.Markdown object>"
      ]
     },
     "metadata": {},
     "output_type": "display_data"
    },
    {
     "data": {
      "text/markdown": [
       "---"
      ],
      "text/plain": [
       "<IPython.core.display.Markdown object>"
      ]
     },
     "metadata": {},
     "output_type": "display_data"
    },
    {
     "data": {
      "text/markdown": [
       "the MERS-CoV is the evidence for effective inactivation of the SARS-CoV to below detectable levels within 2 min of exposure [20] .\n",
       "\n",
       "Effective hand hygiene is crucial in minimizing viral **transmission** from the contaminated hands of an infected individual, either through direct person-to-person contact, or indirectly via contamination of surfaces. However, respiratory viruses are also subject to **airborne** (particles B5"
      ],
      "text/plain": [
       "<IPython.core.display.Markdown object>"
      ]
     },
     "metadata": {},
     "output_type": "display_data"
    },
    {
     "data": {
      "text/markdown": [
       "---"
      ],
      "text/plain": [
       "<IPython.core.display.Markdown object>"
      ]
     },
     "metadata": {},
     "output_type": "display_data"
    },
    {
     "data": {
      "text/markdown": [
       "contact or large respiratory droplet transmission (3, 8) . However, despite the use of infection control precautions and personal protective equipment designed to prevent contact and droplet transmission, episodes of SARS-CoV **transmission** to health-care workers have continued to occur under certain circumstances.\n",
       "\n",
       "Of particular concern are procedures performed on SARS patients that may aerosolize SARS-CoV and lead to limited **airborne** transmission"
      ],
      "text/plain": [
       "<IPython.core.display.Markdown object>"
      ]
     },
     "metadata": {},
     "output_type": "display_data"
    },
    {
     "data": {
      "text/markdown": [
       "---"
      ],
      "text/plain": [
       "<IPython.core.display.Markdown object>"
      ]
     },
     "metadata": {},
     "output_type": "display_data"
    },
    {
     "data": {
      "text/markdown": [
       "procedure was performed quickly and without difficulty. These factors make it less likely that transmission occurred as a direct result of the intubation procedure. Instead, it is more likely that **transmission** was related to events leading up to the intubation. In this case, just as in previous cases, either contact, droplet, or **airborne** transmission might have occurred.\n",
       "\n",
       "Direct and indirect contact are"
      ],
      "text/plain": [
       "<IPython.core.display.Markdown object>"
      ]
     },
     "metadata": {},
     "output_type": "display_data"
    },
    {
     "data": {
      "text/markdown": [
       "---"
      ],
      "text/plain": [
       "<IPython.core.display.Markdown object>"
      ]
     },
     "metadata": {},
     "output_type": "display_data"
    },
    {
     "data": {
      "text/markdown": [
       "surfaces in close range of the patient, travel short distances through the air and make direct contact with the exposed mucous membranes of healthcare workers or other patients.\n",
       "\n",
       "In contrast, **airborne** **transmission** is mediated by respiratory aerosols. These aerosols of infectious organisms contain droplet nuclei <10 µm in size and, depending upon their size within this range as well as ambient environmental conditions"
      ],
      "text/plain": [
       "<IPython.core.display.Markdown object>"
      ]
     },
     "metadata": {},
     "output_type": "display_data"
    },
    {
     "data": {
      "text/markdown": [
       "---"
      ],
      "text/plain": [
       "<IPython.core.display.Markdown object>"
      ]
     },
     "metadata": {},
     "output_type": "display_data"
    },
    {
     "data": {
      "text/markdown": [
       "27) are transmissible through both contact and **airborne** modes. Often, investigation of the epidemiology of nosocomial viral infections, establishes the occurrence of **airborne** transmission (15) . Two explanations may account for the **transmission** observed in this case: 1) an unrecognized breach in contact and droplet precautions occurred, or 2) an **airborne** viral load was great enough to overwhelm the protection offered by droplet precautions"
      ],
      "text/plain": [
       "<IPython.core.display.Markdown object>"
      ]
     },
     "metadata": {},
     "output_type": "display_data"
    },
    {
     "data": {
      "text/markdown": [
       "---"
      ],
      "text/plain": [
       "<IPython.core.display.Markdown object>"
      ]
     },
     "metadata": {},
     "output_type": "display_data"
    },
    {
     "data": {
      "text/markdown": [
       "including non-fit-tested N95 disposable respirators. If the last form of **transmission** was responsible, **airborne** virus may have been generated by the coughing patient (16) before her cardiopulmonary arrest or due to a \"cough-like\" force produced by the airway pressures created during"
      ],
      "text/plain": [
       "<IPython.core.display.Markdown object>"
      ]
     },
     "metadata": {},
     "output_type": "display_data"
    },
    {
     "data": {
      "text/markdown": [
       "---"
      ],
      "text/plain": [
       "<IPython.core.display.Markdown object>"
      ]
     },
     "metadata": {},
     "output_type": "display_data"
    },
    {
     "data": {
      "text/markdown": [
       "and droplets from coughing or sneezing (16, 21) .\n",
       "\n",
       "The final line of protection against occupational exposure is protection equipment. The use of N95 respirators offers a level of protection against **airborne** **transmission** of SARS. However, for any form of respiratory protection to perform at the level of its full potential, it must be properly fitted to provide an adequate seal. The N95 disposable"
      ],
      "text/plain": [
       "<IPython.core.display.Markdown object>"
      ]
     },
     "metadata": {},
     "output_type": "display_data"
    },
    {
     "data": {
      "text/markdown": [
       "---"
      ],
      "text/plain": [
       "<IPython.core.display.Markdown object>"
      ]
     },
     "metadata": {},
     "output_type": "display_data"
    },
    {
     "data": {
      "text/markdown": [
       "detected, and no epidemiologic study has implicated **airborne** transmission. Transmission following exposure to camel feces may be biologically plausible, although no epidemiologic evidence indicates the likelihood of such transmission. Similarly, although **transmission** following consumption of raw camel milk may be biologically plausible, epidemiologic studies have not consistently identified milk consumption as a unique risk factor for MERS-CoV infection or illness, independent of"
      ],
      "text/plain": [
       "<IPython.core.display.Markdown object>"
      ]
     },
     "metadata": {},
     "output_type": "display_data"
    },
    {
     "data": {
      "text/markdown": [
       "---"
      ],
      "text/plain": [
       "<IPython.core.display.Markdown object>"
      ]
     },
     "metadata": {},
     "output_type": "display_data"
    },
    {
     "data": {
      "text/markdown": [
       "sanitization implemented. PUA had undetectable **airborne** SARS-CoV-2 concentration but obviously increased with accumulating crowd flow.\n",
       "\n",
       "Room ventilation, open space, proper use and disinfection of toilet can effectively limit aerosol **transmission** of SARS-CoV-2. Gathering of crowds with asymptomatic carriers is a potential source of **airborne** SARS-CoV-2. The virus aerosol deposition on protective apparel or floor surface and their"
      ],
      "text/plain": [
       "<IPython.core.display.Markdown object>"
      ]
     },
     "metadata": {},
     "output_type": "display_data"
    },
    {
     "data": {
      "text/markdown": [
       "---"
      ],
      "text/plain": [
       "<IPython.core.display.Markdown object>"
      ]
     },
     "metadata": {},
     "output_type": "display_data"
    },
    {
     "data": {
      "text/markdown": [
       "3) contact with surfaces contaminated with SARS-CoV-2. 4 Moreover, aerosol **transmission** of pathogens has been shown in confined spaces. 5, 6 There are many respiratory diseases spread by the **airborne** route such as tuberculosis, measles and chickenpox. 7, 8 A retrospective cohort"
      ],
      "text/plain": [
       "<IPython.core.display.Markdown object>"
      ]
     },
     "metadata": {},
     "output_type": "display_data"
    },
    {
     "data": {
      "text/markdown": [
       "---"
      ],
      "text/plain": [
       "<IPython.core.display.Markdown object>"
      ]
     },
     "metadata": {},
     "output_type": "display_data"
    },
    {
     "data": {
      "text/markdown": [
       "study conducted after the SARS epidemic in Hong Kong in 2003 suggested that **airborne** spread may have played an important role in the **transmission** of that disease. 9 At present, there is little information on the characteristics of **airborne** SARS-CoV-2 containing aerosols, their concentration patterns and behaviour during **airborne** transmission due to the"
      ],
      "text/plain": [
       "<IPython.core.display.Markdown object>"
      ]
     },
     "metadata": {},
     "output_type": "display_data"
    },
    {
     "data": {
      "text/markdown": [
       "---"
      ],
      "text/plain": [
       "<IPython.core.display.Markdown object>"
      ]
     },
     "metadata": {},
     "output_type": "display_data"
    },
    {
     "data": {
      "text/markdown": [
       "## onward"
      ],
      "text/plain": [
       "<IPython.core.display.Markdown object>"
      ]
     },
     "metadata": {},
     "output_type": "display_data"
    },
    {
     "data": {
      "text/markdown": [
       "animals in herd 2 would be sufficient to result in **onward** **transmission** to other animals. In addition to the three RT-PCR-positive camels, the serology data confirmed evidence of infection in three other camels from as early as September-October 2014 and"
      ],
      "text/plain": [
       "<IPython.core.display.Markdown object>"
      ]
     },
     "metadata": {},
     "output_type": "display_data"
    },
    {
     "data": {
      "text/markdown": [
       "---"
      ],
      "text/plain": [
       "<IPython.core.display.Markdown object>"
      ]
     },
     "metadata": {},
     "output_type": "display_data"
    },
    {
     "data": {
      "text/markdown": [
       "health due to recurring nosocomial outbreaks that may facilitate **onward** adaptation to humans [7] [8] [9] . The severe acute respiratory syndrome (SARS)-CoV caused an epidemic with sustained human-to-human **transmission** during 2002 to 2003 in China and other countries, involving more than 8,000 notified infections with a case fatality proportion of about 10% [10, 11] .\n",
       "\n",
       "Human SARS cases were derived"
      ],
      "text/plain": [
       "<IPython.core.display.Markdown object>"
      ]
     },
     "metadata": {},
     "output_type": "display_data"
    },
    {
     "data": {
      "text/markdown": [
       "---"
      ],
      "text/plain": [
       "<IPython.core.display.Markdown object>"
      ]
     },
     "metadata": {},
     "output_type": "display_data"
    },
    {
     "data": {
      "text/markdown": [
       "estimate the reproductive number and many statistical methods 2-7 were proposed for this task. Fortunately, these methods have now been made in publicly available software. 8, 9 Middle Although limited **transmission** was reported in these other regions, no sustained **onward** transmission has been detected outside of the Middle East until 2015. MERS-CoV transmissibility has been estimated to be around the threshold"
      ],
      "text/plain": [
       "<IPython.core.display.Markdown object>"
      ]
     },
     "metadata": {},
     "output_type": "display_data"
    },
    {
     "data": {
      "text/markdown": [
       "---"
      ],
      "text/plain": [
       "<IPython.core.display.Markdown object>"
      ]
     },
     "metadata": {},
     "output_type": "display_data"
    },
    {
     "data": {
      "text/markdown": [
       "or passive monitoring, react more rapidly if disease does develop. Results of contact tracing to date have found that **onward** **transmission** among humans is an infrequent event. For example, there were 83 contacts, both symptomatic and asymptomatic, of a case treated in Germany who travelled from the UAE but no sign of"
      ],
      "text/plain": [
       "<IPython.core.display.Markdown object>"
      ]
     },
     "metadata": {},
     "output_type": "display_data"
    },
    {
     "data": {
      "text/markdown": [
       "---"
      ],
      "text/plain": [
       "<IPython.core.display.Markdown object>"
      ]
     },
     "metadata": {},
     "output_type": "display_data"
    },
    {
     "data": {
      "text/markdown": [
       "preventing outbreaks among humans not at occupational risk of exposure to infected animals [79] . In the outbreak in the Republic of Korea, 5 of 186 cases were responsible for 83% of **transmission** events; most new cases did not result in any identified **onward** transmission; the reproduction (R 0 ) number was calculated as 3.9 and 1.9-6.9 from selected KSA outbreaks"
      ],
      "text/plain": [
       "<IPython.core.display.Markdown object>"
      ]
     },
     "metadata": {},
     "output_type": "display_data"
    },
    {
     "data": {
      "text/markdown": [
       "---"
      ],
      "text/plain": [
       "<IPython.core.display.Markdown object>"
      ]
     },
     "metadata": {},
     "output_type": "display_data"
    },
    {
     "data": {
      "text/markdown": [
       "outside China. We aim to estimate the number of cases imported from Wuhan to each country or territory outside mainland China, and with these estimates assess the risk of **onward** local **transmission** and the relative potential of case importation between countries outside China.\n",
       "\n",
       "We used the reported number of cases imported from Wuhan and flight data to generate an uncertainty distribution for the"
      ],
      "text/plain": [
       "<IPython.core.display.Markdown object>"
      ]
     },
     "metadata": {},
     "output_type": "display_data"
    },
    {
     "data": {
      "text/markdown": [
       "---"
      ],
      "text/plain": [
       "<IPython.core.display.Markdown object>"
      ]
     },
     "metadata": {},
     "output_type": "display_data"
    },
    {
     "data": {
      "text/markdown": [
       "limited capacity to test, and provide support to perform control measures and support for clinical care.\n",
       "\n",
       "Flight data has been used to determine connectivity between countries and therefore risk of **onward** **transmission** from China to other countries. Early in the outbreak, Bogoch et al. listed the countries at most risk of importations given the number of flights from Wuhan. 7 Their ranking ultimately"
      ],
      "text/plain": [
       "<IPython.core.display.Markdown object>"
      ]
     },
     "metadata": {},
     "output_type": "display_data"
    },
    {
     "data": {
      "text/markdown": [
       "---"
      ],
      "text/plain": [
       "<IPython.core.display.Markdown object>"
      ]
     },
     "metadata": {},
     "output_type": "display_data"
    },
    {
     "data": {
      "text/markdown": [
       "as an assessment of how at risk a country is to local transmission. 8, 9 In countries where importations are occurring, it will be important to quantify the risk of **onward** **transmission** occurring and the extent of this transmission. Kucharski et al. 10 considered this generally given the number of importations using a probabilistic model, and Wu et al estimated a probability of"
      ],
      "text/plain": [
       "<IPython.core.display.Markdown object>"
      ]
     },
     "metadata": {},
     "output_type": "display_data"
    },
    {
     "data": {
      "text/markdown": [
       "---"
      ],
      "text/plain": [
       "<IPython.core.display.Markdown object>"
      ]
     },
     "metadata": {},
     "output_type": "display_data"
    },
    {
     "data": {
      "text/markdown": [
       "from Singapore to the UK, 11 and from Thailand, Singapore and Japan to South Korea. 12 In light of this, there is some urgency to assessing the relative risks of **onward** **transmission** between countries outside of China.\n",
       "\n",
       "Therefore in this paper we estimate 1) the number of imported cases globally from Wuhan (using flight data and the currently reported cases), then using our"
      ],
      "text/plain": [
       "<IPython.core.display.Markdown object>"
      ]
     },
     "metadata": {},
     "output_type": "display_data"
    },
    {
     "data": {
      "text/markdown": [
       "---"
      ],
      "text/plain": [
       "<IPython.core.display.Markdown object>"
      ]
     },
     "metadata": {},
     "output_type": "display_data"
    },
    {
     "data": {
      "text/markdown": [
       "unreported cases, the local outbreak risk is ranked higher in the first scenario than the second scenario, as the extra estimated cases not being detected means a higher risk of **onward** **transmission** compared to countries where we estimate higher detection (Table 2 ).\n",
       "\n",
       "For each recipient country or territory outside mainland China, we assess the relative potential of COVID-19 introduction from each donor"
      ],
      "text/plain": [
       "<IPython.core.display.Markdown object>"
      ]
     },
     "metadata": {},
     "output_type": "display_data"
    },
    {
     "data": {
      "text/markdown": [
       "---"
      ],
      "text/plain": [
       "<IPython.core.display.Markdown object>"
      ]
     },
     "metadata": {},
     "output_type": "display_data"
    },
    {
     "data": {
      "text/markdown": [
       "implemented 19 , increasing the likelihood of finding community transmission. The impact of control measures after initial detected cases is not included in our model, but may alter the risk of **onward** **transmission** and should be considered in further iterations of the model as in other modelling work considering impact interventions under different transmission scenarios. 20, 21 Other countries that we estimate to be"
      ],
      "text/plain": [
       "<IPython.core.display.Markdown object>"
      ]
     },
     "metadata": {},
     "output_type": "display_data"
    },
    {
     "data": {
      "text/markdown": [
       "---"
      ],
      "text/plain": [
       "<IPython.core.display.Markdown object>"
      ]
     },
     "metadata": {},
     "output_type": "display_data"
    },
    {
     "data": {
      "text/markdown": [
       "of data could be considered here. The links between other places in China may follow similar patterns to Wuhan and therefore our risk of countries vulnerable for outbreaks and sourcing **onward** **transmission** may be similar, but there may be places that are differentially connected to Wuhan and other places in China and so will become at increased risk as importations from China continue"
      ],
      "text/plain": [
       "<IPython.core.display.Markdown object>"
      ]
     },
     "metadata": {},
     "output_type": "display_data"
    },
    {
     "data": {
      "text/markdown": [
       "---"
      ],
      "text/plain": [
       "<IPython.core.display.Markdown object>"
      ]
     },
     "metadata": {},
     "output_type": "display_data"
    },
    {
     "data": {
      "text/markdown": [
       "high risk of **onward** transmission within a number of countries outside mainland China, particularly in those places where cases were not detected, as these undetected cases could not be isolated, and **transmission** truncated. Given our results of high risk of **onward** transmission we highlight the importance of wider testing to pick up community transmission as soon as possible after transmission occurs. We also"
      ],
      "text/plain": [
       "<IPython.core.display.Markdown object>"
      ]
     },
     "metadata": {},
     "output_type": "display_data"
    },
    {
     "data": {
      "text/markdown": [
       "---"
      ],
      "text/plain": [
       "<IPython.core.display.Markdown object>"
      ]
     },
     "metadata": {},
     "output_type": "display_data"
    },
    {
     "data": {
      "text/markdown": [
       "iii) further spreading from secondary cities with local transmission to other tertiary cities in China and international cities via returning travellers after the LNY holiday; iv) **onward** **transmission** across multiple countries and leading to a pandemic. To interrupt the spread, a cordon sanitaire of Wuhan and surrounding cities in Hubei Province has been in place since January 23 rd"
      ],
      "text/plain": [
       "<IPython.core.display.Markdown object>"
      ]
     },
     "metadata": {},
     "output_type": "display_data"
    },
    {
     "data": {
      "text/markdown": [
       "---"
      ],
      "text/plain": [
       "<IPython.core.display.Markdown object>"
      ]
     },
     "metadata": {},
     "output_type": "display_data"
    },
    {
     "data": {
      "text/markdown": [
       "of an incubation period, during which infected individuals carry on their usual activities (including travel), is a major challenge for screening controls at airports 8 . Moreover, mild non-specific symptoms and **transmission** before the onset of clinical symptoms 2,10 may compromise infection control measures for importations and **onward** transmissions 9 . There is concern that imported cases may have gone undetected and contribute"
      ],
      "text/plain": [
       "<IPython.core.display.Markdown object>"
      ]
     },
     "metadata": {},
     "output_type": "display_data"
    },
    {
     "data": {
      "text/markdown": [
       "---"
      ],
      "text/plain": [
       "<IPython.core.display.Markdown object>"
      ]
     },
     "metadata": {},
     "output_type": "display_data"
    },
    {
     "data": {
      "text/markdown": [
       "1 population in the absence of other interventions. For those individuals who are traced and placed under active monitoring or individual quarantine, however, the impact of the interventions at reducing **onward** **transmission** by that person remains effective. Even if only a small proportion of infected contacts are traced, therefore, the transmission chains those contacts could create can be prevented. The extent to which"
      ],
      "text/plain": [
       "<IPython.core.display.Markdown object>"
      ]
     },
     "metadata": {},
     "output_type": "display_data"
    },
    {
     "data": {
      "text/markdown": [
       "---"
      ],
      "text/plain": [
       "<IPython.core.display.Markdown object>"
      ]
     },
     "metadata": {},
     "output_type": "display_data"
    },
    {
     "data": {
      "text/markdown": [
       "presymptomatic infectiousness, individual quarantine was considerably more effective than active monitoring at reducing **onward** **transmission** by an infected contact. To offset this relative benefit of individual quarantine compared to active monitoring, perverse incentives to avoid quarantine would have to be correspondingly larger. Both scenarios were fit"
      ],
      "text/plain": [
       "<IPython.core.display.Markdown object>"
      ]
     },
     "metadata": {},
     "output_type": "display_data"
    },
    {
     "data": {
      "text/markdown": [
       "---"
      ],
      "text/plain": [
       "<IPython.core.display.Markdown object>"
      ]
     },
     "metadata": {},
     "output_type": "display_data"
    },
    {
     "data": {
      "text/markdown": [
       "result of faster dynamics and more presymptomatic transmission. However, using a SARS-like serial interval of mean 7.5 days, individual quarantine and active monitoring are similarly effective at controlling **onward** **transmission** in a high feasibility setting. The burden of placing uninfected contacts under individual quarantine can grow untenable due to a longer duration in quarantine before clearance (assumed 14 days) and a"
      ],
      "text/plain": [
       "<IPython.core.display.Markdown object>"
      ]
     },
     "metadata": {},
     "output_type": "display_data"
    },
    {
     "data": {
      "text/markdown": [
       "---"
      ],
      "text/plain": [
       "<IPython.core.display.Markdown object>"
      ]
     },
     "metadata": {},
     "output_type": "display_data"
    },
    {
     "data": {
      "text/markdown": [
       "known to have traveled from Wuhan before 23 rd January 2020, the time from symptom onset to confirmation was 6.5 days (SD: 4.2, Fig. S2 ), providing opportunity for **onward** **transmission** at the destination. More active surveillance brought this interval down to 4.8 days (SD: 3.03, Fig. S2 ) for those who travelled after 23 rd January 2020.\n",
       "\n",
       "To identify accurately"
      ],
      "text/plain": [
       "<IPython.core.display.Markdown object>"
      ]
     },
     "metadata": {},
     "output_type": "display_data"
    },
    {
     "data": {
      "text/markdown": [
       "---"
      ],
      "text/plain": [
       "<IPython.core.display.Markdown object>"
      ]
     },
     "metadata": {},
     "output_type": "display_data"
    },
    {
     "data": {
      "text/markdown": [
       "surveillance must, if unisolated, be expected to cause 61% of **onward** **transmission** to achieve local elimination by surveillance and isolation alone (see Text S2).\n",
       "\n",
       "This analysis of early SARS-CoV-2 cases and their close contacts in Shenzhen China, provides insights into the"
      ],
      "text/plain": [
       "<IPython.core.display.Markdown object>"
      ]
     },
     "metadata": {},
     "output_type": "display_data"
    },
    {
     "data": {
      "text/markdown": [
       "---"
      ],
      "text/plain": [
       "<IPython.core.display.Markdown object>"
      ]
     },
     "metadata": {},
     "output_type": "display_data"
    },
    {
     "data": {
      "text/markdown": [
       "less than one (0.4) **onward** transmission per primary case. As noted above, low **transmission** levels may in part be due to the impact of isolation and surveillance; but it is equally likely unobserved transmission is playing some rule. We also estimate reasonably high rates of"
      ],
      "text/plain": [
       "<IPython.core.display.Markdown object>"
      ]
     },
     "metadata": {},
     "output_type": "display_data"
    },
    {
     "data": {
      "text/markdown": [
       "---"
      ],
      "text/plain": [
       "<IPython.core.display.Markdown object>"
      ]
     },
     "metadata": {},
     "output_type": "display_data"
    },
    {
     "data": {
      "text/markdown": [
       "put in place including advising the public against large social gatherings in order to mitigate the risk of community transmission (22, 23) . These social distancing measures reduce the risk of **onward** **transmission** not only within Singapore, but also beyond the borders of this highly connected nation (24).\n",
       "\n",
       "The reproduction number is a key threshold quantity to assess the transmission potential of an emerging"
      ],
      "text/plain": [
       "<IPython.core.display.Markdown object>"
      ]
     },
     "metadata": {},
     "output_type": "display_data"
    },
    {
     "data": {
      "text/markdown": [
       "---"
      ],
      "text/plain": [
       "<IPython.core.display.Markdown object>"
      ]
     },
     "metadata": {},
     "output_type": "display_data"
    },
    {
     "data": {
      "text/markdown": [
       "## fomites"
      ],
      "text/plain": [
       "<IPython.core.display.Markdown object>"
      ]
     },
     "metadata": {},
     "output_type": "display_data"
    },
    {
     "data": {
      "text/markdown": [
       "of another intermediate host for MERS-CoV **transmission** to humans. 3 Secondary infection may occur through droplets or contact, and the virus could spread either via air or **fomites**. 13 A few recent studies on infected patients showed that"
      ],
      "text/plain": [
       "<IPython.core.display.Markdown object>"
      ]
     },
     "metadata": {},
     "output_type": "display_data"
    },
    {
     "data": {
      "text/markdown": [
       "---"
      ],
      "text/plain": [
       "<IPython.core.display.Markdown object>"
      ]
     },
     "metadata": {},
     "output_type": "display_data"
    },
    {
     "data": {
      "text/markdown": [
       "the time of symptom onset, rather than SARS.\n",
       "\n",
       "Transmission of respiratory viruses generally happens through large respiratory droplets, but some respiratory viruses can spread through fine particle aerosols [10] , and indirect **transmission** via **fomites** can also play a role. Coronaviruses can also infect the human gastrointestinal tract [11, 12] , and faecal-oral transmission might also play a role in this instance. The SARS"
      ],
      "text/plain": [
       "<IPython.core.display.Markdown object>"
      ]
     },
     "metadata": {},
     "output_type": "display_data"
    },
    {
     "data": {
      "text/markdown": [
       "---"
      ],
      "text/plain": [
       "<IPython.core.display.Markdown object>"
      ]
     },
     "metadata": {},
     "output_type": "display_data"
    },
    {
     "data": {
      "text/markdown": [
       "less than 1 year of age are most susceptible to infection, and males are at an increased risk for infection until the age of 20 years (28) . The predominant mode of **transmission** is through a direct or indirect fecal-oral route; however, certain serotypes are transmitted via the respiratory route, in tears, and via **fomites** (29) . Immunity to EVs is serotype specific with"
      ],
      "text/plain": [
       "<IPython.core.display.Markdown object>"
      ]
     },
     "metadata": {},
     "output_type": "display_data"
    },
    {
     "data": {
      "text/markdown": [
       "---"
      ],
      "text/plain": [
       "<IPython.core.display.Markdown object>"
      ]
     },
     "metadata": {},
     "output_type": "display_data"
    },
    {
     "data": {
      "text/markdown": [
       "these routes of transmission is presently unclear. A study showed that viral aerosol generation by a patient with SARS was possible and therefore airborne droplet **transmission** was a possible means of transmission [5] . However, the role of **fomites** and environmental contamination in transmission of infection is presently still unclear. An outbreak of disease affecting over 300 residents"
      ],
      "text/plain": [
       "<IPython.core.display.Markdown object>"
      ]
     },
     "metadata": {},
     "output_type": "display_data"
    },
    {
     "data": {
      "text/markdown": [
       "---"
      ],
      "text/plain": [
       "<IPython.core.display.Markdown object>"
      ]
     },
     "metadata": {},
     "output_type": "display_data"
    },
    {
     "data": {
      "text/markdown": [
       "may persist on contaminated environmental surfaces and the duration of persistence of viable virus is affected markedly by temperature and humidity. Contaminated surfaces are known to be significant vectors in the **transmission** of infections in the hospital setting as well as the community. The role of **fomites** in the transmission of RSV has been clearly demonstrated [20] . Survival of viruses on a variety"
      ],
      "text/plain": [
       "<IPython.core.display.Markdown object>"
      ]
     },
     "metadata": {},
     "output_type": "display_data"
    },
    {
     "data": {
      "text/markdown": [
       "---"
      ],
      "text/plain": [
       "<IPython.core.display.Markdown object>"
      ]
     },
     "metadata": {},
     "output_type": "display_data"
    },
    {
     "data": {
      "text/markdown": [
       "indicates that SARS CoV is a stable virus that may potentially be transmitted by indirect contact or **fomites**. These results may indicate that contaminated surfaces may play a major role in **transmission** of infection in the hospital and the community.\n",
       "\n",
       "Our studies indicate that SCoV is relatively more stable than the human coronaviruses 229E or OC43 and some other viral respiratory pathogens such"
      ],
      "text/plain": [
       "<IPython.core.display.Markdown object>"
      ]
     },
     "metadata": {},
     "output_type": "display_data"
    },
    {
     "data": {
      "text/markdown": [
       "---"
      ],
      "text/plain": [
       "<IPython.core.display.Markdown object>"
      ]
     },
     "metadata": {},
     "output_type": "display_data"
    },
    {
     "data": {
      "text/markdown": [
       "as respiratory syncytial virus. These findings suggest that, while direct droplet transmission is an important route of transmission [23] , the role of **fomites** and environmental contamination in virus **transmission** may play a significant role in virus transmission. In particular, **fomites** may contribute to the continued transmission of infection in the nosocomial setting that continues to occur in spite of the"
      ],
      "text/plain": [
       "<IPython.core.display.Markdown object>"
      ]
     },
     "metadata": {},
     "output_type": "display_data"
    },
    {
     "data": {
      "text/markdown": [
       "---"
      ],
      "text/plain": [
       "<IPython.core.display.Markdown object>"
      ]
     },
     "metadata": {},
     "output_type": "display_data"
    },
    {
     "data": {
      "text/markdown": [
       "Background: In order to prevent spread of the endemic pathogens bovine coronavirus (BCoV) and bovine respiratory syncytial virus (BRSV) between herds, knowledge of indirect **transmission** by personnel and **fomites** is fundamental. The aims of the study were to determine the duration of viral RNA carriage and the infectivity of viral particles on **fomites** and human nasal"
      ],
      "text/plain": [
       "<IPython.core.display.Markdown object>"
      ]
     },
     "metadata": {},
     "output_type": "display_data"
    },
    {
     "data": {
      "text/markdown": [
       "---"
      ],
      "text/plain": [
       "<IPython.core.display.Markdown object>"
      ]
     },
     "metadata": {},
     "output_type": "display_data"
    },
    {
     "data": {
      "text/markdown": [
       "for infective viruses.\n",
       "\n",
       "The results indicate that human nasal mucosa can carry both BCoV and BRSV RNA after exposure to virus shedding calves, but the carriage seems short-lived and the **transmission** potential is likely limited. High viral loads on contaminates **fomites** 24 h after exposure to infected animals, and detection of infective BCoV, indicate that contaminated **fomites** represent a significant risk for"
      ],
      "text/plain": [
       "<IPython.core.display.Markdown object>"
      ]
     },
     "metadata": {},
     "output_type": "display_data"
    },
    {
     "data": {
      "text/markdown": [
       "---"
      ],
      "text/plain": [
       "<IPython.core.display.Markdown object>"
      ]
     },
     "metadata": {},
     "output_type": "display_data"
    },
    {
     "data": {
      "text/markdown": [
       "an infection risk to cattle. For BCoV in particular, **fomites** seem to represent a high risk, as virus isolation detected infective viruses after 24 h. Consequently, measures to prevent inter-herd **transmission** should include actions against indirect spread of virus.\n",
       "\n",
       "As high copy numbers of viral RNA on **fomites** indicated a transmission potential, further investigations were performed in order to assess whether the"
      ],
      "text/plain": [
       "<IPython.core.display.Markdown object>"
      ]
     },
     "metadata": {},
     "output_type": "display_data"
    },
    {
     "data": {
      "text/markdown": [
       "---"
      ],
      "text/plain": [
       "<IPython.core.display.Markdown object>"
      ]
     },
     "metadata": {},
     "output_type": "display_data"
    },
    {
     "data": {
      "text/markdown": [
       "BCoV for at least 24 h after exposure to infected animals.\n",
       "\n",
       "As reviewed by La Rosa et al., related coronaviruses and HRSV can be transmitted by **fomites** in addition to direct **transmission** through droplets and aerosols [23] . It is therefore plausible that BCoV and BRSV could be transmitted between farms via personnel and **fomites**. Even if protective clothing is used and changed between"
      ],
      "text/plain": [
       "<IPython.core.display.Markdown object>"
      ]
     },
     "metadata": {},
     "output_type": "display_data"
    },
    {
     "data": {
      "text/markdown": [
       "---"
      ],
      "text/plain": [
       "<IPython.core.display.Markdown object>"
      ]
     },
     "metadata": {},
     "output_type": "display_data"
    },
    {
     "data": {
      "text/markdown": [
       "are often brought between farms without cleaning/ disinfection, and can carry infective virus particles for at least 24 h after exposure to infected cattle.\n",
       "\n",
       "Personnel pose a risk in inter-herd **transmission** of BRSV and BCoV when bringing **fomites** between herds. In order to control the spread of these viruses, biosecurity measures should be implemented, including herd-specific clothing and equipment and washing"
      ],
      "text/plain": [
       "<IPython.core.display.Markdown object>"
      ]
     },
     "metadata": {},
     "output_type": "display_data"
    },
    {
     "data": {
      "text/markdown": [
       "---"
      ],
      "text/plain": [
       "<IPython.core.display.Markdown object>"
      ]
     },
     "metadata": {},
     "output_type": "display_data"
    },
    {
     "data": {
      "text/markdown": [
       "disinfection of **fomites**. Although personnel may carry the viruses intra-nasally for shorter periods of time, the relative importance of contaminated mucosa for indirect **transmission** is less than that of contaminated **fomites**"
      ],
      "text/plain": [
       "<IPython.core.display.Markdown object>"
      ]
     },
     "metadata": {},
     "output_type": "display_data"
    },
    {
     "data": {
      "text/markdown": [
       "---"
      ],
      "text/plain": [
       "<IPython.core.display.Markdown object>"
      ]
     },
     "metadata": {},
     "output_type": "display_data"
    },
    {
     "data": {
      "text/markdown": [
       "was more than one index case on board who could have contributed to transmission, and this would have lowered our estimated R0. Lastly, our models are based on human-to-human **transmission** and do not take into account the possibility that **fomites**, or water systems with infected feces, contributed to the outbreak. infected persons during their incubation time. These data need to be"
      ],
      "text/plain": [
       "<IPython.core.display.Markdown object>"
      ]
     },
     "metadata": {},
     "output_type": "display_data"
    },
    {
     "data": {
      "text/markdown": [
       "---"
      ],
      "text/plain": [
       "<IPython.core.display.Markdown object>"
      ]
     },
     "metadata": {},
     "output_type": "display_data"
    },
    {
     "data": {
      "text/markdown": [
       "completely effective, and that all symptomatic cases are eventually reported. Relaxing these assumptions would decrease the probability that control is achieved. We also make the assumption that contact is required for **transmission** between two individuals, but transmission via **fomites** might be possible. This type of transmission would make effective contact tracing challenging, and good respiratory and hand hygiene would be crucial to reduce"
      ],
      "text/plain": [
       "<IPython.core.display.Markdown object>"
      ]
     },
     "metadata": {},
     "output_type": "display_data"
    },
    {
     "data": {
      "text/markdown": [
       "---"
      ],
      "text/plain": [
       "<IPython.core.display.Markdown object>"
      ]
     },
     "metadata": {},
     "output_type": "display_data"
    },
    {
     "data": {
      "text/markdown": [
       "managed livestock industry is still susceptible to emergent pathogens. PEDV is relatively hardy, persisting on **fomites** for up to 20 days at low (4°C) temperatures (9) . Biosecurity designed to prevent **transmission** of labile pathogens or to prevent introduction of a new pathogen through traditional routes may be insufficient for nonlabile pathogens introduced through new mechanisms.\n",
       "\n",
       "The transmission pathway from infected facilities to"
      ],
      "text/plain": [
       "<IPython.core.display.Markdown object>"
      ]
     },
     "metadata": {},
     "output_type": "display_data"
    },
    {
     "data": {
      "text/markdown": [
       "---"
      ],
      "text/plain": [
       "<IPython.core.display.Markdown object>"
      ]
     },
     "metadata": {},
     "output_type": "display_data"
    },
    {
     "data": {
      "text/markdown": [
       "and at times may spread via **fomites** (27), but not by aerosol. It is therefore probable that human coronaviruses can be spread by aerosol as well as by large droplet. Aerosol **transmission** has actually been documented in poultry by the agent of avian infectious bronchitis (20) .\n",
       "\n",
       "There is no evidence that any animal reservoir or vectors are involved in the maintenance of infection"
      ],
      "text/plain": [
       "<IPython.core.display.Markdown object>"
      ]
     },
     "metadata": {},
     "output_type": "display_data"
    },
    {
     "data": {
      "text/markdown": [
       "---"
      ],
      "text/plain": [
       "<IPython.core.display.Markdown object>"
      ]
     },
     "metadata": {},
     "output_type": "display_data"
    },
    {
     "data": {
      "text/markdown": [
       "## tohuman"
      ],
      "text/plain": [
       "<IPython.core.display.Markdown object>"
      ]
     },
     "metadata": {},
     "output_type": "display_data"
    },
    {
     "data": {
      "text/markdown": [
       "throughout China including Taiwan and Hong Kong. As of 28 January 2020, over 4,500 confirmed cases have been reported with > 100 deaths (National Health Commission of the PRC). Human-**tohuman** **transmission** was suspected early in the outbreak and has now been confirmed and is the main source of infections [14] (National Health Commission of the PRC, update January 22, 2020). Many clinical"
      ],
      "text/plain": [
       "<IPython.core.display.Markdown object>"
      ]
     },
     "metadata": {},
     "output_type": "display_data"
    },
    {
     "data": {
      "text/markdown": [
       "---"
      ],
      "text/plain": [
       "<IPython.core.display.Markdown object>"
      ]
     },
     "metadata": {},
     "output_type": "display_data"
    },
    {
     "data": {
      "text/markdown": [
       "and caused 774 deaths according to the World Health Organization (WHO) 4 .\n",
       "\n",
       "The novel coronavirus, 2019-nCoV, is now quickly spreading across the world after originating in Wuhan 1 . Human-**tohuman** **transmission** of 2019-nCoV has been confirmed in familial case cluster reports 5 , as additional cases continue to be identified in different cities in China and countries around the world. Clinical symptoms"
      ],
      "text/plain": [
       "<IPython.core.display.Markdown object>"
      ]
     },
     "metadata": {},
     "output_type": "display_data"
    },
    {
     "data": {
      "text/markdown": [
       "---"
      ],
      "text/plain": [
       "<IPython.core.display.Markdown object>"
      ]
     },
     "metadata": {},
     "output_type": "display_data"
    },
    {
     "data": {
      "text/markdown": [
       "apparent human-**tohuman** **transmission** in Al Ahsa and Hafr Al-Batin, among others, it is puzzling that MERS-CoV was present in Saudi Arabia around the period of significant mass gatherings such as the Umrah"
      ],
      "text/plain": [
       "<IPython.core.display.Markdown object>"
      ]
     },
     "metadata": {},
     "output_type": "display_data"
    },
    {
     "data": {
      "text/markdown": [
       "---"
      ],
      "text/plain": [
       "<IPython.core.display.Markdown object>"
      ]
     },
     "metadata": {},
     "output_type": "display_data"
    },
    {
     "data": {
      "text/markdown": [
       "challenge. Thus, the Nbs can potentially be used in both humans and camels to prevent and treat MERS-CoV infections in either of these hosts and also block the camel-**tohuman** **transmission** of MERS-CoV. Overall, our study proves the feasibility of developing highly effective Nbs as anti-MERS-CoV therapeutic agents and points out strategies to preserve the advantages of Nbs, as"
      ],
      "text/plain": [
       "<IPython.core.display.Markdown object>"
      ]
     },
     "metadata": {},
     "output_type": "display_data"
    },
    {
     "data": {
      "text/markdown": [
       "---"
      ],
      "text/plain": [
       "<IPython.core.display.Markdown object>"
      ]
     },
     "metadata": {},
     "output_type": "display_data"
    },
    {
     "data": {
      "text/markdown": [
       "were 187 confirmed cases, and the outbreak resulted from an imported case with a history of travel to the Middle East [10] .\n",
       "\n",
       "There have been no reports of sustained human-**tohuman** **transmission** in the community. Household transmission is limited for unclear reasons, and nosocomial transmission is well known in healthcare settings in most of the reported clusters and outbreaks [9] .\n",
       "\n",
       "There are ongoing"
      ],
      "text/plain": [
       "<IPython.core.display.Markdown object>"
      ]
     },
     "metadata": {},
     "output_type": "display_data"
    },
    {
     "data": {
      "text/markdown": [
       "---"
      ],
      "text/plain": [
       "<IPython.core.display.Markdown object>"
      ]
     },
     "metadata": {},
     "output_type": "display_data"
    },
    {
     "data": {
      "text/markdown": [
       "ferrets, indicates the presence of a species barrier. However, an experimental study showed that human cell lines were susceptible to MERS-CoV infection [8] , and the reports of human-to-human **transmission** have increased [9] [10] [11] . The modes of human-**tohuman** MERS-CoV spread are incompletely defined [12] .\n",
       "\n",
       "Emergence of the Middle East respiratory syndrome coronavirus (MERS-CoV) has caused significant concern"
      ],
      "text/plain": [
       "<IPython.core.display.Markdown object>"
      ]
     },
     "metadata": {},
     "output_type": "display_data"
    },
    {
     "data": {
      "text/markdown": [
       "---"
      ],
      "text/plain": [
       "<IPython.core.display.Markdown object>"
      ]
     },
     "metadata": {},
     "output_type": "display_data"
    },
    {
     "data": {
      "text/markdown": [
       "multiple viral variants contributed to the cases but that most were similar enough to each other to be consistent with human-**tohuman** transmission. Molecular epidemiology has revealed otherwise hidden links in **transmission** chains encompassing a period of up to five months [179] . However, most outbreaks have not continued for longer than two to three months and so opportunities for the virus to adapt"
      ],
      "text/plain": [
       "<IPython.core.display.Markdown object>"
      ]
     },
     "metadata": {},
     "output_type": "display_data"
    },
    {
     "data": {
      "text/markdown": [
       "---"
      ],
      "text/plain": [
       "<IPython.core.display.Markdown object>"
      ]
     },
     "metadata": {},
     "output_type": "display_data"
    },
    {
     "data": {
      "text/markdown": [
       "and caused 774 deaths according to the World Health Organization (WHO) 4 .\n",
       "\n",
       "The novel coronavirus, 2019-nCoV, is now quickly spreading across the world after originating in Wuhan 1 . Human-**tohuman** **transmission** of 2019-nCoV has been confirmed in familial case cluster reports 5 , as additional cases continue to be identified in different cities in China and countries around the world. Clinical symptoms"
      ],
      "text/plain": [
       "<IPython.core.display.Markdown object>"
      ]
     },
     "metadata": {},
     "output_type": "display_data"
    },
    {
     "data": {
      "text/markdown": [
       "---"
      ],
      "text/plain": [
       "<IPython.core.display.Markdown object>"
      ]
     },
     "metadata": {},
     "output_type": "display_data"
    },
    {
     "data": {
      "text/markdown": [
       "the same human angiotensin-converting enzyme 2 receptor as the SARS-CoV, 5 whereas the MERS-CoV used dipeptidyl peptidase 4 (also known as CD26). 9 An efficient human-to-human **transmission** involves multiples routes of transmission, including droplet transfer, direct contact, and indirect contact. A limited human-**tohuman** transmission may require a high infective dose and a significantly close contact with an"
      ],
      "text/plain": [
       "<IPython.core.display.Markdown object>"
      ]
     },
     "metadata": {},
     "output_type": "display_data"
    },
    {
     "data": {
      "text/markdown": [
       "---"
      ],
      "text/plain": [
       "<IPython.core.display.Markdown object>"
      ]
     },
     "metadata": {},
     "output_type": "display_data"
    },
    {
     "data": {
      "text/markdown": [
       "WHO, ProMED-Mail, and rapid journal publications.\n",
       "\n",
       "The first analysis quantifies the minimum number of cases that must have occurred in the Arabian Peninsula if spread was achieved via human-**tohuman** **transmission** during the 89-day period between the June 6 and September 3, 2012, cases, which represents the longest gap between two successively confirmed infected cases. This process could also be applied"
      ],
      "text/plain": [
       "<IPython.core.display.Markdown object>"
      ]
     },
     "metadata": {},
     "output_type": "display_data"
    },
    {
     "data": {
      "text/markdown": [
       "---"
      ],
      "text/plain": [
       "<IPython.core.display.Markdown object>"
      ]
     },
     "metadata": {},
     "output_type": "display_data"
    },
    {
     "data": {
      "text/markdown": [
       "from direct exposure to a nonhuman source (with speculation being camels) with minimal potential for human-to-human transmission. While camels have been confirmed hosts of the virus, the mode of **transmission** from camels to humans remains unknown. Genetic sequencing of numerous MERS-CoV isolates suggests multiple introductions to humans from a zoonotic source; however, unrecognized sustained human-**tohuman** transmission cannot be ruled"
      ],
      "text/plain": [
       "<IPython.core.display.Markdown object>"
      ]
     },
     "metadata": {},
     "output_type": "display_data"
    },
    {
     "data": {
      "text/markdown": [
       "---"
      ],
      "text/plain": [
       "<IPython.core.display.Markdown object>"
      ]
     },
     "metadata": {},
     "output_type": "display_data"
    },
    {
     "data": {
      "text/markdown": [
       "Since the emergence of Middle East respiratory syndrome coronavirus (MERS-CoV) in 2012, there have been a number of clusters of human-to-human transmission. These cases of human-**tohuman** **transmission** involve close contact and have occurred primarily in healthcare settings, and they are suspected to result from repeated zoonotic introductions. In this study, we sequenced whole MERS-CoV genomes directly from"
      ],
      "text/plain": [
       "<IPython.core.display.Markdown object>"
      ]
     },
     "metadata": {},
     "output_type": "display_data"
    },
    {
     "data": {
      "text/markdown": [
       "---"
      ],
      "text/plain": [
       "<IPython.core.display.Markdown object>"
      ]
     },
     "metadata": {},
     "output_type": "display_data"
    },
    {
     "data": {
      "text/markdown": [
       "only infectious and hospitalized individuals, but also asymptomatic individuals could infect others. The parameters b, l 1 , l 2 , k, r, g a , g I and g r represent human-**tohuman** **transmission** rate per unit time, the relative transmissibility of asymptomatic and hospitalized classes, the rate of progression from exposed class E to symptomatic I or asymptomatic infectious class A, the proportion of"
      ],
      "text/plain": [
       "<IPython.core.display.Markdown object>"
      ]
     },
     "metadata": {},
     "output_type": "display_data"
    },
    {
     "data": {
      "text/markdown": [
       "---"
      ],
      "text/plain": [
       "<IPython.core.display.Markdown object>"
      ]
     },
     "metadata": {},
     "output_type": "display_data"
    },
    {
     "data": {
      "text/markdown": [
       "early in the emergence of MERS-CoV, particularly given the similarities to severe acute respiratory syndrome coronavirus, a zoonosis known to cause human respiratory disease, often severe, with sustained human-**tohuman** **transmission** and amplification in healthcare settings (11) . Persons with early cases of MERS-CoV infection were observed to have had exposure to dromedary camels (henceforth dromedaries), and subsequent serologic studies from the"
      ],
      "text/plain": [
       "<IPython.core.display.Markdown object>"
      ]
     },
     "metadata": {},
     "output_type": "display_data"
    },
    {
     "data": {
      "text/markdown": [
       "---"
      ],
      "text/plain": [
       "<IPython.core.display.Markdown object>"
      ]
     },
     "metadata": {},
     "output_type": "display_data"
    },
    {
     "data": {
      "text/markdown": [
       "in a person with history of travel to the Middle East (2, 3) . Increasing evidence suggests that dromedary camels are a natural host for MERS-CoV and that camel-to-human **transmission** can occur, initiating short chains of human-**tohuman** transmission (4) (5) (6) (7) . Numerous questions about the epidemiology of MERS-CoV remain unanswered.\n",
       "\n",
       "Healthcare settings are important amplifiers of transmission (6"
      ],
      "text/plain": [
       "<IPython.core.display.Markdown object>"
      ]
     },
     "metadata": {},
     "output_type": "display_data"
    },
    {
     "data": {
      "text/markdown": [
       "---"
      ],
      "text/plain": [
       "<IPython.core.display.Markdown object>"
      ]
     },
     "metadata": {},
     "output_type": "display_data"
    },
    {
     "data": {
      "text/markdown": [
       "secretions, detection and survival of virus in the environment, and detection of virus in aerosols, lend support for the biological plausibility of certain **transmission** pathways. We summarize the available evidence regarding camel-to-camel, camel-to-human, and human-**tohuman** transmission of MERS-CoV, including direct epidemiologic evidence and evidence supporting biologically plausible transmission routes"
      ],
      "text/plain": [
       "<IPython.core.display.Markdown object>"
      ]
     },
     "metadata": {},
     "output_type": "display_data"
    },
    {
     "data": {
      "text/markdown": [
       "---"
      ],
      "text/plain": [
       "<IPython.core.display.Markdown object>"
      ]
     },
     "metadata": {},
     "output_type": "display_data"
    },
    {
     "data": {
      "text/markdown": [
       "## superspreading"
      ],
      "text/plain": [
       "<IPython.core.display.Markdown object>"
      ]
     },
     "metadata": {},
     "output_type": "display_data"
    },
    {
     "data": {
      "text/markdown": [
       "the non-stratified TD-R analysis and as suggested elsewhere [22] . Indeed, the 2013 **superspreading** event in the Eastern province was comprised of the most notable cases of human-to-human **transmission** in Saudi Arabia [35] . This cluster was made up of males and females with a median age of 56 years and were all confined in a single health facility [15] .\n",
       "\n",
       "In"
      ],
      "text/plain": [
       "<IPython.core.display.Markdown object>"
      ]
     },
     "metadata": {},
     "output_type": "display_data"
    },
    {
     "data": {
      "text/markdown": [
       "---"
      ],
      "text/plain": [
       "<IPython.core.display.Markdown object>"
      ]
     },
     "metadata": {},
     "output_type": "display_data"
    },
    {
     "data": {
      "text/markdown": [
       "how to proceed responsibly if symptoms develop at the destination (World Health Organization, 2020d). Alongside increased general surveillance/alertness in healthcare settings, such measures could help reduce the risk of local **transmission** and **superspreading**, but their quantitative effectiveness is unknown. Once limited local transmission has begun, arrival screening could still have merit as a means to restrict the number of parallel chains of"
      ],
      "text/plain": [
       "<IPython.core.display.Markdown object>"
      ]
     },
     "metadata": {},
     "output_type": "display_data"
    },
    {
     "data": {
      "text/markdown": [
       "---"
      ],
      "text/plain": [
       "<IPython.core.display.Markdown object>"
      ]
     },
     "metadata": {},
     "output_type": "display_data"
    },
    {
     "data": {
      "text/markdown": [
       "to **superspreading** event at hospitals, accounting for > 80% of the total cases. Another characteristic was that many cases of second-and third-generation of **transmission** occurred (5, 6) . This finding is quite contrast to the previous studies suggesting limited person-to-person transmissibility of MERS-CoV (7, 8) . To better understand transmissibility and assess epidemic risk"
      ],
      "text/plain": [
       "<IPython.core.display.Markdown object>"
      ]
     },
     "metadata": {},
     "output_type": "display_data"
    },
    {
     "data": {
      "text/markdown": [
       "---"
      ],
      "text/plain": [
       "<IPython.core.display.Markdown object>"
      ]
     },
     "metadata": {},
     "output_type": "display_data"
    },
    {
     "data": {
      "text/markdown": [
       "Hajj and 2012 and 2013 Umrah in the midst of the emergence of this new disease without any obvious epidemic raises questions about the epidemiology of this disease. With an unknown **transmission** pattern, it is possible that the MERS-CoV could result in **superspreading** events, substantially altering the current epidemiology, as occurred with SARS.\n",
       "\n",
       "In summary, MERS-CoV is a major public health"
      ],
      "text/plain": [
       "<IPython.core.display.Markdown object>"
      ]
     },
     "metadata": {},
     "output_type": "display_data"
    },
    {
     "data": {
      "text/markdown": [
       "---"
      ],
      "text/plain": [
       "<IPython.core.display.Markdown object>"
      ]
     },
     "metadata": {},
     "output_type": "display_data"
    },
    {
     "data": {
      "text/markdown": [
       "Riyadh (Majumder et al. 2014 ), but these likely did not correct for effect of **superspreading** in health care settings (Kucharski and Althaus 2015) . One mathematical model suggested the risk of secondary **transmission** following an imported MERS-CoV case is 22.7% (95% CI: 19.2-25.1%), with the risks of generations 2, 3, and 4 estimated to be 10.5%, 6.1"
      ],
      "text/plain": [
       "<IPython.core.display.Markdown object>"
      ]
     },
     "metadata": {},
     "output_type": "display_data"
    },
    {
     "data": {
      "text/markdown": [
       "---"
      ],
      "text/plain": [
       "<IPython.core.display.Markdown object>"
      ]
     },
     "metadata": {},
     "output_type": "display_data"
    },
    {
     "data": {
      "text/markdown": [
       "811 associated deaths giving a fatality rate of 35.2%. Eighty percent of cases have been reported from countries of the World Health Organization Eastern Mediterranean Region. 2 Human-to-human **transmission** of MERS-CoV has been described in several closed clusters of cases, including a small family cluster of mild disease. 5 Two major healthcare-associated outbreaks due to **superspreading** events led"
      ],
      "text/plain": [
       "<IPython.core.display.Markdown object>"
      ]
     },
     "metadata": {},
     "output_type": "display_data"
    },
    {
     "data": {
      "text/markdown": [
       "---"
      ],
      "text/plain": [
       "<IPython.core.display.Markdown object>"
      ]
     },
     "metadata": {},
     "output_type": "display_data"
    },
    {
     "data": {
      "text/markdown": [
       "**Superspreading** events have contributed other infectious disease outbreaks (18) , most notably with the other recent new coronavirus that caused SARS in 2003. One of the defining fea-tures of SARS-CoV **transmission** inside and outside hospitals was **superspreading** events (19, 20) . Until now the lack of reported **superspreading** events due to MERS-CoV was a reassuring difference between MERS and SARS. This report"
      ],
      "text/plain": [
       "<IPython.core.display.Markdown object>"
      ]
     },
     "metadata": {},
     "output_type": "display_data"
    },
    {
     "data": {
      "text/markdown": [
       "---"
      ],
      "text/plain": [
       "<IPython.core.display.Markdown object>"
      ]
     },
     "metadata": {},
     "output_type": "display_data"
    },
    {
     "data": {
      "text/markdown": [
       "evolutionary pathway of MERS-CoV for human adaptation remains unclear. The efficacy of direct human-to-human spread in the community seems to be quite low, as the rate of human **transmission** among household contacts of MERS patients has been approximately 5% based on serological analysis (12) . However, ongoing sporadic outbreaks highlight the importance of early nosocomial **superspreading** events in secondary human infections"
      ],
      "text/plain": [
       "<IPython.core.display.Markdown object>"
      ]
     },
     "metadata": {},
     "output_type": "display_data"
    },
    {
     "data": {
      "text/markdown": [
       "---"
      ],
      "text/plain": [
       "<IPython.core.display.Markdown object>"
      ]
     },
     "metadata": {},
     "output_type": "display_data"
    },
    {
     "data": {
      "text/markdown": [
       "cities as well as projections into the next 200 days are also found. Our model, however, does not consider the contact network topology that would be necessary if details of the **transmission** process, such as **superspreading** events, are to be captured. Nonetheless, our model provides a very reasonable estimation of the propagation of average numbers of exposed, infected and recovered individuals, despite missing"
      ],
      "text/plain": [
       "<IPython.core.display.Markdown object>"
      ]
     },
     "metadata": {},
     "output_type": "display_data"
    },
    {
     "data": {
      "text/markdown": [
       "---"
      ],
      "text/plain": [
       "<IPython.core.display.Markdown object>"
      ]
     },
     "metadata": {},
     "output_type": "display_data"
    },
    {
     "data": {
      "text/markdown": [
       "case linked to a **superspreading** event that has led to at least 40 secondary cases stemming from church services in the city of Daegu (5, 6 ). This has led to sustained **transmission** chains of COVID-19, with about 52% of the cases associated with the church cluster in Daegu (7) . Moreover, three other clusters have been reported including one set in Chundo Daenam"
      ],
      "text/plain": [
       "<IPython.core.display.Markdown object>"
      ]
     },
     "metadata": {},
     "output_type": "display_data"
    },
    {
     "data": {
      "text/markdown": [
       "---"
      ],
      "text/plain": [
       "<IPython.core.display.Markdown object>"
      ]
     },
     "metadata": {},
     "output_type": "display_data"
    },
    {
     "data": {
      "text/markdown": [
       "used our estimates of the reproduction number to simulate new outbreaks with potential individual-level variation in transmission (i.e. '**superspreading** events') (13, 19, 20) . Such variation increases the fragility of **transmission** chains, making it less likely that an outbreak will take off following a single introduction; if transmission is more homogeneous, with all infectious individuals generating a similar number of secondary cases"
      ],
      "text/plain": [
       "<IPython.core.display.Markdown object>"
      ]
     },
     "metadata": {},
     "output_type": "display_data"
    },
    {
     "data": {
      "text/markdown": [
       "---"
      ],
      "text/plain": [
       "<IPython.core.display.Markdown object>"
      ]
     },
     "metadata": {},
     "output_type": "display_data"
    },
    {
     "data": {
      "text/markdown": [
       "study (61); whereas, an exponential growth pattern was estimated for Hubei (p~1.0) (61).\n",
       "\n",
       "A previous study on the 2015 MERS outbreak in South Korea reported substantial potential for **superspreading** **transmission** despite a subcritical Rt (62) . The lower estimate of the dispersion parameter in our study also indicate significant transmission heterogeneity in Singapore. **Superspreading** events of MERS-CoV and SARS-CoV associated"
      ],
      "text/plain": [
       "<IPython.core.display.Markdown object>"
      ]
     },
     "metadata": {},
     "output_type": "display_data"
    },
    {
     "data": {
      "text/markdown": [
       "---"
      ],
      "text/plain": [
       "<IPython.core.display.Markdown object>"
      ]
     },
     "metadata": {},
     "output_type": "display_data"
    },
    {
     "data": {
      "text/markdown": [
       "## uranyl"
      ],
      "text/plain": [
       "<IPython.core.display.Markdown object>"
      ]
     },
     "metadata": {},
     "output_type": "display_data"
    },
    {
     "data": {
      "text/markdown": [
       "1 h, 3 h, and overnight, respectively. Finally, ultrathin sections were stained by **uranyl** acetate and alkaline lead citrate for 5-10 min and observed using a Hitachi Model H-7650 **transmission** EM [25] .\n",
       "\n",
       "PDCoV infected LLC-PK1 cells were lysed in CelLytic M lysis buffer (Sigma, St. Louis, MO, USA). The protein concentration was quantified by the BCA (bicinchoninic acid) protein assay"
      ],
      "text/plain": [
       "<IPython.core.display.Markdown object>"
      ]
     },
     "metadata": {},
     "output_type": "display_data"
    },
    {
     "data": {
      "text/markdown": [
       "---"
      ],
      "text/plain": [
       "<IPython.core.display.Markdown object>"
      ]
     },
     "metadata": {},
     "output_type": "display_data"
    },
    {
     "data": {
      "text/markdown": [
       "Wetzlar), carbon coated, glow discharged using 400 copper-rhodium grids, washed with distilled water, and stained using 1% (wt/vol) **uranyl** acetate. The grids were examined with a Zeiss EM 910 **transmission** electron microscope at 80 kV. Images were taken using a magnification-calibrated side-mounted charge-coupled-device (CCD) camera (Megaview II; SIS, Muenster, Germany) at an instrumental magnification of ϫ80,000"
      ],
      "text/plain": [
       "<IPython.core.display.Markdown object>"
      ]
     },
     "metadata": {},
     "output_type": "display_data"
    },
    {
     "data": {
      "text/markdown": [
       "---"
      ],
      "text/plain": [
       "<IPython.core.display.Markdown object>"
      ]
     },
     "metadata": {},
     "output_type": "display_data"
    },
    {
     "data": {
      "text/markdown": [
       "the secondary antibody stain. DAPI-containing mounting media (Vector shield) was then added to the antibody-stained cells, and the cells were observed using a fluorescence microscope.\n",
       "\n",
       "Transmission electronic microscopy. For **transmission** electron microscopy, 10 μL of nanoparticle sample was added onto a glow-discharged grid. The grid was then washed with ddH 2 O. Subsequently, the grid was stained with 1% **uranyl**"
      ],
      "text/plain": [
       "<IPython.core.display.Markdown object>"
      ]
     },
     "metadata": {},
     "output_type": "display_data"
    },
    {
     "data": {
      "text/markdown": [
       "---"
      ],
      "text/plain": [
       "<IPython.core.display.Markdown object>"
      ]
     },
     "metadata": {},
     "output_type": "display_data"
    },
    {
     "data": {
      "text/markdown": [
       "thick) sections of the samples were stained with both **uranyl** acetate and lead citrate by standard procedures. All sections were observed and photographed with a FEI Tecnai G2 Spirit Bio-TWIN **transmission** electron microscope (FEI, US).\n",
       "\n",
       "Cells were infected with TGEV at 1.0 MOI for 24 h. Meanwhile, the mock infection was carried out. Each sample was treated with 5 μl of"
      ],
      "text/plain": [
       "<IPython.core.display.Markdown object>"
      ]
     },
     "metadata": {},
     "output_type": "display_data"
    },
    {
     "data": {
      "text/markdown": [
       "---"
      ],
      "text/plain": [
       "<IPython.core.display.Markdown object>"
      ]
     },
     "metadata": {},
     "output_type": "display_data"
    },
    {
     "data": {
      "text/markdown": [
       "temperature, the samples were embedded in epoxy LX-12 resin. Thin sections were contrasted with **uranyl** acetate and lead hydroxide, and subsequently viewed at 80 kV with a Philips CM-10 **transmission** electron microscope.\n",
       "\n",
       "For IEM, infected cell monolayers were cryofixed by either plunging them into liquid ethane or by high-pressure freezing using a Leica EM PACT2. The freeze substitution was performed"
      ],
      "text/plain": [
       "<IPython.core.display.Markdown object>"
      ]
     },
     "metadata": {},
     "output_type": "display_data"
    },
    {
     "data": {
      "text/markdown": [
       "---"
      ],
      "text/plain": [
       "<IPython.core.display.Markdown object>"
      ]
     },
     "metadata": {},
     "output_type": "display_data"
    },
    {
     "data": {
      "text/markdown": [
       "nm). A bridging rabbit-antimouse IgG antibody (DakoCytomation) was used for mouse monoclonal antibodies. Grids were contrasted with **uranyl** acetate and lead hydroxide, and subsequently viewed with a Philips CM-10 **transmission** electron microscope.\n",
       "\n",
       "When quantifying DMVs per infected cell, thin sections were cut in the direction parallel to the substrate, and the slice producing the largest nuclear diameter was analyzed, since this"
      ],
      "text/plain": [
       "<IPython.core.display.Markdown object>"
      ]
     },
     "metadata": {},
     "output_type": "display_data"
    },
    {
     "data": {
      "text/markdown": [
       "---"
      ],
      "text/plain": [
       "<IPython.core.display.Markdown object>"
      ]
     },
     "metadata": {},
     "output_type": "display_data"
    },
    {
     "data": {
      "text/markdown": [
       "were post-fixed with osmium tetroxide, stained with **uranyl** acetate, embedded in Spurr's embedding medium, then thin-sectioned. The thin sections were stained with **uranyl** acetate and lead citrate and **transmission** electron microscopy performed using a Hitachi H-600.\n",
       "\n",
       "Five days after being seeded, about 50% of the RPTEC had completely deteriorated, whereupon spent BGM media was added to 2 groups of"
      ],
      "text/plain": [
       "<IPython.core.display.Markdown object>"
      ]
     },
     "metadata": {},
     "output_type": "display_data"
    },
    {
     "data": {
      "text/markdown": [
       "---"
      ],
      "text/plain": [
       "<IPython.core.display.Markdown object>"
      ]
     },
     "metadata": {},
     "output_type": "display_data"
    },
    {
     "data": {
      "text/markdown": [
       "previously described (11) . It was cut on ultramicrotome (RMC MT-XL) at 65 nm. Ultrathin sections were stained with saturated 4% **uranyl** acetate and 4% lead citrate before examination with a **transmission** electron microscope (JEM-1400; JEOL USA Inc., Peabody, MA, USA) at 60 kV. Spherical particles ranging 77 to 131 nm in diameter were observed within the cytoplasm of infected cells (Fig"
      ],
      "text/plain": [
       "<IPython.core.display.Markdown object>"
      ]
     },
     "metadata": {},
     "output_type": "display_data"
    },
    {
     "data": {
      "text/markdown": [
       "---"
      ],
      "text/plain": [
       "<IPython.core.display.Markdown object>"
      ]
     },
     "metadata": {},
     "output_type": "display_data"
    },
    {
     "data": {
      "text/markdown": [
       "plastic block was cut to 70-nm thick sections using an ultramicrotome and mounted on a 100mesh nickel grid, and electrostained with 5% **uranyl** acetate.\n",
       "\n",
       "The sections were observed with a **transmission** electron microscope (Libra120, Carl Zeiss, Germany) at an acceleration voltage of 120 kV [13] [14] [15] . copies in the samples before inoculation was 7.6 × 10 8 and 3.9 × 10"
      ],
      "text/plain": [
       "<IPython.core.display.Markdown object>"
      ]
     },
     "metadata": {},
     "output_type": "display_data"
    },
    {
     "data": {
      "text/markdown": [
       "---"
      ],
      "text/plain": [
       "<IPython.core.display.Markdown object>"
      ]
     },
     "metadata": {},
     "output_type": "display_data"
    },
    {
     "data": {
      "text/markdown": [
       "grids. Sections were stained with 2% **uranyl** acetate for 5 min and with Sato's lead stain for 1 min. Grids were viewed using either a Tecnai G 2 Spirit BioTWIN **transmission** electron microscope equipped with an Eagle 4k high-sensitivity (HS) digital camera (FEI, Hillsboro, OR) or a Phillips CM-20 camera equipped with a 2k charge-coupled device (CCD).\n",
       "\n",
       "Percentages found"
      ],
      "text/plain": [
       "<IPython.core.display.Markdown object>"
      ]
     },
     "metadata": {},
     "output_type": "display_data"
    },
    {
     "data": {
      "text/markdown": [
       "---"
      ],
      "text/plain": [
       "<IPython.core.display.Markdown object>"
      ]
     },
     "metadata": {},
     "output_type": "display_data"
    },
    {
     "data": {
      "text/markdown": [
       "60°C. Slides were cut with ultramicrotome (Ultracut Uct, Leica, Deerfield, IL), stained with **uranyl** acetate and lead citrate, and metaled. The ultrathin sections of infected Vero cells were observed through **transmission** electron microscopy (Hitachi H7000).\n",
       "\n",
       "Sequencing of the complete SARS-CoV HSR1 genome was performed by using 68 partially overlapping primers encompassing the whole viral genome. A 5′ rapid amplification of PCR"
      ],
      "text/plain": [
       "<IPython.core.display.Markdown object>"
      ]
     },
     "metadata": {},
     "output_type": "display_data"
    },
    {
     "data": {
      "text/markdown": [
       "---"
      ],
      "text/plain": [
       "<IPython.core.display.Markdown object>"
      ]
     },
     "metadata": {},
     "output_type": "display_data"
    },
    {
     "data": {
      "text/markdown": [
       "microtome and mounted on copper slot grids. Sections were doubly stained with **uranyl** acetate for 10 min and lead citrate for another 10 min and observed under a Hitachi H-7650 **transmission** electron microscope"
      ],
      "text/plain": [
       "<IPython.core.display.Markdown object>"
      ]
     },
     "metadata": {},
     "output_type": "display_data"
    },
    {
     "data": {
      "text/markdown": [
       "---"
      ],
      "text/plain": [
       "<IPython.core.display.Markdown object>"
      ]
     },
     "metadata": {},
     "output_type": "display_data"
    },
    {
     "data": {
      "text/markdown": [
       "## presymptomatic"
      ],
      "text/plain": [
       "<IPython.core.display.Markdown object>"
      ]
     },
     "metadata": {},
     "output_type": "display_data"
    },
    {
     "data": {
      "text/markdown": [
       "which was fully dependent on the growth rate of exported cases, could have overestimated the intrinsic growth rate of cases. Considering the estimated value of R 0 , the possibility of **presymptomatic** **transmission** in the ongoing epidemic is a critical question, as it would have a substantial impact on public health response to the epidemic (e.g., whether the contact tracing should be prioritized"
      ],
      "text/plain": [
       "<IPython.core.display.Markdown object>"
      ]
     },
     "metadata": {},
     "output_type": "display_data"
    },
    {
     "data": {
      "text/markdown": [
       "---"
      ],
      "text/plain": [
       "<IPython.core.display.Markdown object>"
      ]
     },
     "metadata": {},
     "output_type": "display_data"
    },
    {
     "data": {
      "text/markdown": [
       "the delays in the early phase of the outbreak in Wuhan, the same contact tracing success of 80% achieved a probability of containing an outbreak of less than 40%. Higher **presymptomatic** **transmission** decreases the probability that the outbreaks were controlled, under all reproduction numbers and isolation delay distributions tested.\n",
       "\n",
       "Our model did not include other control measures that might decrease the reproduction number"
      ],
      "text/plain": [
       "<IPython.core.display.Markdown object>"
      ]
     },
     "metadata": {},
     "output_type": "display_data"
    },
    {
     "data": {
      "text/markdown": [
       "---"
      ],
      "text/plain": [
       "<IPython.core.display.Markdown object>"
      ]
     },
     "metadata": {},
     "output_type": "display_data"
    },
    {
     "data": {
      "text/markdown": [
       "2, which was fully dependent on the growth rate of exported cases, could have overestimated the intrinsic growth rate of cases. Considering the estimated value of 0 , the possibility of **presymptomatic** **transmission** in the ongoing epidemic is a critical question, as it would have a substantial impact on public health response to the epidemic (e.g., whether the contact tracing should be prioritized"
      ],
      "text/plain": [
       "<IPython.core.display.Markdown object>"
      ]
     },
     "metadata": {},
     "output_type": "display_data"
    },
    {
     "data": {
      "text/markdown": [
       "---"
      ],
      "text/plain": [
       "<IPython.core.display.Markdown object>"
      ]
     },
     "metadata": {},
     "output_type": "display_data"
    },
    {
     "data": {
      "text/markdown": [
       "implies that the effectiveness of case finding and contact tracing in preventing COVID-19 infections will be considerably smaller compared to the effectiveness in preventing SARS or MERS infections, where **presymptomatic** **transmission** did not play an important role (see e.g. [15] ). It is unlikely that these measures alone will suffice to control the COVID-19 epidemic. Additional measures, such as social distancing"
      ],
      "text/plain": [
       "<IPython.core.display.Markdown object>"
      ]
     },
     "metadata": {},
     "output_type": "display_data"
    },
    {
     "data": {
      "text/markdown": [
       "---"
      ],
      "text/plain": [
       "<IPython.core.display.Markdown object>"
      ]
     },
     "metadata": {},
     "output_type": "display_data"
    },
    {
     "data": {
      "text/markdown": [
       "can be implemented, therefore, they can help mitigate the spread of COVID-19. Our model highlights the urgent need for more data on the serial interval and the extent of **presymptomatic** **transmission** in order to make data-driven policy decisions regarding the cost-benefit comparisons of individual quarantine vs. active monitoring of contacts"
      ],
      "text/plain": [
       "<IPython.core.display.Markdown object>"
      ]
     },
     "metadata": {},
     "output_type": "display_data"
    },
    {
     "data": {
      "text/markdown": [
       "---"
      ],
      "text/plain": [
       "<IPython.core.display.Markdown object>"
      ]
     },
     "metadata": {},
     "output_type": "display_data"
    },
    {
     "data": {
      "text/markdown": [
       "or near the same time that they become infectious. Recent work on isolation for COVID-19 found a potentially large impact of perfect isolation, if one assumed there was limited **presymptomatic** **transmission** and a high probability of tracing contacts to be put under isolation immediately following symptom onset. 7 Our framework enables comparison of active monitoring and individual quarantine and considers parameters such"
      ],
      "text/plain": [
       "<IPython.core.display.Markdown object>"
      ]
     },
     "metadata": {},
     "output_type": "display_data"
    },
    {
     "data": {
      "text/markdown": [
       "---"
      ],
      "text/plain": [
       "<IPython.core.display.Markdown object>"
      ]
     },
     "metadata": {},
     "output_type": "display_data"
    },
    {
     "data": {
      "text/markdown": [
       "as delays, and imperfect isolation to account for known nosocomial **transmission** of this respiratory virus. 8 One of the key uncertainties surrounding COVID-19 is the extent of asymptomatic and **presymptomatic** transmission. A recent study reporting asymptomatic transmission in Germany 9 was"
      ],
      "text/plain": [
       "<IPython.core.display.Markdown object>"
      ]
     },
     "metadata": {},
     "output_type": "display_data"
    },
    {
     "data": {
      "text/markdown": [
       "---"
      ],
      "text/plain": [
       "<IPython.core.display.Markdown object>"
      ]
     },
     "metadata": {},
     "output_type": "display_data"
    },
    {
     "data": {
      "text/markdown": [
       "granted medRxiv a license to display the preprint in perpetuity.\n",
       "\n",
       "is the (which was not peer-reviewed) The copyright holder for this preprint .\n",
       "\n",
       "First, the serial interval and extent of **presymptomatic** **transmission** are important determinants of the effectiveness of interventions. The median reproductive number was 0.57 under individual quarantine and 1.55 under active monitoring in serial interval scenario 1 ( Figure 2"
      ],
      "text/plain": [
       "<IPython.core.display.Markdown object>"
      ]
     },
     "metadata": {},
     "output_type": "display_data"
    },
    {
     "data": {
      "text/markdown": [
       "---"
      ],
      "text/plain": [
       "<IPython.core.display.Markdown object>"
      ]
     },
     "metadata": {},
     "output_type": "display_data"
    },
    {
     "data": {
      "text/markdown": [
       "**presymptomatic** infectiousness, individual quarantine was considerably more effective than active monitoring at reducing onward **transmission** by an infected contact. To offset this relative benefit of individual quarantine compared to active monitoring, perverse incentives to avoid quarantine would have to be correspondingly larger. Both scenarios were fit"
      ],
      "text/plain": [
       "<IPython.core.display.Markdown object>"
      ]
     },
     "metadata": {},
     "output_type": "display_data"
    },
    {
     "data": {
      "text/markdown": [
       "---"
      ],
      "text/plain": [
       "<IPython.core.display.Markdown object>"
      ]
     },
     "metadata": {},
     "output_type": "display_data"
    },
    {
     "data": {
      "text/markdown": [
       "increase the number of uninfected contacts exposed to **presymptomatic** infectiousness of those who do go on to develop the disease. In serial interval scenario 1, where a mean of 20% of **transmission** is expected to occur before symptom onset, the positive effect of prompt isolation can be offset by an increase in **presymptomatic** transmission in a confined space. Mass quarantines can also result"
      ],
      "text/plain": [
       "<IPython.core.display.Markdown object>"
      ]
     },
     "metadata": {},
     "output_type": "display_data"
    },
    {
     "data": {
      "text/markdown": [
       "---"
      ],
      "text/plain": [
       "<IPython.core.display.Markdown object>"
      ]
     },
     "metadata": {},
     "output_type": "display_data"
    },
    {
     "data": {
      "text/markdown": [
       "result of faster dynamics and more **presymptomatic** transmission. However, using a SARS-like serial interval of mean 7.5 days, individual quarantine and active monitoring are similarly effective at controlling onward **transmission** in a high feasibility setting. The burden of placing uninfected contacts under individual quarantine can grow untenable due to a longer duration in quarantine before clearance (assumed 14 days) and a"
      ],
      "text/plain": [
       "<IPython.core.display.Markdown object>"
      ]
     },
     "metadata": {},
     "output_type": "display_data"
    },
    {
     "data": {
      "text/markdown": [
       "---"
      ],
      "text/plain": [
       "<IPython.core.display.Markdown object>"
      ]
     },
     "metadata": {},
     "output_type": "display_data"
    },
    {
     "data": {
      "text/markdown": [
       "transmission, with the serial interval shorter than incubation period by 2-4 days. We find differences in estimated incubation period between early and later cases; this may be due to **presymptomatic** **transmission** or differences in reporting and/or in perceived exposure as the outbreak progressed, in the context of social distancing measures. Finally, our shorter serial intervals lead to an estimate of the"
      ],
      "text/plain": [
       "<IPython.core.display.Markdown object>"
      ]
     },
     "metadata": {},
     "output_type": "display_data"
    },
    {
     "data": {
      "text/markdown": [
       "---"
      ],
      "text/plain": [
       "<IPython.core.display.Markdown object>"
      ]
     },
     "metadata": {},
     "output_type": "display_data"
    },
    {
     "data": {
      "text/markdown": [
       "## fomite"
      ],
      "text/plain": [
       "<IPython.core.display.Markdown object>"
      ]
     },
     "metadata": {},
     "output_type": "display_data"
    },
    {
     "data": {
      "text/markdown": [
       "ray devices [7] . Another study also reported that MERS-CoV could survive for longer than two days at 20 • C and 40% relative humidity, confirming the risk of contact or **fomite** **transmission** in healthcare settings [74] . Viral RNA, on the other hand, is detected for up to five days on environmental surfaces following the last positive PCR from patients' respiratory samples; RNA was"
      ],
      "text/plain": [
       "<IPython.core.display.Markdown object>"
      ]
     },
     "metadata": {},
     "output_type": "display_data"
    },
    {
     "data": {
      "text/markdown": [
       "---"
      ],
      "text/plain": [
       "<IPython.core.display.Markdown object>"
      ]
     },
     "metadata": {},
     "output_type": "display_data"
    },
    {
     "data": {
      "text/markdown": [
       "severity could predict a poor outcome.\n",
       "\n",
       "In this stage of lack of effective drugs, the implementation of infection control interventions and traffic control bundle to effectively limit droplet, contact, and **fomite** **transmission** is the only way to slow the spread of the SARS-CoV-2. These infection control interventions include early identification of cases and their contacts, avoiding close contact with people with"
      ],
      "text/plain": [
       "<IPython.core.display.Markdown object>"
      ]
     },
     "metadata": {},
     "output_type": "display_data"
    },
    {
     "data": {
      "text/markdown": [
       "---"
      ],
      "text/plain": [
       "<IPython.core.display.Markdown object>"
      ]
     },
     "metadata": {},
     "output_type": "display_data"
    },
    {
     "data": {
      "text/markdown": [
       "or emergency rooms (Lee 2015b) and patients switching facilities (Lee 2015a (Lee , 2015b .\n",
       "\n",
       "Direct contact could be inferred in only about 10% of the cases, and some authors suggested that **fomite** **transmission** could be important Wong 2015, Seo et al. 2016 , also reviewed in Otter et al. 2016) . Earlier reports demonstrated that MERS-CoV is relatively stable in the environment, reported recoverable on"
      ],
      "text/plain": [
       "<IPython.core.display.Markdown object>"
      ]
     },
     "metadata": {},
     "output_type": "display_data"
    },
    {
     "data": {
      "text/markdown": [
       "---"
      ],
      "text/plain": [
       "<IPython.core.display.Markdown object>"
      ]
     },
     "metadata": {},
     "output_type": "display_data"
    },
    {
     "data": {
      "text/markdown": [
       "essential and could prevent many secondary cases. In the interim, better documentation or identification of the specific lapses that led to infection would be of great value in understanding mechanisms of **transmission** and is one of the greatest knowledge gaps. Much of the evidence for **fomite** transmission, for example, remains anecdotal (Van Kerkhove et al. 2016) .\n",
       "\n",
       "The mechanisms supporting chains of human MERS"
      ],
      "text/plain": [
       "<IPython.core.display.Markdown object>"
      ]
     },
     "metadata": {},
     "output_type": "display_data"
    },
    {
     "data": {
      "text/markdown": [
       "---"
      ],
      "text/plain": [
       "<IPython.core.display.Markdown object>"
      ]
     },
     "metadata": {},
     "output_type": "display_data"
    },
    {
     "data": {
      "text/markdown": [
       "186 infection cases in 2015 (12) . Most of the cases in this large-scale outbreak were those who shared the same healthcare environment without direct contact with MERS patients. Therefore, **fomite** **transmission** may explain a significant proportion of the infections (12) . The virological evidence to support **fomite** transmission is that MERS-CoV remains stable at low temperatures and 1 low humidity, and could"
      ],
      "text/plain": [
       "<IPython.core.display.Markdown object>"
      ]
     },
     "metadata": {},
     "output_type": "display_data"
    },
    {
     "data": {
      "text/markdown": [
       "---"
      ],
      "text/plain": [
       "<IPython.core.display.Markdown object>"
      ]
     },
     "metadata": {},
     "output_type": "display_data"
    },
    {
     "data": {
      "text/markdown": [
       "be recovered after exposure to the environment for 48 hours (13) . Accordingly, viral RNA can be extensively detected in the environmental surfaces in rooms of MERS patients (14) . Given that **fomite** **transmission** may play a role in the outbreak in healthcare settings, acquisition of MERS-CoV infection via the gastrointestinal tract should be seriously considered. Collectively, in both camel-to-human transmission and"
      ],
      "text/plain": [
       "<IPython.core.display.Markdown object>"
      ]
     },
     "metadata": {},
     "output_type": "display_data"
    },
    {
     "data": {
      "text/markdown": [
       "---"
      ],
      "text/plain": [
       "<IPython.core.display.Markdown object>"
      ]
     },
     "metadata": {},
     "output_type": "display_data"
    },
    {
     "data": {
      "text/markdown": [
       "associated cases could not be established. In addition to potentially unrecognized human cases, indirect contact or **fomite** **transmission** in this outbreak also remains a possibility. Although contamination of environmental surfaces is a suspected mode of transmission for some respiratory viruses in certain settings [32] , this has not been confirmed"
      ],
      "text/plain": [
       "<IPython.core.display.Markdown object>"
      ]
     },
     "metadata": {},
     "output_type": "display_data"
    },
    {
     "data": {
      "text/markdown": [
       "---"
      ],
      "text/plain": [
       "<IPython.core.display.Markdown object>"
      ]
     },
     "metadata": {},
     "output_type": "display_data"
    },
    {
     "data": {
      "text/markdown": [
       "indoor surfaces in a climate-controlled setting. Viral contamination of commonly handled surfaces in a hospital setting was reported during the 2015 South Korea outbreak [34, 35] . The importance of **fomite** **transmission** compared with other transmission routes in nosocomial outbreaks of MERS-CoV remains uncertain but could have important implications for infection prevention and control guidance.\n",
       "\n",
       "Our investigation had several limitations. The seroepidemiologic"
      ],
      "text/plain": [
       "<IPython.core.display.Markdown object>"
      ]
     },
     "metadata": {},
     "output_type": "display_data"
    },
    {
     "data": {
      "text/markdown": [
       "---"
      ],
      "text/plain": [
       "<IPython.core.display.Markdown object>"
      ]
     },
     "metadata": {},
     "output_type": "display_data"
    },
    {
     "data": {
      "text/markdown": [
       "3) (4) (5) . The recovery of infectious MERS-CoV in virus cultures of specimens from bed sheets, bedrails, intravenous fluid hangers, and radiograph equipment indicates the potential for **fomite** **transmission** of the virus in hospitals providing care for MERS-CoV patients (6) . However, sustained human-to-human transmission has not been documented, and some case-patients have no identified source of"
      ],
      "text/plain": [
       "<IPython.core.display.Markdown object>"
      ]
     },
     "metadata": {},
     "output_type": "display_data"
    },
    {
     "data": {
      "text/markdown": [
       "---"
      ],
      "text/plain": [
       "<IPython.core.display.Markdown object>"
      ]
     },
     "metadata": {},
     "output_type": "display_data"
    },
    {
     "data": {
      "text/markdown": [
       "the most common forms of **transmission** for most nosocomial pathogens; transmission between patients or from patient to healthcare worker usually follows contamination of the healthcare workers' hands after touching either the patient or a **fomite** that came"
      ],
      "text/plain": [
       "<IPython.core.display.Markdown object>"
      ]
     },
     "metadata": {},
     "output_type": "display_data"
    },
    {
     "data": {
      "text/markdown": [
       "---"
      ],
      "text/plain": [
       "<IPython.core.display.Markdown object>"
      ]
     },
     "metadata": {},
     "output_type": "display_data"
    },
    {
     "data": {
      "text/markdown": [
       "being in the same room as a MERS case-patient. Similar observations were documented during a multihospital outbreak in Jordan in 2015, and anecdotal evidence suggested a potential role for **fomite** **transmission** associated with a common imaging table and portable echocardiogram machine (Appendix reference 80).\n",
       "\n",
       "MERS-CoV has been cultured from environmental objects, such as bed sheets, bedrails, intravenous fluid hangers, and radiograph"
      ],
      "text/plain": [
       "<IPython.core.display.Markdown object>"
      ]
     },
     "metadata": {},
     "output_type": "display_data"
    },
    {
     "data": {
      "text/markdown": [
       "---"
      ],
      "text/plain": [
       "<IPython.core.display.Markdown object>"
      ]
     },
     "metadata": {},
     "output_type": "display_data"
    },
    {
     "data": {
      "text/markdown": [
       "has also been shown to be relatively stable in the environment under various conditions (Appendix reference 82), supporting the possibility of **fomite** transmission, although definitive epidemiologic evidence implicating **fomite** or aerosol **transmission** is lacking.\n",
       "\n",
       "Studies have described delays in case recognition and establishment of infection control precautions as factors in healthcare-associated transmission (Appendix references 54,56,79). Triage practices that result in"
      ],
      "text/plain": [
       "<IPython.core.display.Markdown object>"
      ]
     },
     "metadata": {},
     "output_type": "display_data"
    },
    {
     "data": {
      "text/markdown": [
       "---"
      ],
      "text/plain": [
       "<IPython.core.display.Markdown object>"
      ]
     },
     "metadata": {},
     "output_type": "display_data"
    },
    {
     "data": {
      "text/markdown": [
       "## humanto"
      ],
      "text/plain": [
       "<IPython.core.display.Markdown object>"
      ]
     },
     "metadata": {},
     "output_type": "display_data"
    },
    {
     "data": {
      "text/markdown": [
       "one from a family in Saudi Arabia, the other from a healthcare team at a hospital in Jordan and the most recent UK cluster of cases certainly suggests that **humanto**-human **transmission** is very likely. In the family cluster, 3 members contracted the infection. The index case is thought to be a 70-year old grandfather admitted to a hospital in Riyadh with"
      ],
      "text/plain": [
       "<IPython.core.display.Markdown object>"
      ]
     },
     "metadata": {},
     "output_type": "display_data"
    },
    {
     "data": {
      "text/markdown": [
       "---"
      ],
      "text/plain": [
       "<IPython.core.display.Markdown object>"
      ]
     },
     "metadata": {},
     "output_type": "display_data"
    },
    {
     "data": {
      "text/markdown": [
       "States, as well as Hong Kong and Taiwan. Domestically in China, the virus has also been noted in several cities and provinces with cases in all but one provinence. While zoonotic **transmission** appears to be the original source of infections, the most alarming development is that **humanto**-human transmission is now prevelant. Of particular concern is that many healthcare workers have been infected"
      ],
      "text/plain": [
       "<IPython.core.display.Markdown object>"
      ]
     },
     "metadata": {},
     "output_type": "display_data"
    },
    {
     "data": {
      "text/markdown": [
       "---"
      ],
      "text/plain": [
       "<IPython.core.display.Markdown object>"
      ]
     },
     "metadata": {},
     "output_type": "display_data"
    },
    {
     "data": {
      "text/markdown": [
       "al. 2013a, b) . For example, the hospitalbased emergence of MERS during spring 2013 in Al-Ahsa (eastern province of Saudi Arabia) was the result of **humanto**-human **transmission** with the spread largely suspected to occur through large droplets and contact (Assiri et al. 2013) .\n",
       "\n",
       "Similarly, the majority of cases detected during the 2014 outbreak of MERS in Jeddah, Saudi"
      ],
      "text/plain": [
       "<IPython.core.display.Markdown object>"
      ]
     },
     "metadata": {},
     "output_type": "display_data"
    },
    {
     "data": {
      "text/markdown": [
       "---"
      ],
      "text/plain": [
       "<IPython.core.display.Markdown object>"
      ]
     },
     "metadata": {},
     "output_type": "display_data"
    },
    {
     "data": {
      "text/markdown": [
       "Middle East respiratory syndrome (MERS) was first reported in 2012 [1] . Clusters of MERS-Coronavirus (MERS-CoV) infection have occurred within extended families, households, and healthcare settings [2] . **Humanto**-human **transmission** has been documented including transmission to healthcare workers [3] [4] [5] . Although the spread of MERS-CoV is assumed to occur via large droplets and contact, the possibility of airborne transmission"
      ],
      "text/plain": [
       "<IPython.core.display.Markdown object>"
      ]
     },
     "metadata": {},
     "output_type": "display_data"
    },
    {
     "data": {
      "text/markdown": [
       "---"
      ],
      "text/plain": [
       "<IPython.core.display.Markdown object>"
      ]
     },
     "metadata": {},
     "output_type": "display_data"
    },
    {
     "data": {
      "text/markdown": [
       "MERS-CoV community cases [12] and hospital outbreaks [13] [14] [15] [16] , but no sustained epidemic [7] . Hospital case clusters of MERS-CoV represent the primary location where rapid **humanto**-human **transmission** of MERS-CoV have occurred; although limited spread among family members has been observed [17, 18] . SARS-CoV [10] was also predominantly spread through nosocomial transmission, but the epidemiological features of"
      ],
      "text/plain": [
       "<IPython.core.display.Markdown object>"
      ]
     },
     "metadata": {},
     "output_type": "display_data"
    },
    {
     "data": {
      "text/markdown": [
       "---"
      ],
      "text/plain": [
       "<IPython.core.display.Markdown object>"
      ]
     },
     "metadata": {},
     "output_type": "display_data"
    },
    {
     "data": {
      "text/markdown": [
       "for this virus; and zoonotic spillover from dromedaries to humans has, thus far, driven the course of the epidemic [10] [11] [12] [13] [14] [15] [16] [17] [18] . Although **humanto**-human **transmission** has been documented -particularly in the context of nosocomial outbreaks [19] [20] [21] [22] [23] [24] -the spread of MERS-CoV is inefficient and unsustained, as reflected in an estimated reproduction"
      ],
      "text/plain": [
       "<IPython.core.display.Markdown object>"
      ]
     },
     "metadata": {},
     "output_type": "display_data"
    },
    {
     "data": {
      "text/markdown": [
       "---"
      ],
      "text/plain": [
       "<IPython.core.display.Markdown object>"
      ]
     },
     "metadata": {},
     "output_type": "display_data"
    },
    {
     "data": {
      "text/markdown": [
       "also computed, and equal to 12. This simple analysis reveals the possibility that MERS-CoV could have been sustained in the population over a three-month period solely via **humanto**-human **transmission** under the provision that only a few cases went undetected.\n",
       "\n",
       "The focus of the next stage of analysis is the Hajj, which takes place around October in Saudi Arabia. Laboratory-confirmed"
      ],
      "text/plain": [
       "<IPython.core.display.Markdown object>"
      ]
     },
     "metadata": {},
     "output_type": "display_data"
    },
    {
     "data": {
      "text/markdown": [
       "---"
      ],
      "text/plain": [
       "<IPython.core.display.Markdown object>"
      ]
     },
     "metadata": {},
     "output_type": "display_data"
    },
    {
     "data": {
      "text/markdown": [
       "patients with MERS-CoV were identified during our investigation in the UAE from July 2013 through May 2014. Of 65 patients, there were six known clusters of **humanto**-human MERS-CoV **transmission** and other sporadic cases verified by extensive epidemiological investigation Hunter et al., 2016) . The available respiratory samples from 23 patients analysed at the US Centers for Disease Control and Prevention (CDC"
      ],
      "text/plain": [
       "<IPython.core.display.Markdown object>"
      ]
     },
     "metadata": {},
     "output_type": "display_data"
    },
    {
     "data": {
      "text/markdown": [
       "---"
      ],
      "text/plain": [
       "<IPython.core.display.Markdown object>"
      ]
     },
     "metadata": {},
     "output_type": "display_data"
    },
    {
     "data": {
      "text/markdown": [
       "2019 (1, 2). The initial cases have been linked to a wet market in the city of Wuhan, pointing to an animal source of the epidemic (3) . Subsequently, rapid **humanto**-human **transmission** of the disease was confirmed in January 2020, and the etiological agent was identified as severe acute respiratory syndrome-related coronavirus 2 (SARS-CoV-2) due to its genetic similarity to"
      ],
      "text/plain": [
       "<IPython.core.display.Markdown object>"
      ]
     },
     "metadata": {},
     "output_type": "display_data"
    },
    {
     "data": {
      "text/markdown": [
       "---"
      ],
      "text/plain": [
       "<IPython.core.display.Markdown object>"
      ]
     },
     "metadata": {},
     "output_type": "display_data"
    },
    {
     "data": {
      "text/markdown": [
       "## hitachi"
      ],
      "text/plain": [
       "<IPython.core.display.Markdown object>"
      ]
     },
     "metadata": {},
     "output_type": "display_data"
    },
    {
     "data": {
      "text/markdown": [
       "1 h, 3 h, and overnight, respectively. Finally, ultrathin sections were stained by uranyl acetate and alkaline lead citrate for 5-10 min and observed using a **Hitachi** Model H-7650 **transmission** EM [25] .\n",
       "\n",
       "PDCoV infected LLC-PK1 cells were lysed in CelLytic M lysis buffer (Sigma, St. Louis, MO, USA). The protein concentration was quantified by the BCA (bicinchoninic acid) protein assay"
      ],
      "text/plain": [
       "<IPython.core.display.Markdown object>"
      ]
     },
     "metadata": {},
     "output_type": "display_data"
    },
    {
     "data": {
      "text/markdown": [
       "---"
      ],
      "text/plain": [
       "<IPython.core.display.Markdown object>"
      ]
     },
     "metadata": {},
     "output_type": "display_data"
    },
    {
     "data": {
      "text/markdown": [
       "plates, harvested at 24 hpi, were negatively stained. The virions were stained with 2% phosphotungstic acid (pH 6.8) for 1.5 min and examined using a **Hitachi** Model H-7650 **transmission** electron microscope (TEM). The virus samples were observed according to the methods described in earlier studies [20] .\n",
       "\n",
       "Viral RNA was extracted from the isolated third-passage PDCoV strain CHN-JS-2017"
      ],
      "text/plain": [
       "<IPython.core.display.Markdown object>"
      ]
     },
     "metadata": {},
     "output_type": "display_data"
    },
    {
     "data": {
      "text/markdown": [
       "---"
      ],
      "text/plain": [
       "<IPython.core.display.Markdown object>"
      ]
     },
     "metadata": {},
     "output_type": "display_data"
    },
    {
     "data": {
      "text/markdown": [
       "At 72 h post-infection, the cells were collected and fixed with 2% glutaraldehyde and then with 1% osmium tetroxide. Thin-section samples were prepared and examined under a **Hitachi**-H7500 **transmission** electron microscope. For immunogold labeling, BVLPs were loaded onto a collodion-coated EM grid for 5 min. After removal of the excess sample solution, antibody against BS2 protein was added onto"
      ],
      "text/plain": [
       "<IPython.core.display.Markdown object>"
      ]
     },
     "metadata": {},
     "output_type": "display_data"
    },
    {
     "data": {
      "text/markdown": [
       "---"
      ],
      "text/plain": [
       "<IPython.core.display.Markdown object>"
      ]
     },
     "metadata": {},
     "output_type": "display_data"
    },
    {
     "data": {
      "text/markdown": [
       "were post-fixed with osmium tetroxide, stained with uranyl acetate, embedded in Spurr's embedding medium, then thin-sectioned. The thin sections were stained with uranyl acetate and lead citrate and **transmission** electron microscopy performed using a **Hitachi** H-600.\n",
       "\n",
       "Five days after being seeded, about 50% of the RPTEC had completely deteriorated, whereupon spent BGM media was added to 2 groups of"
      ],
      "text/plain": [
       "<IPython.core.display.Markdown object>"
      ]
     },
     "metadata": {},
     "output_type": "display_data"
    },
    {
     "data": {
      "text/markdown": [
       "---"
      ],
      "text/plain": [
       "<IPython.core.display.Markdown object>"
      ]
     },
     "metadata": {},
     "output_type": "display_data"
    },
    {
     "data": {
      "text/markdown": [
       "PA, USA) and citrate lead (Sigma-Aldrich, St. Louis, MO, USA). Subsequently, the grids were washed with water and dried in air at room temperature. The ultrastructural observations were performed by **transmission** electron microscope **Hitachi** H500 at an accelerating voltage of 75 kV.\n",
       "\n",
       "HF cells were infected with (M+E) or (M-HA+E) and S rBVs at MOI = 4 and cultured for"
      ],
      "text/plain": [
       "<IPython.core.display.Markdown object>"
      ]
     },
     "metadata": {},
     "output_type": "display_data"
    },
    {
     "data": {
      "text/markdown": [
       "---"
      ],
      "text/plain": [
       "<IPython.core.display.Markdown object>"
      ]
     },
     "metadata": {},
     "output_type": "display_data"
    },
    {
     "data": {
      "text/markdown": [
       "of adding trypsin (USB, USA) to the virus growth medium to obtain a final concentration of 5 to 10 g/mL. The virus supernatants were purified and examined by using a **transmission** electron microscope (HT7700; **Hitachi** High Technologies, Japan) as described previously [9] .\n",
       "\n",
       "The PDCoV nucleocapsid (N) antigen was prepared from PK-PDCoV-N cells stably expressing the PDCoV N protein as described"
      ],
      "text/plain": [
       "<IPython.core.display.Markdown object>"
      ]
     },
     "metadata": {},
     "output_type": "display_data"
    },
    {
     "data": {
      "text/markdown": [
       "---"
      ],
      "text/plain": [
       "<IPython.core.display.Markdown object>"
      ]
     },
     "metadata": {},
     "output_type": "display_data"
    },
    {
     "data": {
      "text/markdown": [
       "1% osmium tetroxide and routinely embedded in Epon resin. Ultra-thin sections of the selected areas were prepared, contrasted with hafnium chloride and lead citrate and examined using a **Hitachi** 7600 **transmission** electron microscope (**Hitachi** High-Technologies Co., Tokyo, Japan).\n",
       "\n",
       "Histopathologically, multifocal granulomas consisting of necrotic foci, macrophages, fibroblasts and plentiful fibrous connective tissues were observed in the mesenteric mass (Fig. 1, 2"
      ],
      "text/plain": [
       "<IPython.core.display.Markdown object>"
      ]
     },
     "metadata": {},
     "output_type": "display_data"
    },
    {
     "data": {
      "text/markdown": [
       "---"
      ],
      "text/plain": [
       "<IPython.core.display.Markdown object>"
      ]
     },
     "metadata": {},
     "output_type": "display_data"
    },
    {
     "data": {
      "text/markdown": [
       "60°C. Slides were cut with ultramicrotome (Ultracut Uct, Leica, Deerfield, IL), stained with uranyl acetate and lead citrate, and metaled. The ultrathin sections of infected Vero cells were observed through **transmission** electron microscopy (**Hitachi** H7000).\n",
       "\n",
       "Sequencing of the complete SARS-CoV HSR1 genome was performed by using 68 partially overlapping primers encompassing the whole viral genome. A 5′ rapid amplification of PCR"
      ],
      "text/plain": [
       "<IPython.core.display.Markdown object>"
      ]
     },
     "metadata": {},
     "output_type": "display_data"
    },
    {
     "data": {
      "text/markdown": [
       "---"
      ],
      "text/plain": [
       "<IPython.core.display.Markdown object>"
      ]
     },
     "metadata": {},
     "output_type": "display_data"
    },
    {
     "data": {
      "text/markdown": [
       "microtome and mounted on copper slot grids. Sections were doubly stained with uranyl acetate for 10 min and lead citrate for another 10 min and observed under a **Hitachi** H-7650 **transmission** electron microscope"
      ],
      "text/plain": [
       "<IPython.core.display.Markdown object>"
      ]
     },
     "metadata": {},
     "output_type": "display_data"
    },
    {
     "data": {
      "text/markdown": [
       "---"
      ],
      "text/plain": [
       "<IPython.core.display.Markdown object>"
      ]
     },
     "metadata": {},
     "output_type": "display_data"
    },
    {
     "data": {
      "text/markdown": [
       "## tecnai"
      ],
      "text/plain": [
       "<IPython.core.display.Markdown object>"
      ]
     },
     "metadata": {},
     "output_type": "display_data"
    },
    {
     "data": {
      "text/markdown": [
       "times for 1 minute. Grids were fixed for 2 minutes (1% paraformaldehyde, 2% glutaraldehyde in PBS), washed in deionised water and negatively stained with 2% methylamine tungstate (Nanoprobes), and observed by **transmission** electron microscopy in a **Tecnai** 20 G2 transmission electron microscope (FEI) operated at 200 kV, digital images were collected using an AMT Advantage XR-12 digital camera.\n",
       "\n",
       "SARS-CoV was incubated"
      ],
      "text/plain": [
       "<IPython.core.display.Markdown object>"
      ]
     },
     "metadata": {},
     "output_type": "display_data"
    },
    {
     "data": {
      "text/markdown": [
       "---"
      ],
      "text/plain": [
       "<IPython.core.display.Markdown object>"
      ]
     },
     "metadata": {},
     "output_type": "display_data"
    },
    {
     "data": {
      "text/markdown": [
       "2-5 seconds with filter paper, grids were plunged into liquid ethane cooled by liquid nitrogen, using a custom built gravityoperated freezing device. Specimens were transferred to a **Tecnai** 20 G2 **transmission** electron microscope (FEI) operated at 200 kV, equipped with a Gatan 626.DH low-temperature specimen holder. Observations were made at temperatures of ,2185uC and images recorded at 29,0006 magnification"
      ],
      "text/plain": [
       "<IPython.core.display.Markdown object>"
      ]
     },
     "metadata": {},
     "output_type": "display_data"
    },
    {
     "data": {
      "text/markdown": [
       "---"
      ],
      "text/plain": [
       "<IPython.core.display.Markdown object>"
      ]
     },
     "metadata": {},
     "output_type": "display_data"
    },
    {
     "data": {
      "text/markdown": [
       "thick) sections of the samples were stained with both uranyl acetate and lead citrate by standard procedures. All sections were observed and photographed with a FEI **Tecnai** G2 Spirit Bio-TWIN **transmission** electron microscope (FEI, US).\n",
       "\n",
       "Cells were infected with TGEV at 1.0 MOI for 24 h. Meanwhile, the mock infection was carried out. Each sample was treated with 5 μl of"
      ],
      "text/plain": [
       "<IPython.core.display.Markdown object>"
      ]
     },
     "metadata": {},
     "output_type": "display_data"
    },
    {
     "data": {
      "text/markdown": [
       "---"
      ],
      "text/plain": [
       "<IPython.core.display.Markdown object>"
      ]
     },
     "metadata": {},
     "output_type": "display_data"
    },
    {
     "data": {
      "text/markdown": [
       "into ultra-thin sections (60-80 nm). These sections were collected, mounted on 200-mesh copper grids (Electron Microscopy Sciences), and contrasted with Reynold's lead citrate. A FEI G2 **Tecnai** **transmission** electron microscope (FEI, Hillsboro, OR), operating at 80 kV, was used to examine and image the grids. Fluor 488-conjugated chicken anti-rabbit IgG antibody (Life Technologies). Images were acquired using"
      ],
      "text/plain": [
       "<IPython.core.display.Markdown object>"
      ]
     },
     "metadata": {},
     "output_type": "display_data"
    },
    {
     "data": {
      "text/markdown": [
       "---"
      ],
      "text/plain": [
       "<IPython.core.display.Markdown object>"
      ]
     },
     "metadata": {},
     "output_type": "display_data"
    },
    {
     "data": {
      "text/markdown": [
       "grids. Sections were stained with 2% uranyl acetate for 5 min and with Sato's lead stain for 1 min. Grids were viewed using either a **Tecnai** G 2 Spirit BioTWIN **transmission** electron microscope equipped with an Eagle 4k high-sensitivity (HS) digital camera (FEI, Hillsboro, OR) or a Phillips CM-20 camera equipped with a 2k charge-coupled device (CCD).\n",
       "\n",
       "Percentages found"
      ],
      "text/plain": [
       "<IPython.core.display.Markdown object>"
      ]
     },
     "metadata": {},
     "output_type": "display_data"
    },
    {
     "data": {
      "text/markdown": [
       "---"
      ],
      "text/plain": [
       "<IPython.core.display.Markdown object>"
      ]
     },
     "metadata": {},
     "output_type": "display_data"
    },
    {
     "data": {
      "text/markdown": [
       "using a Ty90 rotor (Beckman). The pelleted viral particles were dissolved in 100 μl phosphate-buffered saline (PBS), stained with 2% phosphtungstic acid (pH 7.0) and examined using a **Tecnai** **transmission** electron microscope (FEI) at 200 kV.\n",
       "\n",
       "Cell lines used for this study and their culture conditions are summarized in Extended Data Table 5 . Virus titer was determined in Vero E6 cells"
      ],
      "text/plain": [
       "<IPython.core.display.Markdown object>"
      ]
     },
     "metadata": {},
     "output_type": "display_data"
    },
    {
     "data": {
      "text/markdown": [
       "---"
      ],
      "text/plain": [
       "<IPython.core.display.Markdown object>"
      ]
     },
     "metadata": {},
     "output_type": "display_data"
    },
    {
     "data": {
      "text/markdown": [
       "and concentrated/purified by sucrose gradient centrifugation. The pelleted viral particles were dissolved in 100 μl PBS, stained with 2% phosphtungstic acid (pH 7.0) and examined directly using a **Tecnai** **transmission** electron microscope (FEI) at 200 kV. Determination of virus infectivity in HeLa cells with and without the expression of ACE2 (abbreviations: h, human; c, civet; and b, bat). ACE2 expression was"
      ],
      "text/plain": [
       "<IPython.core.display.Markdown object>"
      ]
     },
     "metadata": {},
     "output_type": "display_data"
    },
    {
     "data": {
      "text/markdown": [
       "---"
      ],
      "text/plain": [
       "<IPython.core.display.Markdown object>"
      ]
     },
     "metadata": {},
     "output_type": "display_data"
    },
    {
     "data": {
      "text/markdown": [
       "## superspreaders"
      ],
      "text/plain": [
       "<IPython.core.display.Markdown object>"
      ]
     },
     "metadata": {},
     "output_type": "display_data"
    },
    {
     "data": {
      "text/markdown": [
       "are notably seen to be amplified in healthcare settings and show to have some degree of **transmission** heterogeneity where **superspreaders** are a hallmark [11] . Currently, there are no reliable antiviral drugs or vaccines available for either coronaviruses, thus rapid diagnosis has been fundamental in managing outbreaks [19] . However"
      ],
      "text/plain": [
       "<IPython.core.display.Markdown object>"
      ]
     },
     "metadata": {},
     "output_type": "display_data"
    },
    {
     "data": {
      "text/markdown": [
       "---"
      ],
      "text/plain": [
       "<IPython.core.display.Markdown object>"
      ]
     },
     "metadata": {},
     "output_type": "display_data"
    },
    {
     "data": {
      "text/markdown": [
       "methods (Additional file 1).\n",
       "\n",
       "Transmission trees provide detailed information on the epidemiological links between cases, help identify **superspreaders**, and highlight the duration of an outbreak in terms of disease generations. The **transmission** trees used in our analyses have been previously published in ref. [11] . The South Korea MERS outbreak took place in the summer of 2015 from May to July [22] [23] [24"
      ],
      "text/plain": [
       "<IPython.core.display.Markdown object>"
      ]
     },
     "metadata": {},
     "output_type": "display_data"
    },
    {
     "data": {
      "text/markdown": [
       "---"
      ],
      "text/plain": [
       "<IPython.core.display.Markdown object>"
      ]
     },
     "metadata": {},
     "output_type": "display_data"
    },
    {
     "data": {
      "text/markdown": [
       "During SARS outbreaks in Toronto and Taiwan, certain persons were very efficient at transmitting SARS-CoV and were named \"**Superspreaders**\" (McDonald et al., 2004) . A total of 83.2% of the **transmission** events were epidemiologically linked to five \"**superspreaders**, \" all of whom had pneumonia diagnosed at the first medical consultation.\n",
       "\n",
       "Unfortunately, the problem of bat-borne viruses is not restricted to CoVs. Among"
      ],
      "text/plain": [
       "<IPython.core.display.Markdown object>"
      ]
     },
     "metadata": {},
     "output_type": "display_data"
    },
    {
     "data": {
      "text/markdown": [
       "---"
      ],
      "text/plain": [
       "<IPython.core.display.Markdown object>"
      ]
     },
     "metadata": {},
     "output_type": "display_data"
    },
    {
     "data": {
      "text/markdown": [
       "human activities on the ecosystems is unlikely to abate in SEA, it is necessary to increase CoV surveillance in wildlife, cattle, pets and humans to better understand the dynamics of interspecies **transmission** and improve risk assessment, early warning and intervention (Devaux, 2012) . It will certainly be crucial to pay special attention to \"**superspreaders**\" who are very efficient at transmitting CoVs through exposure to"
      ],
      "text/plain": [
       "<IPython.core.display.Markdown object>"
      ]
     },
     "metadata": {},
     "output_type": "display_data"
    },
    {
     "data": {
      "text/markdown": [
       "---"
      ],
      "text/plain": [
       "<IPython.core.display.Markdown object>"
      ]
     },
     "metadata": {},
     "output_type": "display_data"
    },
    {
     "data": {
      "text/markdown": [
       "will be bigger-it might be difficult to tell Our dynamics model is simplified in many aspects, such as ignoring the age variation in transmissibility and **superspreaders**. 27, 28, 31 Although **transmission** was only taken place in hospitals, our model Lee et al. 28"
      ],
      "text/plain": [
       "<IPython.core.display.Markdown object>"
      ]
     },
     "metadata": {},
     "output_type": "display_data"
    },
    {
     "data": {
      "text/markdown": [
       "---"
      ],
      "text/plain": [
       "<IPython.core.display.Markdown object>"
      ]
     },
     "metadata": {},
     "output_type": "display_data"
    },
    {
     "data": {
      "text/markdown": [
       "## spreaders"
      ],
      "text/plain": [
       "<IPython.core.display.Markdown object>"
      ]
     },
     "metadata": {},
     "output_type": "display_data"
    },
    {
     "data": {
      "text/markdown": [
       "contributing to a wide number of laboratory-confirmed cases. In 2015, the MERS-CoV outbreak in South Korea involved 186 cases which included 38 fatalities. A total of 83% cases of **transmission** were due to five super **spreaders**, and 44% of 186 cases were in the patients those who were experienced nosocomial transmission at 16 hospitals. The epidemic lasted for 2 months and"
      ],
      "text/plain": [
       "<IPython.core.display.Markdown object>"
      ]
     },
     "metadata": {},
     "output_type": "display_data"
    },
    {
     "data": {
      "text/markdown": [
       "---"
      ],
      "text/plain": [
       "<IPython.core.display.Markdown object>"
      ]
     },
     "metadata": {},
     "output_type": "display_data"
    },
    {
     "data": {
      "text/markdown": [
       "48.9%) ultimately participated in the study ( Figure 1 ). Those who refused to participate have been described in another study [20] .\n",
       "\n",
       "The study individuals were prioritized in groups according to the **transmission** intensity of the MERS case they were exposed to, as follows: contact with super-spreading events (5 or more individuals infected) [21] , contact with **spreaders** who infected 1 to 4 individuals"
      ],
      "text/plain": [
       "<IPython.core.display.Markdown object>"
      ]
     },
     "metadata": {},
     "output_type": "display_data"
    },
    {
     "data": {
      "text/markdown": [
       "---"
      ],
      "text/plain": [
       "<IPython.core.display.Markdown object>"
      ]
     },
     "metadata": {},
     "output_type": "display_data"
    },
    {
     "data": {
      "text/markdown": [
       "it is not known whether the spreading events are attributable to host factors such as clinical manifestations or epidemiologic factors such as duration of the nonisolated period (8) . To understand the **transmission** risk of MERS-CoV in healthcare settings, we assessed the clinical and epidemiologic characteristics of non-**spreaders**, **spreaders**, and super-**spreaders** during the Korean outbreak.\n",
       "\n",
       "All laboratory-confirmed cases were admitted"
      ],
      "text/plain": [
       "<IPython.core.display.Markdown object>"
      ]
     },
     "metadata": {},
     "output_type": "display_data"
    },
    {
     "data": {
      "text/markdown": [
       "---"
      ],
      "text/plain": [
       "<IPython.core.display.Markdown object>"
      ]
     },
     "metadata": {},
     "output_type": "display_data"
    },
    {
     "data": {
      "text/markdown": [
       "limited a direct evaluation of the degree of viral shedding, which could be another limitation.\n",
       "\n",
       "In conclusion, high fever, more extensive chest infiltrates, and delay in isolation were associated with the **transmission** of MERS-CoV. Nonisolated in-hospital days were the only parameter that tended to be associated with super-**spreaders** compared with usual-**spreaders**. Early active quarantine might help control a future"
      ],
      "text/plain": [
       "<IPython.core.display.Markdown object>"
      ]
     },
     "metadata": {},
     "output_type": "display_data"
    },
    {
     "data": {
      "text/markdown": [
       "---"
      ],
      "text/plain": [
       "<IPython.core.display.Markdown object>"
      ]
     },
     "metadata": {},
     "output_type": "display_data"
    },
    {
     "data": {
      "text/markdown": [
       "reported for sustained person-to-person transmission. 58 However, during the 2015 MERS-CoV outbreak in the Republic of Korea it was demonstrated that among 186 cases, 83.2% of the **transmission** events were linked to only 5 super-**spreaders**, all of whom had pneumonia at presentation and contacted hundreds of people, adding evidence to the person-to-person transmission in MERS-CoV"
      ],
      "text/plain": [
       "<IPython.core.display.Markdown object>"
      ]
     },
     "metadata": {},
     "output_type": "display_data"
    },
    {
     "data": {
      "text/markdown": [
       "---"
      ],
      "text/plain": [
       "<IPython.core.display.Markdown object>"
      ]
     },
     "metadata": {},
     "output_type": "display_data"
    },
    {
     "data": {
      "text/markdown": [
       "## crossspecies"
      ],
      "text/plain": [
       "<IPython.core.display.Markdown object>"
      ]
     },
     "metadata": {},
     "output_type": "display_data"
    },
    {
     "data": {
      "text/markdown": [
       "bats carrying CoVs, two novel SL-CoVs were identified in the Rhinolophus pusillus specimens from Zhoushan city, Zhejiang Province, China; subsequently, a rat infection model was utilized to assess the **crossspecies** **transmission** potential of the viruses.\n",
       "\n",
       "Between 2015 and 2017, 334 bats were sampled from Zhoushan, China. These bats belonged to the species Rhinolophus pusillus as determined by the sequences of the mitochondrial"
      ],
      "text/plain": [
       "<IPython.core.display.Markdown object>"
      ]
     },
     "metadata": {},
     "output_type": "display_data"
    },
    {
     "data": {
      "text/markdown": [
       "---"
      ],
      "text/plain": [
       "<IPython.core.display.Markdown object>"
      ]
     },
     "metadata": {},
     "output_type": "display_data"
    },
    {
     "data": {
      "text/markdown": [
       "that common core interactions define the specificity for hAPN and that the peripheral RBD sequence variation is accommodated by loop plasticity. The results provide insight into immune evasion and the **crossspecies** **transmission** of 229E and related coronaviruses. We also find that the 229E S-protein can expose a portion of its helical core to solvent. This is undoubtedly facilitated by hydrophilic subunit interfaces"
      ],
      "text/plain": [
       "<IPython.core.display.Markdown object>"
      ]
     },
     "metadata": {},
     "output_type": "display_data"
    },
    {
     "data": {
      "text/markdown": [
       "---"
      ],
      "text/plain": [
       "<IPython.core.display.Markdown object>"
      ]
     },
     "metadata": {},
     "output_type": "display_data"
    },
    {
     "data": {
      "text/markdown": [
       "and is a constant threat to the poultry industry. Coronavirus was traditionally considered to have narrow host specificities [2] . However, the outbreaks of severe acute respiratory syndrome (SARS), a serious zoonotic **transmission** event caused by a novel coronavirus, demonstrate that a certain coronvirus species may exhibit wider host specificities and suggests the possibility of **crossspecies** transmission of animal coronaviruses to human [3, 4"
      ],
      "text/plain": [
       "<IPython.core.display.Markdown object>"
      ]
     },
     "metadata": {},
     "output_type": "display_data"
    },
    {
     "data": {
      "text/markdown": [
       "---"
      ],
      "text/plain": [
       "<IPython.core.display.Markdown object>"
      ]
     },
     "metadata": {},
     "output_type": "display_data"
    },
    {
     "data": {
      "text/markdown": [
       "HCoV-229E (α-coronaviruses) as well as HCoV-OC43 and HCoV-HKU1 (β-coronaviruses). Currently, no specific antiviral treatments or vaccines are available to combat any human coronavirus. Furthermore, future **crossspecies** **transmission** events of coronaviruses seem likely given the large reservoir found in bats [5] [6] [7] . Studying coronaviruses will therefore help in understanding the principles governing cross-species transmission and adaptation to"
      ],
      "text/plain": [
       "<IPython.core.display.Markdown object>"
      ]
     },
     "metadata": {},
     "output_type": "display_data"
    },
    {
     "data": {
      "text/markdown": [
       "---"
      ],
      "text/plain": [
       "<IPython.core.display.Markdown object>"
      ]
     },
     "metadata": {},
     "output_type": "display_data"
    },
    {
     "data": {
      "text/markdown": [
       "## phosphotungstic"
      ],
      "text/plain": [
       "<IPython.core.display.Markdown object>"
      ]
     },
     "metadata": {},
     "output_type": "display_data"
    },
    {
     "data": {
      "text/markdown": [
       "plates, harvested at 24 hpi, were negatively stained. The virions were stained with 2% **phosphotungstic** acid (pH 6.8) for 1.5 min and examined using a Hitachi Model H-7650 **transmission** electron microscope (TEM). The virus samples were observed according to the methods described in earlier studies [20] .\n",
       "\n",
       "Viral RNA was extracted from the isolated third-passage PDCoV strain CHN-JS-2017"
      ],
      "text/plain": [
       "<IPython.core.display.Markdown object>"
      ]
     },
     "metadata": {},
     "output_type": "display_data"
    },
    {
     "data": {
      "text/markdown": [
       "---"
      ],
      "text/plain": [
       "<IPython.core.display.Markdown object>"
      ]
     },
     "metadata": {},
     "output_type": "display_data"
    },
    {
     "data": {
      "text/markdown": [
       "PBS containing 1% BSA. Bound rabbit IgG was detected with protein A carrying 15-nm gold particles. After negative staining with 2% **phosphotungstic** acid, grids were viewed in a FEI T12 **transmission** electron microscope at 120 kV"
      ],
      "text/plain": [
       "<IPython.core.display.Markdown object>"
      ]
     },
     "metadata": {},
     "output_type": "display_data"
    },
    {
     "data": {
      "text/markdown": [
       "---"
      ],
      "text/plain": [
       "<IPython.core.display.Markdown object>"
      ]
     },
     "metadata": {},
     "output_type": "display_data"
    },
    {
     "data": {
      "text/markdown": [
       "h at 4 • C using the ultracentrifuge MTX150 (Thermo Fisher Scientific, Waltham, MA, USA). Viral particles were resuspended in PBS, negatively stained with 2% sodium **phosphotungstic** acid and examined with a **transmission** electron microscope (JEM-1200EX, Olympus, Japan).\n",
       "\n",
       "Total RNA was extracted from PDCoV-infected LLC-PK cell cultures using a UNlQ-10 Column TRIzol Total RNA Isolation Kit (Sangon, China), then was"
      ],
      "text/plain": [
       "<IPython.core.display.Markdown object>"
      ]
     },
     "metadata": {},
     "output_type": "display_data"
    },
    {
     "data": {
      "text/markdown": [
       "---"
      ],
      "text/plain": [
       "<IPython.core.display.Markdown object>"
      ]
     },
     "metadata": {},
     "output_type": "display_data"
    },
    {
     "data": {
      "text/markdown": [
       "DI water, placed on 400-mesh, carbon-stabilized grids and negatively stained for 30-60 seconds with 2% **phosphotungstic** acid solution. The grids were examined on a JEOL JEM-100CX II **transmission** electron microscope and evaluated by an experienced electron microscopist.\n",
       "\n",
       "Data were analyzed using commercial software (SigmaPlot; SPSS, Chicago, Illinois). Normality of the data and equality of variances were assessed using the"
      ],
      "text/plain": [
       "<IPython.core.display.Markdown object>"
      ]
     },
     "metadata": {},
     "output_type": "display_data"
    },
    {
     "data": {
      "text/markdown": [
       "---"
      ],
      "text/plain": [
       "<IPython.core.display.Markdown object>"
      ]
     },
     "metadata": {},
     "output_type": "display_data"
    },
    {
     "data": {
      "text/markdown": [
       "## gatan"
      ],
      "text/plain": [
       "<IPython.core.display.Markdown object>"
      ]
     },
     "metadata": {},
     "output_type": "display_data"
    },
    {
     "data": {
      "text/markdown": [
       "2-5 seconds with filter paper, grids were plunged into liquid ethane cooled by liquid nitrogen, using a custom built gravityoperated freezing device. Specimens were transferred to a Tecnai 20 G2 **transmission** electron microscope (FEI) operated at 200 kV, equipped with a **Gatan** 626.DH low-temperature specimen holder. Observations were made at temperatures of ,2185uC and images recorded at 29,0006 magnification"
      ],
      "text/plain": [
       "<IPython.core.display.Markdown object>"
      ]
     },
     "metadata": {},
     "output_type": "display_data"
    },
    {
     "data": {
      "text/markdown": [
       "---"
      ],
      "text/plain": [
       "<IPython.core.display.Markdown object>"
      ]
     },
     "metadata": {},
     "output_type": "display_data"
    },
    {
     "data": {
      "text/markdown": [
       "performed overnight at 4°C and immediately before vitrification, OG was added to the mixture reaction at a final concentration of 18 mM. Data were acquired using an FEI Titan Krios **transmission** electron microscope operated at 300 kV and equipped with a **Gatan** K2 Summit direct detector and **Gatan** Quantum GIF energy filter, operated in zero-loss mode with a slit width of"
      ],
      "text/plain": [
       "<IPython.core.display.Markdown object>"
      ]
     },
     "metadata": {},
     "output_type": "display_data"
    },
    {
     "data": {
      "text/markdown": [
       "---"
      ],
      "text/plain": [
       "<IPython.core.display.Markdown object>"
      ]
     },
     "metadata": {},
     "output_type": "display_data"
    },
    {
     "data": {
      "text/markdown": [
       "30s at 20mA. Thereafter, grids were plunge-frozen in liquid ethane using a **Gatan** CP3 and a blotting time of 3.5 s. Data was acquired using an FEI Titan Krios **transmission** electron microscope operated at 300 kV and equipped with a **Gatan** K2 Summit direct detector. Coma-free alignment was performed using the Leginon software 33 . Automated data collection was carried out"
      ],
      "text/plain": [
       "<IPython.core.display.Markdown object>"
      ]
     },
     "metadata": {},
     "output_type": "display_data"
    },
    {
     "data": {
      "text/markdown": [
       "---"
      ],
      "text/plain": [
       "<IPython.core.display.Markdown object>"
      ]
     },
     "metadata": {},
     "output_type": "display_data"
    },
    {
     "data": {
      "text/markdown": [
       "## jem"
      ],
      "text/plain": [
       "<IPython.core.display.Markdown object>"
      ]
     },
     "metadata": {},
     "output_type": "display_data"
    },
    {
     "data": {
      "text/markdown": [
       "h at 4 • C using the ultracentrifuge MTX150 (Thermo Fisher Scientific, Waltham, MA, USA). Viral particles were resuspended in PBS, negatively stained with 2% sodium phosphotungstic acid and examined with a **transmission** electron microscope (**JEM**-1200EX, Olympus, Japan).\n",
       "\n",
       "Total RNA was extracted from PDCoV-infected LLC-PK cell cultures using a UNlQ-10 Column TRIzol Total RNA Isolation Kit (Sangon, China), then was"
      ],
      "text/plain": [
       "<IPython.core.display.Markdown object>"
      ]
     },
     "metadata": {},
     "output_type": "display_data"
    },
    {
     "data": {
      "text/markdown": [
       "---"
      ],
      "text/plain": [
       "<IPython.core.display.Markdown object>"
      ]
     },
     "metadata": {},
     "output_type": "display_data"
    },
    {
     "data": {
      "text/markdown": [
       "previously described (11) . It was cut on ultramicrotome (RMC MT-XL) at 65 nm. Ultrathin sections were stained with saturated 4% uranyl acetate and 4% lead citrate before examination with a **transmission** electron microscope (**JEM**-1400; JEOL USA Inc., Peabody, MA, USA) at 60 kV. Spherical particles ranging 77 to 131 nm in diameter were observed within the cytoplasm of infected cells (Fig"
      ],
      "text/plain": [
       "<IPython.core.display.Markdown object>"
      ]
     },
     "metadata": {},
     "output_type": "display_data"
    },
    {
     "data": {
      "text/markdown": [
       "---"
      ],
      "text/plain": [
       "<IPython.core.display.Markdown object>"
      ]
     },
     "metadata": {},
     "output_type": "display_data"
    },
    {
     "data": {
      "text/markdown": [
       "DI water, placed on 400-mesh, carbon-stabilized grids and negatively stained for 30-60 seconds with 2% phosphotungstic acid solution. The grids were examined on a JEOL **JEM**-100CX II **transmission** electron microscope and evaluated by an experienced electron microscopist.\n",
       "\n",
       "Data were analyzed using commercial software (SigmaPlot; SPSS, Chicago, Illinois). Normality of the data and equality of variances were assessed using the"
      ],
      "text/plain": [
       "<IPython.core.display.Markdown object>"
      ]
     },
     "metadata": {},
     "output_type": "display_data"
    },
    {
     "data": {
      "text/markdown": [
       "---"
      ],
      "text/plain": [
       "<IPython.core.display.Markdown object>"
      ]
     },
     "metadata": {},
     "output_type": "display_data"
    },
    {
     "data": {
      "text/markdown": [
       "## ultramicrotome"
      ],
      "text/plain": [
       "<IPython.core.display.Markdown object>"
      ]
     },
     "metadata": {},
     "output_type": "display_data"
    },
    {
     "data": {
      "text/markdown": [
       "previously described (11) . It was cut on **ultramicrotome** (RMC MT-XL) at 65 nm. Ultrathin sections were stained with saturated 4% uranyl acetate and 4% lead citrate before examination with a **transmission** electron microscope (JEM-1400; JEOL USA Inc., Peabody, MA, USA) at 60 kV. Spherical particles ranging 77 to 131 nm in diameter were observed within the cytoplasm of infected cells (Fig"
      ],
      "text/plain": [
       "<IPython.core.display.Markdown object>"
      ]
     },
     "metadata": {},
     "output_type": "display_data"
    },
    {
     "data": {
      "text/markdown": [
       "---"
      ],
      "text/plain": [
       "<IPython.core.display.Markdown object>"
      ]
     },
     "metadata": {},
     "output_type": "display_data"
    },
    {
     "data": {
      "text/markdown": [
       "plastic block was cut to 70-nm thick sections using an **ultramicrotome** and mounted on a 100mesh nickel grid, and electrostained with 5% uranyl acetate.\n",
       "\n",
       "The sections were observed with a **transmission** electron microscope (Libra120, Carl Zeiss, Germany) at an acceleration voltage of 120 kV [13] [14] [15] . copies in the samples before inoculation was 7.6 × 10 8 and 3.9 × 10"
      ],
      "text/plain": [
       "<IPython.core.display.Markdown object>"
      ]
     },
     "metadata": {},
     "output_type": "display_data"
    },
    {
     "data": {
      "text/markdown": [
       "---"
      ],
      "text/plain": [
       "<IPython.core.display.Markdown object>"
      ]
     },
     "metadata": {},
     "output_type": "display_data"
    },
    {
     "data": {
      "text/markdown": [
       "60°C. Slides were cut with **ultramicrotome** (Ultracut Uct, Leica, Deerfield, IL), stained with uranyl acetate and lead citrate, and metaled. The ultrathin sections of infected Vero cells were observed through **transmission** electron microscopy (Hitachi H7000).\n",
       "\n",
       "Sequencing of the complete SARS-CoV HSR1 genome was performed by using 68 partially overlapping primers encompassing the whole viral genome. A 5′ rapid amplification of PCR"
      ],
      "text/plain": [
       "<IPython.core.display.Markdown object>"
      ]
     },
     "metadata": {},
     "output_type": "display_data"
    },
    {
     "data": {
      "text/markdown": [
       "---"
      ],
      "text/plain": [
       "<IPython.core.display.Markdown object>"
      ]
     },
     "metadata": {},
     "output_type": "display_data"
    },
    {
     "data": {
      "text/markdown": [
       "## cauchemez"
      ],
      "text/plain": [
       "<IPython.core.display.Markdown object>"
      ]
     },
     "metadata": {},
     "output_type": "display_data"
    },
    {
     "data": {
      "text/markdown": [
       "WHO] , 2019a).\n",
       "\n",
       "Majority of the identified MERS-CoV cases are nosocomially acquired via direct close contact with infected patients (Chowell et al., 2015; **Cauchemez** et al., 2016) , whereas cases of zoonotic **transmission** from dromedary camels to humans were reported primarily in Saudi Arabia, where human-camel interaction is frequent (Gossner et al., 2016) . Hitherto, no specific treatments and vaccines are available for MERS"
      ],
      "text/plain": [
       "<IPython.core.display.Markdown object>"
      ]
     },
     "metadata": {},
     "output_type": "display_data"
    },
    {
     "data": {
      "text/markdown": [
       "---"
      ],
      "text/plain": [
       "<IPython.core.display.Markdown object>"
      ]
     },
     "metadata": {},
     "output_type": "display_data"
    },
    {
     "data": {
      "text/markdown": [
       "one human and has been reported in majority of human related cases (Bauch and Oraby, 2013; Breban et al., 2013; **Cauchemez** et al., 2014; Chowell and Nishiura, 2014) . The mode of **transmission** of the virus is illustrated in Figure 3 .\n",
       "\n",
       "The serological analysis and extensive investigation of those potentially exposed to the patients suggested that there were no secondary infections [World Health Organization"
      ],
      "text/plain": [
       "<IPython.core.display.Markdown object>"
      ]
     },
     "metadata": {},
     "output_type": "display_data"
    },
    {
     "data": {
      "text/markdown": [
       "---"
      ],
      "text/plain": [
       "<IPython.core.display.Markdown object>"
      ]
     },
     "metadata": {},
     "output_type": "display_data"
    },
    {
     "data": {
      "text/markdown": [
       "## jeol"
      ],
      "text/plain": [
       "<IPython.core.display.Markdown object>"
      ]
     },
     "metadata": {},
     "output_type": "display_data"
    },
    {
     "data": {
      "text/markdown": [
       "previously described (11) . It was cut on ultramicrotome (RMC MT-XL) at 65 nm. Ultrathin sections were stained with saturated 4% uranyl acetate and 4% lead citrate before examination with a **transmission** electron microscope (JEM-1400; **JEOL** USA Inc., Peabody, MA, USA) at 60 kV. Spherical particles ranging 77 to 131 nm in diameter were observed within the cytoplasm of infected cells (Fig"
      ],
      "text/plain": [
       "<IPython.core.display.Markdown object>"
      ]
     },
     "metadata": {},
     "output_type": "display_data"
    },
    {
     "data": {
      "text/markdown": [
       "---"
      ],
      "text/plain": [
       "<IPython.core.display.Markdown object>"
      ]
     },
     "metadata": {},
     "output_type": "display_data"
    },
    {
     "data": {
      "text/markdown": [
       "DI water, placed on 400-mesh, carbon-stabilized grids and negatively stained for 30-60 seconds with 2% phosphotungstic acid solution. The grids were examined on a **JEOL** JEM-100CX II **transmission** electron microscope and evaluated by an experienced electron microscopist.\n",
       "\n",
       "Data were analyzed using commercial software (SigmaPlot; SPSS, Chicago, Illinois). Normality of the data and equality of variances were assessed using the"
      ],
      "text/plain": [
       "<IPython.core.display.Markdown object>"
      ]
     },
     "metadata": {},
     "output_type": "display_data"
    },
    {
     "data": {
      "text/markdown": [
       "---"
      ],
      "text/plain": [
       "<IPython.core.display.Markdown object>"
      ]
     },
     "metadata": {},
     "output_type": "display_data"
    },
    {
     "data": {
      "text/markdown": [
       "## subcritical"
      ],
      "text/plain": [
       "<IPython.core.display.Markdown object>"
      ]
     },
     "metadata": {},
     "output_type": "display_data"
    },
    {
     "data": {
      "text/markdown": [
       "study (61); whereas, an exponential growth pattern was estimated for Hubei (p~1.0) (61).\n",
       "\n",
       "A previous study on the 2015 MERS outbreak in South Korea reported substantial potential for superspreading **transmission** despite a **subcritical** Rt (62) . The lower estimate of the dispersion parameter in our study also indicate significant transmission heterogeneity in Singapore. Superspreading events of MERS-CoV and SARS-CoV associated"
      ],
      "text/plain": [
       "<IPython.core.display.Markdown object>"
      ]
     },
     "metadata": {},
     "output_type": "display_data"
    },
    {
     "data": {
      "text/markdown": [
       "---"
      ],
      "text/plain": [
       "<IPython.core.display.Markdown object>"
      ]
     },
     "metadata": {},
     "output_type": "display_data"
    }
   ],
   "source": [
    "def index(string, pat):\n",
    "    try:\n",
    "        return string.lower().index(pat)\n",
    "    except:\n",
    "        return -1\n",
    "\n",
    "def highlight(txt, pat):\n",
    "    return re.sub(f'({pat})', '**\\g<0>**', txt, flags=re.I)\n",
    "    \n",
    "for k, l in sorted(d.items(), key=lambda x: -len(x[1])):\n",
    "    dm(f'## {k}')\n",
    "    for match in l:\n",
    "        lindex = max(50, len(match.left) - 1 - index(match.left, k))\n",
    "        rindex = max(50, index(match.right, k))\n",
    "        dm(f\"{highlight(match.left, k)} **{match.center}** {highlight(match.right, k)}\")\n",
    "        dm('---')\n",
    "\n"
   ]
  },
  {
   "cell_type": "code",
   "execution_count": 89,
   "metadata": {},
   "outputs": [
    {
     "ename": "ValueError",
     "evalue": "substring not found",
     "output_type": "error",
     "traceback": [
      "\u001b[0;31m---------------------------------------------------------------------------\u001b[0m",
      "\u001b[0;31mValueError\u001b[0m                                Traceback (most recent call last)",
      "\u001b[0;32m<ipython-input-89-d6231bf6dbcf>\u001b[0m in \u001b[0;36m<module>\u001b[0;34m\u001b[0m\n\u001b[0;32m----> 1\u001b[0;31m \u001b[0mmatch\u001b[0m\u001b[0;34m.\u001b[0m\u001b[0mright\u001b[0m\u001b[0;34m.\u001b[0m\u001b[0mindex\u001b[0m\u001b[0;34m(\u001b[0m\u001b[0mk\u001b[0m\u001b[0;34m)\u001b[0m\u001b[0;34m\u001b[0m\u001b[0;34m\u001b[0m\u001b[0m\n\u001b[0m",
      "\u001b[0;31mValueError\u001b[0m: substring not found"
     ]
    }
   ],
   "source": [
    "match.right.index(k)"
   ]
  },
  {
   "cell_type": "code",
   "execution_count": null,
   "metadata": {},
   "outputs": [],
   "source": []
  }
 ],
 "metadata": {
  "kernelspec": {
   "display_name": "Python 3",
   "language": "python",
   "name": "python3"
  },
  "language_info": {
   "codemirror_mode": {
    "name": "ipython",
    "version": 3
   },
   "file_extension": ".py",
   "mimetype": "text/x-python",
   "name": "python",
   "nbconvert_exporter": "python",
   "pygments_lexer": "ipython3",
   "version": "3.7.4"
  }
 },
 "nbformat": 4,
 "nbformat_minor": 4
}
